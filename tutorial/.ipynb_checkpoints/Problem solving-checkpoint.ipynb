{
 "cells": [
  {
   "cell_type": "code",
   "execution_count": 65,
   "metadata": {},
   "outputs": [
    {
     "name": "stdout",
     "output_type": "stream",
     "text": [
      "[56 43 31 95 63 88 97 69 55 28]\n",
      "69 9 6\n",
      "100\n",
      "9 6 index of array\n"
     ]
    },
    {
     "data": {
      "text/plain": [
       "''"
      ]
     },
     "execution_count": 65,
     "metadata": {},
     "output_type": "execute_result"
    }
   ],
   "source": [
    "#Finding the maximum difference between two values in an array\n",
    "\n",
    "import numpy as np\n",
    "array = np.random.randint(100, size=10)\n",
    "print(array)\n",
    "\n",
    "#find maximum difference\n",
    "difference_1 = 0\n",
    "j_max = 1\n",
    "i_max = 0\n",
    "len_array = 0\n",
    "for i,x in enumerate(array):\n",
    "    for j, y in enumerate(array):\n",
    "        difference_2 = y-x\n",
    "        len_array+=1\n",
    "        if difference_2 > difference_1:\n",
    "            difference_1 = difference_2\n",
    "            j_max = j\n",
    "            i_max = i\n",
    "print(difference_1, i_max, j_max)\n",
    "print(len_array)\n",
    "\n",
    "array1 = np.sort(array)\n",
    "\n",
    "first=array1[0]\n",
    "last=array1[len(array)-1]\n",
    "print(list(array).index(first),list(array).index(last),'index of array')\n",
    "\n",
    "            "
   ]
  }
 ],
 "metadata": {
  "kernelspec": {
   "display_name": "Python 3",
   "language": "python",
   "name": "python3"
  },
  "language_info": {
   "codemirror_mode": {
    "name": "ipython",
    "version": 3
   },
   "file_extension": ".py",
   "mimetype": "text/x-python",
   "name": "python",
   "nbconvert_exporter": "python",
   "pygments_lexer": "ipython3",
   "version": "3.6.5"
  }
 },
 "nbformat": 4,
 "nbformat_minor": 2
}
