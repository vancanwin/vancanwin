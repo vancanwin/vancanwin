{
 "cells": [
  {
   "cell_type": "code",
   "execution_count": null,
   "id": "077edc16-485c-4a8f-b9cb-daf0a42da7c8",
   "metadata": {},
   "outputs": [],
   "source": []
  }
 ],
 "metadata": {
  "kernelspec": {
   "display_name": "Bash",
   "language": "bash",
   "name": "bash"
  },
  "language_info": {
   "name": ""
  }
 },
 "nbformat": 4,
 "nbformat_minor": 5
}
