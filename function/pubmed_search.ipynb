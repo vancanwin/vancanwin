{
 "cells": [
  {
   "cell_type": "code",
   "execution_count": 112,
   "id": "b237ecb6-23d3-4f14-8956-d01d5c9c67fb",
   "metadata": {},
   "outputs": [
    {
     "name": "stdout",
     "output_type": "stream",
     "text": [
      "<class 'TypeError'>\n",
      "<class 'TypeError'>\n",
      "<class 'TypeError'>\n",
      "<class 'TypeError'>\n",
      "<class 'TypeError'>\n"
     ]
    }
   ],
   "source": [
    "from pymed import PubMed\n",
    "import pandas as pd\n",
    "import json, git\n",
    "pubmed = PubMed(tool=\"MyTool\", email=\"van@patientled.org\")\n",
    "results = pubmed.query(\"EYS\", max_results=500)\n",
    "\n",
    "columns = ['title','authors','doi','publication_date','journal']\n",
    "\n",
    "df_publication_list = pd.DataFrame([],columns = columns)\n",
    "\n",
    "def only_dict(d):\n",
    "    '''\n",
    "    Convert json string representation of dictionary to a python dict\n",
    "    '''\n",
    "    return ast.literal_eval(d)\n",
    "\n",
    "for article in results:\n",
    "\n",
    "    # Print the type of object we've found (can be either PubMedBookArticle or PubMedArticle)\n",
    "    # print(type(article))\n",
    "\n",
    "    # Print a JSON representation of the object\n",
    "    df = pd.read_json(article.toJSON(), orient=\"index\")\n",
    "    A = pd.DataFrame(df.loc['authors'][0])\n",
    "    try:\n",
    "        A_name = A[['firstname','lastname']].agg(' '.join, axis=1)\n",
    "    except:\n",
    "        print(TypeError)\n",
    "        pass\n",
    "    A_author = \", \".join(A_name.values)\n",
    "    # print(A_author)\n",
    "    df.loc['authors'] = A_author\n",
    "    df2 = df.T\n",
    "  \n",
    "        \n",
    "    df_publication_list = pd.concat([df_publication_list,df2])    \n",
    "    # print(df_publication_list)\n",
    "\n",
    "repo = git.Repo('.', search_parent_directories=True)\n",
    "folder = repo.working_tree_dir +\"\\\\pubmed\\\\\"\n",
    "df_publication_list.to_csv(folder+\"EYS_search.csv\")"
   ]
  },
  {
   "cell_type": "code",
   "execution_count": null,
   "id": "81317706-7a57-4c74-82b0-1ea188c72eef",
   "metadata": {},
   "outputs": [],
   "source": []
  }
 ],
 "metadata": {
  "kernelspec": {
   "display_name": "Python 3 (ipykernel)",
   "language": "python",
   "name": "python3"
  },
  "language_info": {
   "codemirror_mode": {
    "name": "ipython",
    "version": 3
   },
   "file_extension": ".py",
   "mimetype": "text/x-python",
   "name": "python",
   "nbconvert_exporter": "python",
   "pygments_lexer": "ipython3",
   "version": "3.8.13"
  }
 },
 "nbformat": 4,
 "nbformat_minor": 5
}
