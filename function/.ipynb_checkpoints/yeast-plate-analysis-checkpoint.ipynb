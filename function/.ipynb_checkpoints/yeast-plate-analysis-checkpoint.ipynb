{
 "cells": [
  {
   "cell_type": "code",
   "execution_count": 107,
   "id": "6b94c51e-c629-469c-9fed-819082ab0128",
   "metadata": {
    "scrolled": true,
    "tags": []
   },
   "outputs": [],
   "source": [
    "import os\n",
    "import pandas as pd\n",
    "import git\n",
    "import numpy as np\n",
    "\n",
    "\n",
    "\n",
    "# folder = \"C:\\\\Users\\\\Van\\\\Desktop\\\\vancanwin\\\\pgap3cdg\\\\01.20.23\\\\\"\n",
    "\n",
    "def csv_file_adjust(unzipped_folder,filename):\n",
    "    repo = git.Repo('.', search_parent_directories=True)\n",
    "    root_folder = repo.working_tree_dir +\"\\\\yeast-data\\\\\"\n",
    "    folder = root_folder+unzipped_folder+\"\\\\\"\n",
    "    filetype = filename.split(\".\")[-1]\n",
    "    if \"csv\" in filetype:\n",
    "        df = pd.read_csv(folder+filename, on_bad_lines='skip', encoding = \"utf-8\",sep=\"[_,\\t ;|:]\")#,sep =\"[_\\t ;|:]\",engine='python')\n",
    "        df.to_csv(folder+\"\\\\\"+filename.split(\".\")[0]+\".csv\")\n",
    "\n",
    "\n",
    "def isnumber(x):\n",
    "    try:\n",
    "        int(x)\n",
    "        return True\n",
    "    except:\n",
    "        return False\n",
    "    \n",
    "def normalize_plate384(unzipped_folder,filename):\n",
    "    '''Enter file to read plate and normalize data'''\n",
    "    repo = git.Repo('.', search_parent_directories=True)\n",
    "    root_folder = repo.working_tree_dir +\"\\\\yeast-data\\\\\"\n",
    "    folder = unzipped_folder+\"\\\\\"\n",
    "    foldername_sorted = os.path.basename(os.path.normpath(unzipped_folder))\n",
    "    print(\"33 foldername\", foldername_sorted)\n",
    "\n",
    "    filetype = filename.split(\".\")[-1]\n",
    "    df = pd.DataFrame([])\n",
    "    \n",
    "    df = pd.read_csv(folder+filename, on_bad_lines='skip', encoding = \"utf-8\",sep=\"[_,\\t ;|:]\")#,sep =\"[_\\t ;|:]\",engine='python')\n",
    "    col_num = 30\n",
    "    index_start = 0\n",
    "    index_end = 16\n",
    "    column_index_end = 24\n",
    "    df_results_index = 0\n",
    "    for column in range(col_num):\n",
    "        print(\"44 DF column number\", column, type(column), col_num)\n",
    "        # print(df.iloc[:,column])\n",
    "        try:\n",
    "            df_results_index = df[df.iloc[:,column].str.contains('A', na=False)].index#].isin(['A'])].index#\n",
    "            column_index = column+1\n",
    "            print(\"line 50 matching?\",df_results_index)\n",
    "            break\n",
    "        except Exception as e:\n",
    "            print(e)\n",
    "            \n",
    "            pass\n",
    "        # print('checking index', df.iloc[:,column])\n",
    "    for i, index in enumerate(df_results_index):\n",
    "        new_header = df.iloc[index-1,column_index:column_index+column_index_end]\n",
    "        df_results = df.iloc[index+index_start:index+index_end,column_index:column_index+column_index_end] #row,col\n",
    "        df_results = df_results[df_results.applymap(isnumber)]\n",
    "        count_na = df_results.isna().sum().sum()\n",
    "        count_values = df_results.count().sum()\n",
    "\n",
    "        print(\"65 DF NA count:\", count_na, \"65 DF Values count:\", count_values, \"done\")\n",
    "        try:\n",
    "            if  count_na < 100 and count_values > 100:\n",
    "                print(\"68 DF to normalize\",df_results)\n",
    "                df_results = df_results.fillna(0)\n",
    "                df_results = df_results.astype(int)\n",
    "                df_results.columns = new_header\n",
    "                df_median_neg_controls = int(df_results.iloc[:,0:2].stack().median())\n",
    "                df_min = df_results.stack().min()\n",
    "                df_max = df_results.stack().max()\n",
    "                df_range = df_max-df_min\n",
    "                df_results_norm = (df_results - df_min)/df_range\n",
    "                df.iloc[index+index_start:index+index_end,column_index:column_index+column_index_end] = df_results_norm\n",
    "                print(\"78 normalized processed...\",i)\n",
    "            else:\n",
    "                print(\"80 skip normalized data\")\n",
    "                pass\n",
    "        except Exception as e: \n",
    "            print(e)\n",
    "            pass\n",
    "\n",
    "    print(\"86 normalized data directory and name\", unzipped_folder, \"and\", filename)\n",
    "    new_filename = unzipped_folder+\"\\\\\"+filename#.split(\".\")[:-1]\n",
    "    foldername_archive = unzipped_folder.split(\"\\\\\")[-1]\n",
    "    print(\"88 final file directory\", new_filename,filename,foldername_sorted)\n",
    "    filename_directory = root_folder+\"!completed\\\\\"+foldername_sorted+\"\\\\\"+filename.split(\".\")[0]+\"_normalized.\"+filename.split(\".\")[-1]\n",
    "    print(\"91 final name\", filename_directory)\n",
    "    df.to_csv(filename_directory)\n",
    "    \n",
    "    return(df,filename_directory)\n",
    "\n",
    "def zscore_plate384(unzipped_folder,file_directory):\n",
    "    '''Enter file to read plate and normalize data'''\n",
    "    repo = git.Repo('.', search_parent_directories=True)\n",
    "    root_folder = repo.working_tree_dir +\"\\\\yeast-data\\\\\"\n",
    "    folder = unzipped_folder+\"\\\\\"\n",
    "    filetype = \"csv\"\n",
    "    filename = file_directory.split(\"\\\\\")[-1]\n",
    "    foldername_sorted = os.path.basename(os.path.normpath(unzipped_folder))\n",
    "\n",
    "    print(\"100 Filename z-score\",folder+filename, filetype,foldername_sorted)\n",
    "\n",
    "    df = pd.DataFrame([])\n",
    "    df = pd.read_csv(file_directory, encoding = \"utf-8\",sep=',')##root_folder+\"!completed\\\\\"+filename+\"_normalized.\"+filetype,\n",
    "    col_num = 30#df.shape[1]\n",
    "    index_start = 0\n",
    "    index_end = 16\n",
    "    column_index_end = 24\n",
    "  \n",
    "    for column in range(col_num):\n",
    "        print(\"110 z-score column number\", column, type(column))\n",
    "        try:\n",
    "            df_results_index = df[df.iloc[:,column].str.contains('A', na=False,regex=False)].index\n",
    "            column_index = column+1\n",
    "            print(\"line 114 matching?\",df_results_index)\n",
    "            break\n",
    "        except Exception as e:\n",
    "            print(e)\n",
    "            pass\n",
    "    for i, index in enumerate(df_results_index):\n",
    "        new_header = df.iloc[index-1,column_index:column_index+column_index_end]\n",
    "        df_results = df.iloc[index+index_start:index+index_end,column_index:column_index+column_index_end] #row,col\n",
    "        count_na = df_results.isna().sum().sum()\n",
    "        count_values = df_results.count().sum()\n",
    "\n",
    "        print(\"125 zscore NA count:\", count_na, \"Values count:\", count_values, \"done\")\n",
    "        try:\n",
    "            if  count_na < 100 and count_values > 100:\n",
    "\n",
    "                df_results = df_results.fillna(0)\n",
    "                df_results = df_results.astype(float)\n",
    "\n",
    "                df_results.columns = new_header\n",
    "                df_min = df_results.stack().min()\n",
    "                df_max = df_results.stack().max()\n",
    "                df_range = df_max-df_min\n",
    "                df_results_norm = (df_results - df_min)/df_range\n",
    "\n",
    "                df_mean = df_results_norm.stack().mean()\n",
    "                df_std = df_results_norm.stack().std()\n",
    "                df_results_zscore = (df_results_norm - df_mean)/df_std\n",
    "                df.iloc[index+index_start:index+index_end,column_index:column_index+column_index_end] = df_results_zscore\n",
    "                print(\"142 zscore processed...\",i)\n",
    "            else:\n",
    "                print(\"144 zscore skip data\")\n",
    "                pass\n",
    "        except Exception as e: \n",
    "            print(e)\n",
    "            pass\n",
    "\n",
    "\n",
    "    new_filename = unzipped_folder+\"//\"+filename#.split(\".\")[:-1]\n",
    "    foldername_archive = unzipped_folder.split(\"\\\\\")[-1]\n",
    "    print(\"159 z-score final file directory\", new_filename, \"\\nfoldername:\",foldername_archive)\n",
    "    filename_directory = root_folder+\"!completed\\\\\"+foldername_sorted+\"\\\\\"+filename.split(\".\")[0]+\"_zscore.\"+filename.split(\".\")[-1]\n",
    "    print(\"161 z-score final name\", filename_directory)\n",
    "    df.to_csv(filename_directory)\n",
    "    return(df,filename_directory)\n",
    "\n",
    "\n",
    "def index_csv(unzipped_folder,file_directory):\n",
    "    repo = git.Repo('.', search_parent_directories=True)\n",
    "    root_folder = repo.working_tree_dir +\"\\\\yeast-data\\\\\"    \n",
    "    folder = unzipped_folder+\"\\\\\"\n",
    "    filetype = \"csv\"\n",
    "    filename = file_directory.split(\"\\\\\")[-1]\n",
    "    foldername_sorted = os.path.basename(os.path.normpath(unzipped_folder))\n",
    "    print(\"161 Filename z-score\",folder+filename, filetype)\n",
    "\n",
    "    df = pd.DataFrame([])\n",
    "    df = pd.read_csv(file_directory, encoding = \"utf-8\",sep=',')\n",
    "    col_num = 30#df.shape[1]\n",
    "    index_start = 0\n",
    "    index_end = 16\n",
    "    column_index_end = 24\n",
    "    value_list = []\n",
    "    for column in range(col_num):\n",
    "        print(\"171 z-score column number\", column, type(column))\n",
    "        try:\n",
    "            df_results_index = df[df.iloc[:,column].str.contains('A', na=False,regex=False)].index\n",
    "            column_index = column+1\n",
    "            print(\"line 175 matching?\",df_results_index)\n",
    "            break\n",
    "        except Exception as e:\n",
    "            print(e)\n",
    "            pass\n",
    "    for i, index in enumerate(df_results_index):\n",
    "        new_header = df.iloc[index-1,column_index:column_index+column_index_end]\n",
    "        df_results = df.iloc[index+index_start:index+index_end,column_index:column_index+column_index_end] #row,col\n",
    "        count_na = df_results.isna().sum().sum()\n",
    "        count_values = df_results.count().sum()\n",
    "\n",
    "        print(\"186 zscore NA count:\", count_na, \"Values count:\", count_values, \"done\")\n",
    "        try:\n",
    "            if  count_na < 100 and count_values > 100:\n",
    "                print(\"189 Dimensions: \",df_results.shape[0], df_results.shape[1])\n",
    "                for row in range(df_results.shape[0]):\n",
    "                    row_l = chr(ord('@')+row+1)\n",
    "                    for col in range(df_results.shape[1]):\n",
    "                        col_l = col+1\n",
    "                        # print(\"All results: \", str(row_l)+str(col_l), df_results.iloc[row,col])\n",
    "                        value_set = [str(row_l)+str(col_l), df_results.iloc[row,col]]\n",
    "                        value_list.append(value_set)\n",
    "        except Exception as e: \n",
    "            print(e)\n",
    "            pass\n",
    "    df_list = pd.DataFrame([value_list]).transpose()\n",
    "    df_list_2 = pd.DataFrame(df_list.iloc[:,0].to_list(), columns=['index','z-score'])\n",
    " \n",
    "    new_filename = unzipped_folder+\"\\\\!completed\\\\\"+foldername_sorted#.split(\".\")[:-1]\n",
    "    foldername_archive = unzipped_folder.split(\"\\\\\")[-1]\n",
    "    print(\"216 list final file directory\", new_filename, \"\\nfoldername:\",foldername_sorted)\n",
    "    filename_directory = root_folder+\"!completed\\\\\"+foldername_sorted+\"\\\\\"+filename.split(\".\")[0]+\"_list.\"+filename.split(\".\")[-1]\n",
    "    print(\"217 list final name\", filename_directory)\n",
    "    \n",
    "    df_list_2.to_csv(filename_directory)#root_folder+\"!completed\\\\\"+filename.split(\".\")[0]+\"_list.csv\")\n",
    "    return(df_list_2,filename_directory)\n",
    "\n",
    "def unzipped_folder_access_files(plate_list, folder_archive):\n",
    "    repo = git.Repo('.', search_parent_directories=True)\n",
    "    root_folder = repo.working_tree_dir +\"\\\\yeast-data\\\\\"\n",
    "\n",
    "    print(\"length of platelist\", len(plate_list))\n",
    "    n = 0\n",
    "    for file in plate_list:\n",
    "        filetype = file.split(\".\")[-1]\n",
    "        first_name = file.split(\"-\")[0]\n",
    "        print(\"228 extracted files\", first_name, filetype)\n",
    "        if filetype == \"zip\":\n",
    "            filename = root_folder+file\n",
    "            print(\"231\",filename)\n",
    "            with zipfile.ZipFile(filename, 'r') as zip_ref:\n",
    "                zip_ref.extractall(root_folder)\n",
    "                print(\"235\", zip_ref, n)\n",
    "                shutil.copy(root_folder+file, folder_archive)\n",
    "                zip_ref.close()\n",
    "                os.remove(root_folder+file)\n",
    "                n+=1\n",
    "                \n",
    "def new_folder_processed_data(unzipped_folder):\n",
    "    repo = git.Repo('.', search_parent_directories=True)\n",
    "    root_folder = repo.working_tree_dir +\"\\\\yeast-data\\\\\"\n",
    "    foldername_sorted = os.path.basename(os.path.normpath(unzipped_folder))\n",
    "    folder_unzipped_in_complete = root_folder+\"!completed\\\\\"+foldername_sorted+\"\\\\\"\n",
    "    folder_unzipped_in_archive = root_folder+\"!archive\\\\\"+foldername_sorted+\"\\\\\"\n",
    "    \n",
    "    print(\"244 folder making\", folder_unzipped_in_complete)\n",
    "\n",
    "    try:\n",
    "        os.mkdir(folder_unzipped_in_complete)\n",
    "        os.mkdir(folder_unzipped_in_archive)\n",
    "        os.chdir(root_folder)\n",
    "\n",
    "    except:\n",
    "        os.chdir(root_folder)\n",
    "   "
   ]
  },
  {
   "cell_type": "code",
   "execution_count": null,
   "id": "3d0fcbe7-1833-4ed4-9551-956cb8265f8a",
   "metadata": {
    "scrolled": true,
    "tags": []
   },
   "outputs": [
    {
     "name": "stdout",
     "output_type": "stream",
     "text": [
      "11 list ['!archive', '!completed', 'AFG3L2 Screen', 'FARS2 screen', 'PMM2 Screen', 'SURF1 screen']\n",
      "length of platelist 6\n",
      "228 extracted files !archive !archive\n",
      "228 extracted files !completed !completed\n",
      "228 extracted files AFG3L2 Screen AFG3L2 Screen\n",
      "228 extracted files FARS2 screen FARS2 screen\n",
      "228 extracted files PMM2 Screen PMM2 Screen\n",
      "228 extracted files SURF1 screen SURF1 screen\n",
      "16 ['!archive', '!completed', 'AFG3L2 Screen', 'FARS2 screen', 'PMM2 Screen', 'SURF1 screen']\n",
      "19 unzipped folder AFG3L2 Screen AFG3L2 Screen\n",
      "20 unzipped folder final C:\\Users\\vandu\\Desktop\\vancanwin\\yeast-data\\AFG3L2 Screen\\\n",
      "244 folder making C:\\Users\\vandu\\Desktop\\vancanwin\\yeast-data\\!completed\\AFG3L2 Screen\\\n",
      "26 unzipped folder list ['1.csv', '10.csv', '11.csv', '12.csv', '13.csv', '14.csv', '15.csv', '16.csv', '17.csv', '18.csv', '19.csv', '2.csv', '20.csv', '21.csv', '22.csv', '23.csv', '24.csv', '25.csv', '26.csv', '27.csv', '3.csv', '4.csv', '5.csv', '6.csv', '7.csv', '8.csv', '9.csv']\n",
      "27 unzipped files 1.csv csv\n",
      "33 unzipped files 1.csv\n",
      "33 foldername AFG3L2 Screen\n",
      "44 DF column number 0 <class 'int'> 30\n",
      "line 50 matching? MultiIndex([], )\n",
      "86 normalized data directory and name C:\\Users\\vandu\\Desktop\\vancanwin\\yeast-data\\AFG3L2 Screen\\ and 1.csv\n",
      "88 final file directory C:\\Users\\vandu\\Desktop\\vancanwin\\yeast-data\\AFG3L2 Screen\\\\1.csv 1.csv AFG3L2 Screen\n",
      "91 final name C:\\Users\\vandu\\Desktop\\vancanwin\\yeast-data\\!completed\\AFG3L2 Screen\\1_normalized.csv\n"
     ]
    },
    {
     "name": "stderr",
     "output_type": "stream",
     "text": [
      "C:\\Users\\vandu\\AppData\\Local\\Temp\\ipykernel_17572\\431195584.py:38: ParserWarning: Falling back to the 'python' engine because the 'c' engine does not support regex separators (separators > 1 char and different from '\\s+' are interpreted as regex); you can avoid this warning by specifying engine='python'.\n",
      "  df = pd.read_csv(folder+filename, on_bad_lines='skip', encoding = \"utf-8\",sep=\"[_,\\t ;|:]\")#,sep =\"[_\\t ;|:]\",engine='python')\n"
     ]
    },
    {
     "name": "stdout",
     "output_type": "stream",
     "text": [
      "27 unzipped files 10.csv csv\n",
      "33 unzipped files 10.csv\n",
      "33 foldername AFG3L2 Screen\n",
      "44 DF column number 0 <class 'int'> 30\n",
      "line 50 matching? MultiIndex([], )\n",
      "86 normalized data directory and name C:\\Users\\vandu\\Desktop\\vancanwin\\yeast-data\\AFG3L2 Screen\\ and 10.csv\n",
      "88 final file directory C:\\Users\\vandu\\Desktop\\vancanwin\\yeast-data\\AFG3L2 Screen\\\\10.csv 10.csv AFG3L2 Screen\n",
      "91 final name C:\\Users\\vandu\\Desktop\\vancanwin\\yeast-data\\!completed\\AFG3L2 Screen\\10_normalized.csv\n"
     ]
    },
    {
     "name": "stderr",
     "output_type": "stream",
     "text": [
      "C:\\Users\\vandu\\AppData\\Local\\Temp\\ipykernel_17572\\431195584.py:38: ParserWarning: Falling back to the 'python' engine because the 'c' engine does not support regex separators (separators > 1 char and different from '\\s+' are interpreted as regex); you can avoid this warning by specifying engine='python'.\n",
      "  df = pd.read_csv(folder+filename, on_bad_lines='skip', encoding = \"utf-8\",sep=\"[_,\\t ;|:]\")#,sep =\"[_\\t ;|:]\",engine='python')\n"
     ]
    },
    {
     "name": "stdout",
     "output_type": "stream",
     "text": [
      "27 unzipped files 11.csv csv\n",
      "33 unzipped files 11.csv\n",
      "33 foldername AFG3L2 Screen\n",
      "44 DF column number 0 <class 'int'> 30\n",
      "line 50 matching? MultiIndex([], )\n",
      "86 normalized data directory and name C:\\Users\\vandu\\Desktop\\vancanwin\\yeast-data\\AFG3L2 Screen\\ and 11.csv\n",
      "88 final file directory C:\\Users\\vandu\\Desktop\\vancanwin\\yeast-data\\AFG3L2 Screen\\\\11.csv 11.csv AFG3L2 Screen\n",
      "91 final name C:\\Users\\vandu\\Desktop\\vancanwin\\yeast-data\\!completed\\AFG3L2 Screen\\11_normalized.csv\n"
     ]
    },
    {
     "name": "stderr",
     "output_type": "stream",
     "text": [
      "C:\\Users\\vandu\\AppData\\Local\\Temp\\ipykernel_17572\\431195584.py:38: ParserWarning: Falling back to the 'python' engine because the 'c' engine does not support regex separators (separators > 1 char and different from '\\s+' are interpreted as regex); you can avoid this warning by specifying engine='python'.\n",
      "  df = pd.read_csv(folder+filename, on_bad_lines='skip', encoding = \"utf-8\",sep=\"[_,\\t ;|:]\")#,sep =\"[_\\t ;|:]\",engine='python')\n"
     ]
    },
    {
     "name": "stdout",
     "output_type": "stream",
     "text": [
      "27 unzipped files 12.csv csv\n",
      "33 unzipped files 12.csv\n",
      "33 foldername AFG3L2 Screen\n",
      "44 DF column number 0 <class 'int'> 30\n",
      "line 50 matching? MultiIndex([], )\n",
      "86 normalized data directory and name C:\\Users\\vandu\\Desktop\\vancanwin\\yeast-data\\AFG3L2 Screen\\ and 12.csv\n",
      "88 final file directory C:\\Users\\vandu\\Desktop\\vancanwin\\yeast-data\\AFG3L2 Screen\\\\12.csv 12.csv AFG3L2 Screen\n",
      "91 final name C:\\Users\\vandu\\Desktop\\vancanwin\\yeast-data\\!completed\\AFG3L2 Screen\\12_normalized.csv\n"
     ]
    },
    {
     "name": "stderr",
     "output_type": "stream",
     "text": [
      "C:\\Users\\vandu\\AppData\\Local\\Temp\\ipykernel_17572\\431195584.py:38: ParserWarning: Falling back to the 'python' engine because the 'c' engine does not support regex separators (separators > 1 char and different from '\\s+' are interpreted as regex); you can avoid this warning by specifying engine='python'.\n",
      "  df = pd.read_csv(folder+filename, on_bad_lines='skip', encoding = \"utf-8\",sep=\"[_,\\t ;|:]\")#,sep =\"[_\\t ;|:]\",engine='python')\n"
     ]
    },
    {
     "name": "stdout",
     "output_type": "stream",
     "text": [
      "27 unzipped files 13.csv csv\n",
      "33 unzipped files 13.csv\n",
      "33 foldername AFG3L2 Screen\n",
      "44 DF column number 0 <class 'int'> 30\n",
      "line 50 matching? MultiIndex([], )\n",
      "86 normalized data directory and name C:\\Users\\vandu\\Desktop\\vancanwin\\yeast-data\\AFG3L2 Screen\\ and 13.csv\n",
      "88 final file directory C:\\Users\\vandu\\Desktop\\vancanwin\\yeast-data\\AFG3L2 Screen\\\\13.csv 13.csv AFG3L2 Screen\n",
      "91 final name C:\\Users\\vandu\\Desktop\\vancanwin\\yeast-data\\!completed\\AFG3L2 Screen\\13_normalized.csv\n"
     ]
    },
    {
     "name": "stderr",
     "output_type": "stream",
     "text": [
      "C:\\Users\\vandu\\AppData\\Local\\Temp\\ipykernel_17572\\431195584.py:38: ParserWarning: Falling back to the 'python' engine because the 'c' engine does not support regex separators (separators > 1 char and different from '\\s+' are interpreted as regex); you can avoid this warning by specifying engine='python'.\n",
      "  df = pd.read_csv(folder+filename, on_bad_lines='skip', encoding = \"utf-8\",sep=\"[_,\\t ;|:]\")#,sep =\"[_\\t ;|:]\",engine='python')\n"
     ]
    },
    {
     "name": "stdout",
     "output_type": "stream",
     "text": [
      "27 unzipped files 14.csv csv\n",
      "33 unzipped files 14.csv\n",
      "33 foldername AFG3L2 Screen\n",
      "44 DF column number 0 <class 'int'> 30\n",
      "line 50 matching? MultiIndex([], )\n",
      "86 normalized data directory and name C:\\Users\\vandu\\Desktop\\vancanwin\\yeast-data\\AFG3L2 Screen\\ and 14.csv\n",
      "88 final file directory C:\\Users\\vandu\\Desktop\\vancanwin\\yeast-data\\AFG3L2 Screen\\\\14.csv 14.csv AFG3L2 Screen\n",
      "91 final name C:\\Users\\vandu\\Desktop\\vancanwin\\yeast-data\\!completed\\AFG3L2 Screen\\14_normalized.csv\n"
     ]
    },
    {
     "name": "stderr",
     "output_type": "stream",
     "text": [
      "C:\\Users\\vandu\\AppData\\Local\\Temp\\ipykernel_17572\\431195584.py:38: ParserWarning: Falling back to the 'python' engine because the 'c' engine does not support regex separators (separators > 1 char and different from '\\s+' are interpreted as regex); you can avoid this warning by specifying engine='python'.\n",
      "  df = pd.read_csv(folder+filename, on_bad_lines='skip', encoding = \"utf-8\",sep=\"[_,\\t ;|:]\")#,sep =\"[_\\t ;|:]\",engine='python')\n"
     ]
    },
    {
     "name": "stdout",
     "output_type": "stream",
     "text": [
      "27 unzipped files 15.csv csv\n",
      "33 unzipped files 15.csv\n",
      "33 foldername AFG3L2 Screen\n",
      "44 DF column number 0 <class 'int'> 30\n",
      "line 50 matching? MultiIndex([], )\n",
      "86 normalized data directory and name C:\\Users\\vandu\\Desktop\\vancanwin\\yeast-data\\AFG3L2 Screen\\ and 15.csv\n",
      "88 final file directory C:\\Users\\vandu\\Desktop\\vancanwin\\yeast-data\\AFG3L2 Screen\\\\15.csv 15.csv AFG3L2 Screen\n",
      "91 final name C:\\Users\\vandu\\Desktop\\vancanwin\\yeast-data\\!completed\\AFG3L2 Screen\\15_normalized.csv\n"
     ]
    },
    {
     "name": "stderr",
     "output_type": "stream",
     "text": [
      "C:\\Users\\vandu\\AppData\\Local\\Temp\\ipykernel_17572\\431195584.py:38: ParserWarning: Falling back to the 'python' engine because the 'c' engine does not support regex separators (separators > 1 char and different from '\\s+' are interpreted as regex); you can avoid this warning by specifying engine='python'.\n",
      "  df = pd.read_csv(folder+filename, on_bad_lines='skip', encoding = \"utf-8\",sep=\"[_,\\t ;|:]\")#,sep =\"[_\\t ;|:]\",engine='python')\n"
     ]
    },
    {
     "name": "stdout",
     "output_type": "stream",
     "text": [
      "27 unzipped files 16.csv csv\n",
      "33 unzipped files 16.csv\n",
      "33 foldername AFG3L2 Screen\n",
      "44 DF column number 0 <class 'int'> 30\n",
      "line 50 matching? MultiIndex([], )\n",
      "86 normalized data directory and name C:\\Users\\vandu\\Desktop\\vancanwin\\yeast-data\\AFG3L2 Screen\\ and 16.csv\n",
      "88 final file directory C:\\Users\\vandu\\Desktop\\vancanwin\\yeast-data\\AFG3L2 Screen\\\\16.csv 16.csv AFG3L2 Screen\n",
      "91 final name C:\\Users\\vandu\\Desktop\\vancanwin\\yeast-data\\!completed\\AFG3L2 Screen\\16_normalized.csv\n"
     ]
    },
    {
     "name": "stderr",
     "output_type": "stream",
     "text": [
      "C:\\Users\\vandu\\AppData\\Local\\Temp\\ipykernel_17572\\431195584.py:38: ParserWarning: Falling back to the 'python' engine because the 'c' engine does not support regex separators (separators > 1 char and different from '\\s+' are interpreted as regex); you can avoid this warning by specifying engine='python'.\n",
      "  df = pd.read_csv(folder+filename, on_bad_lines='skip', encoding = \"utf-8\",sep=\"[_,\\t ;|:]\")#,sep =\"[_\\t ;|:]\",engine='python')\n"
     ]
    },
    {
     "name": "stdout",
     "output_type": "stream",
     "text": [
      "27 unzipped files 17.csv csv\n",
      "33 unzipped files 17.csv\n",
      "33 foldername AFG3L2 Screen\n",
      "44 DF column number 0 <class 'int'> 30\n",
      "line 50 matching? MultiIndex([], )\n",
      "86 normalized data directory and name C:\\Users\\vandu\\Desktop\\vancanwin\\yeast-data\\AFG3L2 Screen\\ and 17.csv\n",
      "88 final file directory C:\\Users\\vandu\\Desktop\\vancanwin\\yeast-data\\AFG3L2 Screen\\\\17.csv 17.csv AFG3L2 Screen\n",
      "91 final name C:\\Users\\vandu\\Desktop\\vancanwin\\yeast-data\\!completed\\AFG3L2 Screen\\17_normalized.csv\n"
     ]
    },
    {
     "name": "stderr",
     "output_type": "stream",
     "text": [
      "C:\\Users\\vandu\\AppData\\Local\\Temp\\ipykernel_17572\\431195584.py:38: ParserWarning: Falling back to the 'python' engine because the 'c' engine does not support regex separators (separators > 1 char and different from '\\s+' are interpreted as regex); you can avoid this warning by specifying engine='python'.\n",
      "  df = pd.read_csv(folder+filename, on_bad_lines='skip', encoding = \"utf-8\",sep=\"[_,\\t ;|:]\")#,sep =\"[_\\t ;|:]\",engine='python')\n"
     ]
    },
    {
     "name": "stdout",
     "output_type": "stream",
     "text": [
      "27 unzipped files 18.csv csv\n",
      "33 unzipped files 18.csv\n",
      "33 foldername AFG3L2 Screen\n",
      "44 DF column number 0 <class 'int'> 30\n",
      "line 50 matching? MultiIndex([], )\n",
      "86 normalized data directory and name C:\\Users\\vandu\\Desktop\\vancanwin\\yeast-data\\AFG3L2 Screen\\ and 18.csv\n",
      "88 final file directory C:\\Users\\vandu\\Desktop\\vancanwin\\yeast-data\\AFG3L2 Screen\\\\18.csv 18.csv AFG3L2 Screen\n",
      "91 final name C:\\Users\\vandu\\Desktop\\vancanwin\\yeast-data\\!completed\\AFG3L2 Screen\\18_normalized.csv\n"
     ]
    },
    {
     "name": "stderr",
     "output_type": "stream",
     "text": [
      "C:\\Users\\vandu\\AppData\\Local\\Temp\\ipykernel_17572\\431195584.py:38: ParserWarning: Falling back to the 'python' engine because the 'c' engine does not support regex separators (separators > 1 char and different from '\\s+' are interpreted as regex); you can avoid this warning by specifying engine='python'.\n",
      "  df = pd.read_csv(folder+filename, on_bad_lines='skip', encoding = \"utf-8\",sep=\"[_,\\t ;|:]\")#,sep =\"[_\\t ;|:]\",engine='python')\n"
     ]
    },
    {
     "name": "stdout",
     "output_type": "stream",
     "text": [
      "27 unzipped files 19.csv csv\n",
      "33 unzipped files 19.csv\n",
      "33 foldername AFG3L2 Screen\n",
      "44 DF column number 0 <class 'int'> 30\n",
      "line 50 matching? MultiIndex([], )\n",
      "86 normalized data directory and name C:\\Users\\vandu\\Desktop\\vancanwin\\yeast-data\\AFG3L2 Screen\\ and 19.csv\n",
      "88 final file directory C:\\Users\\vandu\\Desktop\\vancanwin\\yeast-data\\AFG3L2 Screen\\\\19.csv 19.csv AFG3L2 Screen\n",
      "91 final name C:\\Users\\vandu\\Desktop\\vancanwin\\yeast-data\\!completed\\AFG3L2 Screen\\19_normalized.csv\n"
     ]
    },
    {
     "name": "stderr",
     "output_type": "stream",
     "text": [
      "C:\\Users\\vandu\\AppData\\Local\\Temp\\ipykernel_17572\\431195584.py:38: ParserWarning: Falling back to the 'python' engine because the 'c' engine does not support regex separators (separators > 1 char and different from '\\s+' are interpreted as regex); you can avoid this warning by specifying engine='python'.\n",
      "  df = pd.read_csv(folder+filename, on_bad_lines='skip', encoding = \"utf-8\",sep=\"[_,\\t ;|:]\")#,sep =\"[_\\t ;|:]\",engine='python')\n"
     ]
    },
    {
     "name": "stdout",
     "output_type": "stream",
     "text": [
      "27 unzipped files 2.csv csv\n",
      "33 unzipped files 2.csv\n",
      "33 foldername AFG3L2 Screen\n",
      "44 DF column number 0 <class 'int'> 30\n",
      "line 50 matching? MultiIndex([], )\n",
      "86 normalized data directory and name C:\\Users\\vandu\\Desktop\\vancanwin\\yeast-data\\AFG3L2 Screen\\ and 2.csv\n",
      "88 final file directory C:\\Users\\vandu\\Desktop\\vancanwin\\yeast-data\\AFG3L2 Screen\\\\2.csv 2.csv AFG3L2 Screen\n",
      "91 final name C:\\Users\\vandu\\Desktop\\vancanwin\\yeast-data\\!completed\\AFG3L2 Screen\\2_normalized.csv\n"
     ]
    },
    {
     "name": "stderr",
     "output_type": "stream",
     "text": [
      "C:\\Users\\vandu\\AppData\\Local\\Temp\\ipykernel_17572\\431195584.py:38: ParserWarning: Falling back to the 'python' engine because the 'c' engine does not support regex separators (separators > 1 char and different from '\\s+' are interpreted as regex); you can avoid this warning by specifying engine='python'.\n",
      "  df = pd.read_csv(folder+filename, on_bad_lines='skip', encoding = \"utf-8\",sep=\"[_,\\t ;|:]\")#,sep =\"[_\\t ;|:]\",engine='python')\n"
     ]
    },
    {
     "name": "stdout",
     "output_type": "stream",
     "text": [
      "27 unzipped files 20.csv csv\n",
      "33 unzipped files 20.csv\n",
      "33 foldername AFG3L2 Screen\n",
      "44 DF column number 0 <class 'int'> 30\n",
      "line 50 matching? MultiIndex([], )\n",
      "86 normalized data directory and name C:\\Users\\vandu\\Desktop\\vancanwin\\yeast-data\\AFG3L2 Screen\\ and 20.csv\n",
      "88 final file directory C:\\Users\\vandu\\Desktop\\vancanwin\\yeast-data\\AFG3L2 Screen\\\\20.csv 20.csv AFG3L2 Screen\n",
      "91 final name C:\\Users\\vandu\\Desktop\\vancanwin\\yeast-data\\!completed\\AFG3L2 Screen\\20_normalized.csv\n"
     ]
    },
    {
     "name": "stderr",
     "output_type": "stream",
     "text": [
      "C:\\Users\\vandu\\AppData\\Local\\Temp\\ipykernel_17572\\431195584.py:38: ParserWarning: Falling back to the 'python' engine because the 'c' engine does not support regex separators (separators > 1 char and different from '\\s+' are interpreted as regex); you can avoid this warning by specifying engine='python'.\n",
      "  df = pd.read_csv(folder+filename, on_bad_lines='skip', encoding = \"utf-8\",sep=\"[_,\\t ;|:]\")#,sep =\"[_\\t ;|:]\",engine='python')\n"
     ]
    },
    {
     "name": "stdout",
     "output_type": "stream",
     "text": [
      "27 unzipped files 21.csv csv\n",
      "33 unzipped files 21.csv\n",
      "33 foldername AFG3L2 Screen\n",
      "44 DF column number 0 <class 'int'> 30\n",
      "line 50 matching? MultiIndex([], )\n",
      "86 normalized data directory and name C:\\Users\\vandu\\Desktop\\vancanwin\\yeast-data\\AFG3L2 Screen\\ and 21.csv\n",
      "88 final file directory C:\\Users\\vandu\\Desktop\\vancanwin\\yeast-data\\AFG3L2 Screen\\\\21.csv 21.csv AFG3L2 Screen\n",
      "91 final name C:\\Users\\vandu\\Desktop\\vancanwin\\yeast-data\\!completed\\AFG3L2 Screen\\21_normalized.csv\n"
     ]
    },
    {
     "name": "stderr",
     "output_type": "stream",
     "text": [
      "C:\\Users\\vandu\\AppData\\Local\\Temp\\ipykernel_17572\\431195584.py:38: ParserWarning: Falling back to the 'python' engine because the 'c' engine does not support regex separators (separators > 1 char and different from '\\s+' are interpreted as regex); you can avoid this warning by specifying engine='python'.\n",
      "  df = pd.read_csv(folder+filename, on_bad_lines='skip', encoding = \"utf-8\",sep=\"[_,\\t ;|:]\")#,sep =\"[_\\t ;|:]\",engine='python')\n"
     ]
    },
    {
     "name": "stdout",
     "output_type": "stream",
     "text": [
      "27 unzipped files 22.csv csv\n",
      "33 unzipped files 22.csv\n",
      "33 foldername AFG3L2 Screen\n",
      "44 DF column number 0 <class 'int'> 30\n",
      "line 50 matching? MultiIndex([], )\n",
      "86 normalized data directory and name C:\\Users\\vandu\\Desktop\\vancanwin\\yeast-data\\AFG3L2 Screen\\ and 22.csv\n",
      "88 final file directory C:\\Users\\vandu\\Desktop\\vancanwin\\yeast-data\\AFG3L2 Screen\\\\22.csv 22.csv AFG3L2 Screen\n",
      "91 final name C:\\Users\\vandu\\Desktop\\vancanwin\\yeast-data\\!completed\\AFG3L2 Screen\\22_normalized.csv\n"
     ]
    },
    {
     "name": "stderr",
     "output_type": "stream",
     "text": [
      "C:\\Users\\vandu\\AppData\\Local\\Temp\\ipykernel_17572\\431195584.py:38: ParserWarning: Falling back to the 'python' engine because the 'c' engine does not support regex separators (separators > 1 char and different from '\\s+' are interpreted as regex); you can avoid this warning by specifying engine='python'.\n",
      "  df = pd.read_csv(folder+filename, on_bad_lines='skip', encoding = \"utf-8\",sep=\"[_,\\t ;|:]\")#,sep =\"[_\\t ;|:]\",engine='python')\n"
     ]
    },
    {
     "name": "stdout",
     "output_type": "stream",
     "text": [
      "27 unzipped files 23.csv csv\n",
      "33 unzipped files 23.csv\n",
      "33 foldername AFG3L2 Screen\n",
      "44 DF column number 0 <class 'int'> 30\n",
      "line 50 matching? MultiIndex([], )\n",
      "86 normalized data directory and name C:\\Users\\vandu\\Desktop\\vancanwin\\yeast-data\\AFG3L2 Screen\\ and 23.csv\n",
      "88 final file directory C:\\Users\\vandu\\Desktop\\vancanwin\\yeast-data\\AFG3L2 Screen\\\\23.csv 23.csv AFG3L2 Screen\n",
      "91 final name C:\\Users\\vandu\\Desktop\\vancanwin\\yeast-data\\!completed\\AFG3L2 Screen\\23_normalized.csv\n"
     ]
    },
    {
     "name": "stderr",
     "output_type": "stream",
     "text": [
      "C:\\Users\\vandu\\AppData\\Local\\Temp\\ipykernel_17572\\431195584.py:38: ParserWarning: Falling back to the 'python' engine because the 'c' engine does not support regex separators (separators > 1 char and different from '\\s+' are interpreted as regex); you can avoid this warning by specifying engine='python'.\n",
      "  df = pd.read_csv(folder+filename, on_bad_lines='skip', encoding = \"utf-8\",sep=\"[_,\\t ;|:]\")#,sep =\"[_\\t ;|:]\",engine='python')\n"
     ]
    },
    {
     "name": "stdout",
     "output_type": "stream",
     "text": [
      "27 unzipped files 24.csv csv\n",
      "33 unzipped files 24.csv\n",
      "33 foldername AFG3L2 Screen\n",
      "44 DF column number 0 <class 'int'> 30\n",
      "line 50 matching? MultiIndex([], )\n",
      "86 normalized data directory and name C:\\Users\\vandu\\Desktop\\vancanwin\\yeast-data\\AFG3L2 Screen\\ and 24.csv\n",
      "88 final file directory C:\\Users\\vandu\\Desktop\\vancanwin\\yeast-data\\AFG3L2 Screen\\\\24.csv 24.csv AFG3L2 Screen\n",
      "91 final name C:\\Users\\vandu\\Desktop\\vancanwin\\yeast-data\\!completed\\AFG3L2 Screen\\24_normalized.csv\n"
     ]
    },
    {
     "name": "stderr",
     "output_type": "stream",
     "text": [
      "C:\\Users\\vandu\\AppData\\Local\\Temp\\ipykernel_17572\\431195584.py:38: ParserWarning: Falling back to the 'python' engine because the 'c' engine does not support regex separators (separators > 1 char and different from '\\s+' are interpreted as regex); you can avoid this warning by specifying engine='python'.\n",
      "  df = pd.read_csv(folder+filename, on_bad_lines='skip', encoding = \"utf-8\",sep=\"[_,\\t ;|:]\")#,sep =\"[_\\t ;|:]\",engine='python')\n"
     ]
    },
    {
     "name": "stdout",
     "output_type": "stream",
     "text": [
      "27 unzipped files 25.csv csv\n",
      "33 unzipped files 25.csv\n",
      "33 foldername AFG3L2 Screen\n",
      "44 DF column number 0 <class 'int'> 30\n",
      "line 50 matching? MultiIndex([], )\n",
      "86 normalized data directory and name C:\\Users\\vandu\\Desktop\\vancanwin\\yeast-data\\AFG3L2 Screen\\ and 25.csv\n",
      "88 final file directory C:\\Users\\vandu\\Desktop\\vancanwin\\yeast-data\\AFG3L2 Screen\\\\25.csv 25.csv AFG3L2 Screen\n",
      "91 final name C:\\Users\\vandu\\Desktop\\vancanwin\\yeast-data\\!completed\\AFG3L2 Screen\\25_normalized.csv\n"
     ]
    },
    {
     "name": "stderr",
     "output_type": "stream",
     "text": [
      "C:\\Users\\vandu\\AppData\\Local\\Temp\\ipykernel_17572\\431195584.py:38: ParserWarning: Falling back to the 'python' engine because the 'c' engine does not support regex separators (separators > 1 char and different from '\\s+' are interpreted as regex); you can avoid this warning by specifying engine='python'.\n",
      "  df = pd.read_csv(folder+filename, on_bad_lines='skip', encoding = \"utf-8\",sep=\"[_,\\t ;|:]\")#,sep =\"[_\\t ;|:]\",engine='python')\n"
     ]
    },
    {
     "name": "stdout",
     "output_type": "stream",
     "text": [
      "27 unzipped files 26.csv csv\n",
      "33 unzipped files 26.csv\n",
      "33 foldername AFG3L2 Screen\n",
      "44 DF column number 0 <class 'int'> 30\n",
      "line 50 matching? MultiIndex([], )\n",
      "86 normalized data directory and name C:\\Users\\vandu\\Desktop\\vancanwin\\yeast-data\\AFG3L2 Screen\\ and 26.csv\n",
      "88 final file directory C:\\Users\\vandu\\Desktop\\vancanwin\\yeast-data\\AFG3L2 Screen\\\\26.csv 26.csv AFG3L2 Screen\n",
      "91 final name C:\\Users\\vandu\\Desktop\\vancanwin\\yeast-data\\!completed\\AFG3L2 Screen\\26_normalized.csv\n"
     ]
    },
    {
     "name": "stderr",
     "output_type": "stream",
     "text": [
      "C:\\Users\\vandu\\AppData\\Local\\Temp\\ipykernel_17572\\431195584.py:38: ParserWarning: Falling back to the 'python' engine because the 'c' engine does not support regex separators (separators > 1 char and different from '\\s+' are interpreted as regex); you can avoid this warning by specifying engine='python'.\n",
      "  df = pd.read_csv(folder+filename, on_bad_lines='skip', encoding = \"utf-8\",sep=\"[_,\\t ;|:]\")#,sep =\"[_\\t ;|:]\",engine='python')\n"
     ]
    },
    {
     "name": "stdout",
     "output_type": "stream",
     "text": [
      "27 unzipped files 27.csv csv\n",
      "33 unzipped files 27.csv\n",
      "33 foldername AFG3L2 Screen\n",
      "44 DF column number 0 <class 'int'> 30\n",
      "line 50 matching? MultiIndex([], )\n",
      "86 normalized data directory and name C:\\Users\\vandu\\Desktop\\vancanwin\\yeast-data\\AFG3L2 Screen\\ and 27.csv\n",
      "88 final file directory C:\\Users\\vandu\\Desktop\\vancanwin\\yeast-data\\AFG3L2 Screen\\\\27.csv 27.csv AFG3L2 Screen\n",
      "91 final name C:\\Users\\vandu\\Desktop\\vancanwin\\yeast-data\\!completed\\AFG3L2 Screen\\27_normalized.csv\n"
     ]
    },
    {
     "name": "stderr",
     "output_type": "stream",
     "text": [
      "C:\\Users\\vandu\\AppData\\Local\\Temp\\ipykernel_17572\\431195584.py:38: ParserWarning: Falling back to the 'python' engine because the 'c' engine does not support regex separators (separators > 1 char and different from '\\s+' are interpreted as regex); you can avoid this warning by specifying engine='python'.\n",
      "  df = pd.read_csv(folder+filename, on_bad_lines='skip', encoding = \"utf-8\",sep=\"[_,\\t ;|:]\")#,sep =\"[_\\t ;|:]\",engine='python')\n"
     ]
    },
    {
     "name": "stdout",
     "output_type": "stream",
     "text": [
      "27 unzipped files 3.csv csv\n",
      "33 unzipped files 3.csv\n",
      "33 foldername AFG3L2 Screen\n",
      "44 DF column number 0 <class 'int'> 30\n",
      "line 50 matching? MultiIndex([], )\n",
      "86 normalized data directory and name C:\\Users\\vandu\\Desktop\\vancanwin\\yeast-data\\AFG3L2 Screen\\ and 3.csv\n",
      "88 final file directory C:\\Users\\vandu\\Desktop\\vancanwin\\yeast-data\\AFG3L2 Screen\\\\3.csv 3.csv AFG3L2 Screen\n",
      "91 final name C:\\Users\\vandu\\Desktop\\vancanwin\\yeast-data\\!completed\\AFG3L2 Screen\\3_normalized.csv\n"
     ]
    },
    {
     "name": "stderr",
     "output_type": "stream",
     "text": [
      "C:\\Users\\vandu\\AppData\\Local\\Temp\\ipykernel_17572\\431195584.py:38: ParserWarning: Falling back to the 'python' engine because the 'c' engine does not support regex separators (separators > 1 char and different from '\\s+' are interpreted as regex); you can avoid this warning by specifying engine='python'.\n",
      "  df = pd.read_csv(folder+filename, on_bad_lines='skip', encoding = \"utf-8\",sep=\"[_,\\t ;|:]\")#,sep =\"[_\\t ;|:]\",engine='python')\n"
     ]
    },
    {
     "name": "stdout",
     "output_type": "stream",
     "text": [
      "27 unzipped files 4.csv csv\n",
      "33 unzipped files 4.csv\n",
      "33 foldername AFG3L2 Screen\n",
      "44 DF column number 0 <class 'int'> 30\n",
      "line 50 matching? MultiIndex([], )\n",
      "86 normalized data directory and name C:\\Users\\vandu\\Desktop\\vancanwin\\yeast-data\\AFG3L2 Screen\\ and 4.csv\n",
      "88 final file directory C:\\Users\\vandu\\Desktop\\vancanwin\\yeast-data\\AFG3L2 Screen\\\\4.csv 4.csv AFG3L2 Screen\n",
      "91 final name C:\\Users\\vandu\\Desktop\\vancanwin\\yeast-data\\!completed\\AFG3L2 Screen\\4_normalized.csv\n"
     ]
    },
    {
     "name": "stderr",
     "output_type": "stream",
     "text": [
      "C:\\Users\\vandu\\AppData\\Local\\Temp\\ipykernel_17572\\431195584.py:38: ParserWarning: Falling back to the 'python' engine because the 'c' engine does not support regex separators (separators > 1 char and different from '\\s+' are interpreted as regex); you can avoid this warning by specifying engine='python'.\n",
      "  df = pd.read_csv(folder+filename, on_bad_lines='skip', encoding = \"utf-8\",sep=\"[_,\\t ;|:]\")#,sep =\"[_\\t ;|:]\",engine='python')\n"
     ]
    },
    {
     "name": "stdout",
     "output_type": "stream",
     "text": [
      "27 unzipped files 5.csv csv\n",
      "33 unzipped files 5.csv\n",
      "33 foldername AFG3L2 Screen\n",
      "44 DF column number 0 <class 'int'> 30\n",
      "line 50 matching? MultiIndex([], )\n",
      "86 normalized data directory and name C:\\Users\\vandu\\Desktop\\vancanwin\\yeast-data\\AFG3L2 Screen\\ and 5.csv\n",
      "88 final file directory C:\\Users\\vandu\\Desktop\\vancanwin\\yeast-data\\AFG3L2 Screen\\\\5.csv 5.csv AFG3L2 Screen\n",
      "91 final name C:\\Users\\vandu\\Desktop\\vancanwin\\yeast-data\\!completed\\AFG3L2 Screen\\5_normalized.csv\n"
     ]
    },
    {
     "name": "stderr",
     "output_type": "stream",
     "text": [
      "C:\\Users\\vandu\\AppData\\Local\\Temp\\ipykernel_17572\\431195584.py:38: ParserWarning: Falling back to the 'python' engine because the 'c' engine does not support regex separators (separators > 1 char and different from '\\s+' are interpreted as regex); you can avoid this warning by specifying engine='python'.\n",
      "  df = pd.read_csv(folder+filename, on_bad_lines='skip', encoding = \"utf-8\",sep=\"[_,\\t ;|:]\")#,sep =\"[_\\t ;|:]\",engine='python')\n"
     ]
    },
    {
     "name": "stdout",
     "output_type": "stream",
     "text": [
      "27 unzipped files 6.csv csv\n",
      "33 unzipped files 6.csv\n",
      "33 foldername AFG3L2 Screen\n",
      "44 DF column number 0 <class 'int'> 30\n",
      "line 50 matching? MultiIndex([], )\n",
      "86 normalized data directory and name C:\\Users\\vandu\\Desktop\\vancanwin\\yeast-data\\AFG3L2 Screen\\ and 6.csv\n",
      "88 final file directory C:\\Users\\vandu\\Desktop\\vancanwin\\yeast-data\\AFG3L2 Screen\\\\6.csv 6.csv AFG3L2 Screen\n",
      "91 final name C:\\Users\\vandu\\Desktop\\vancanwin\\yeast-data\\!completed\\AFG3L2 Screen\\6_normalized.csv\n"
     ]
    },
    {
     "name": "stderr",
     "output_type": "stream",
     "text": [
      "C:\\Users\\vandu\\AppData\\Local\\Temp\\ipykernel_17572\\431195584.py:38: ParserWarning: Falling back to the 'python' engine because the 'c' engine does not support regex separators (separators > 1 char and different from '\\s+' are interpreted as regex); you can avoid this warning by specifying engine='python'.\n",
      "  df = pd.read_csv(folder+filename, on_bad_lines='skip', encoding = \"utf-8\",sep=\"[_,\\t ;|:]\")#,sep =\"[_\\t ;|:]\",engine='python')\n"
     ]
    },
    {
     "name": "stdout",
     "output_type": "stream",
     "text": [
      "27 unzipped files 7.csv csv\n",
      "33 unzipped files 7.csv\n",
      "33 foldername AFG3L2 Screen\n",
      "44 DF column number 0 <class 'int'> 30\n",
      "line 50 matching? MultiIndex([], )\n",
      "86 normalized data directory and name C:\\Users\\vandu\\Desktop\\vancanwin\\yeast-data\\AFG3L2 Screen\\ and 7.csv\n",
      "88 final file directory C:\\Users\\vandu\\Desktop\\vancanwin\\yeast-data\\AFG3L2 Screen\\\\7.csv 7.csv AFG3L2 Screen\n",
      "91 final name C:\\Users\\vandu\\Desktop\\vancanwin\\yeast-data\\!completed\\AFG3L2 Screen\\7_normalized.csv\n"
     ]
    },
    {
     "name": "stderr",
     "output_type": "stream",
     "text": [
      "C:\\Users\\vandu\\AppData\\Local\\Temp\\ipykernel_17572\\431195584.py:38: ParserWarning: Falling back to the 'python' engine because the 'c' engine does not support regex separators (separators > 1 char and different from '\\s+' are interpreted as regex); you can avoid this warning by specifying engine='python'.\n",
      "  df = pd.read_csv(folder+filename, on_bad_lines='skip', encoding = \"utf-8\",sep=\"[_,\\t ;|:]\")#,sep =\"[_\\t ;|:]\",engine='python')\n"
     ]
    },
    {
     "name": "stdout",
     "output_type": "stream",
     "text": [
      "27 unzipped files 8.csv csv\n",
      "33 unzipped files 8.csv\n",
      "33 foldername AFG3L2 Screen\n",
      "44 DF column number 0 <class 'int'> 30\n",
      "line 50 matching? MultiIndex([], )\n",
      "86 normalized data directory and name C:\\Users\\vandu\\Desktop\\vancanwin\\yeast-data\\AFG3L2 Screen\\ and 8.csv\n",
      "88 final file directory C:\\Users\\vandu\\Desktop\\vancanwin\\yeast-data\\AFG3L2 Screen\\\\8.csv 8.csv AFG3L2 Screen\n",
      "91 final name C:\\Users\\vandu\\Desktop\\vancanwin\\yeast-data\\!completed\\AFG3L2 Screen\\8_normalized.csv\n"
     ]
    },
    {
     "name": "stderr",
     "output_type": "stream",
     "text": [
      "C:\\Users\\vandu\\AppData\\Local\\Temp\\ipykernel_17572\\431195584.py:38: ParserWarning: Falling back to the 'python' engine because the 'c' engine does not support regex separators (separators > 1 char and different from '\\s+' are interpreted as regex); you can avoid this warning by specifying engine='python'.\n",
      "  df = pd.read_csv(folder+filename, on_bad_lines='skip', encoding = \"utf-8\",sep=\"[_,\\t ;|:]\")#,sep =\"[_\\t ;|:]\",engine='python')\n"
     ]
    },
    {
     "name": "stdout",
     "output_type": "stream",
     "text": [
      "27 unzipped files 9.csv csv\n",
      "33 unzipped files 9.csv\n",
      "33 foldername AFG3L2 Screen\n",
      "44 DF column number 0 <class 'int'> 30\n",
      "line 50 matching? MultiIndex([], )\n",
      "86 normalized data directory and name C:\\Users\\vandu\\Desktop\\vancanwin\\yeast-data\\AFG3L2 Screen\\ and 9.csv\n",
      "88 final file directory C:\\Users\\vandu\\Desktop\\vancanwin\\yeast-data\\AFG3L2 Screen\\\\9.csv 9.csv AFG3L2 Screen\n",
      "91 final name C:\\Users\\vandu\\Desktop\\vancanwin\\yeast-data\\!completed\\AFG3L2 Screen\\9_normalized.csv\n"
     ]
    },
    {
     "name": "stderr",
     "output_type": "stream",
     "text": [
      "C:\\Users\\vandu\\AppData\\Local\\Temp\\ipykernel_17572\\431195584.py:38: ParserWarning: Falling back to the 'python' engine because the 'c' engine does not support regex separators (separators > 1 char and different from '\\s+' are interpreted as regex); you can avoid this warning by specifying engine='python'.\n",
      "  df = pd.read_csv(folder+filename, on_bad_lines='skip', encoding = \"utf-8\",sep=\"[_,\\t ;|:]\")#,sep =\"[_\\t ;|:]\",engine='python')\n"
     ]
    },
    {
     "name": "stdout",
     "output_type": "stream",
     "text": [
      "19 unzipped folder FARS2 screen FARS2 screen\n",
      "20 unzipped folder final C:\\Users\\vandu\\Desktop\\vancanwin\\yeast-data\\FARS2 screen\\\n",
      "244 folder making C:\\Users\\vandu\\Desktop\\vancanwin\\yeast-data\\!completed\\FARS2 screen\\\n",
      "26 unzipped folder list ['1.csv', '10.csv', '11.csv', '12.csv', '13.csv', '14.csv', '15.csv', '16.csv', '17.csv', '18.csv', '19.csv', '2.csv', '20.csv', '21.csv', '22.csv', '23.csv', '24.csv', '25.csv', '26.csv', '27.csv', '3.csv', '4.csv', '5.csv', '6.csv', '7.csv', '8.csv', '9.csv']\n",
      "27 unzipped files 1.csv csv\n",
      "33 unzipped files 1.csv\n",
      "33 foldername FARS2 screen\n",
      "44 DF column number 0 <class 'int'> 30\n",
      "line 50 matching? MultiIndex([], )\n",
      "86 normalized data directory and name C:\\Users\\vandu\\Desktop\\vancanwin\\yeast-data\\FARS2 screen\\ and 1.csv\n",
      "88 final file directory C:\\Users\\vandu\\Desktop\\vancanwin\\yeast-data\\FARS2 screen\\\\1.csv 1.csv FARS2 screen\n",
      "91 final name C:\\Users\\vandu\\Desktop\\vancanwin\\yeast-data\\!completed\\FARS2 screen\\1_normalized.csv\n"
     ]
    },
    {
     "name": "stderr",
     "output_type": "stream",
     "text": [
      "C:\\Users\\vandu\\AppData\\Local\\Temp\\ipykernel_17572\\431195584.py:38: ParserWarning: Falling back to the 'python' engine because the 'c' engine does not support regex separators (separators > 1 char and different from '\\s+' are interpreted as regex); you can avoid this warning by specifying engine='python'.\n",
      "  df = pd.read_csv(folder+filename, on_bad_lines='skip', encoding = \"utf-8\",sep=\"[_,\\t ;|:]\")#,sep =\"[_\\t ;|:]\",engine='python')\n"
     ]
    },
    {
     "name": "stdout",
     "output_type": "stream",
     "text": [
      "27 unzipped files 10.csv csv\n",
      "33 unzipped files 10.csv\n",
      "33 foldername FARS2 screen\n",
      "44 DF column number 0 <class 'int'> 30\n",
      "line 50 matching? MultiIndex([], )\n",
      "86 normalized data directory and name C:\\Users\\vandu\\Desktop\\vancanwin\\yeast-data\\FARS2 screen\\ and 10.csv\n",
      "88 final file directory C:\\Users\\vandu\\Desktop\\vancanwin\\yeast-data\\FARS2 screen\\\\10.csv 10.csv FARS2 screen\n",
      "91 final name C:\\Users\\vandu\\Desktop\\vancanwin\\yeast-data\\!completed\\FARS2 screen\\10_normalized.csv\n"
     ]
    },
    {
     "name": "stderr",
     "output_type": "stream",
     "text": [
      "C:\\Users\\vandu\\AppData\\Local\\Temp\\ipykernel_17572\\431195584.py:38: ParserWarning: Falling back to the 'python' engine because the 'c' engine does not support regex separators (separators > 1 char and different from '\\s+' are interpreted as regex); you can avoid this warning by specifying engine='python'.\n",
      "  df = pd.read_csv(folder+filename, on_bad_lines='skip', encoding = \"utf-8\",sep=\"[_,\\t ;|:]\")#,sep =\"[_\\t ;|:]\",engine='python')\n"
     ]
    },
    {
     "name": "stdout",
     "output_type": "stream",
     "text": [
      "27 unzipped files 11.csv csv\n",
      "33 unzipped files 11.csv\n",
      "33 foldername FARS2 screen\n",
      "44 DF column number 0 <class 'int'> 30\n",
      "line 50 matching? MultiIndex([], )\n",
      "86 normalized data directory and name C:\\Users\\vandu\\Desktop\\vancanwin\\yeast-data\\FARS2 screen\\ and 11.csv\n",
      "88 final file directory C:\\Users\\vandu\\Desktop\\vancanwin\\yeast-data\\FARS2 screen\\\\11.csv 11.csv FARS2 screen\n",
      "91 final name C:\\Users\\vandu\\Desktop\\vancanwin\\yeast-data\\!completed\\FARS2 screen\\11_normalized.csv\n"
     ]
    },
    {
     "name": "stderr",
     "output_type": "stream",
     "text": [
      "C:\\Users\\vandu\\AppData\\Local\\Temp\\ipykernel_17572\\431195584.py:38: ParserWarning: Falling back to the 'python' engine because the 'c' engine does not support regex separators (separators > 1 char and different from '\\s+' are interpreted as regex); you can avoid this warning by specifying engine='python'.\n",
      "  df = pd.read_csv(folder+filename, on_bad_lines='skip', encoding = \"utf-8\",sep=\"[_,\\t ;|:]\")#,sep =\"[_\\t ;|:]\",engine='python')\n"
     ]
    },
    {
     "name": "stdout",
     "output_type": "stream",
     "text": [
      "27 unzipped files 12.csv csv\n",
      "33 unzipped files 12.csv\n",
      "33 foldername FARS2 screen\n",
      "44 DF column number 0 <class 'int'> 30\n",
      "line 50 matching? MultiIndex([], )\n",
      "86 normalized data directory and name C:\\Users\\vandu\\Desktop\\vancanwin\\yeast-data\\FARS2 screen\\ and 12.csv\n",
      "88 final file directory C:\\Users\\vandu\\Desktop\\vancanwin\\yeast-data\\FARS2 screen\\\\12.csv 12.csv FARS2 screen\n",
      "91 final name C:\\Users\\vandu\\Desktop\\vancanwin\\yeast-data\\!completed\\FARS2 screen\\12_normalized.csv\n"
     ]
    },
    {
     "name": "stderr",
     "output_type": "stream",
     "text": [
      "C:\\Users\\vandu\\AppData\\Local\\Temp\\ipykernel_17572\\431195584.py:38: ParserWarning: Falling back to the 'python' engine because the 'c' engine does not support regex separators (separators > 1 char and different from '\\s+' are interpreted as regex); you can avoid this warning by specifying engine='python'.\n",
      "  df = pd.read_csv(folder+filename, on_bad_lines='skip', encoding = \"utf-8\",sep=\"[_,\\t ;|:]\")#,sep =\"[_\\t ;|:]\",engine='python')\n"
     ]
    },
    {
     "name": "stdout",
     "output_type": "stream",
     "text": [
      "27 unzipped files 13.csv csv\n",
      "33 unzipped files 13.csv\n",
      "33 foldername FARS2 screen\n",
      "44 DF column number 0 <class 'int'> 30\n",
      "line 50 matching? MultiIndex([], )\n",
      "86 normalized data directory and name C:\\Users\\vandu\\Desktop\\vancanwin\\yeast-data\\FARS2 screen\\ and 13.csv\n",
      "88 final file directory C:\\Users\\vandu\\Desktop\\vancanwin\\yeast-data\\FARS2 screen\\\\13.csv 13.csv FARS2 screen\n",
      "91 final name C:\\Users\\vandu\\Desktop\\vancanwin\\yeast-data\\!completed\\FARS2 screen\\13_normalized.csv\n"
     ]
    },
    {
     "name": "stderr",
     "output_type": "stream",
     "text": [
      "C:\\Users\\vandu\\AppData\\Local\\Temp\\ipykernel_17572\\431195584.py:38: ParserWarning: Falling back to the 'python' engine because the 'c' engine does not support regex separators (separators > 1 char and different from '\\s+' are interpreted as regex); you can avoid this warning by specifying engine='python'.\n",
      "  df = pd.read_csv(folder+filename, on_bad_lines='skip', encoding = \"utf-8\",sep=\"[_,\\t ;|:]\")#,sep =\"[_\\t ;|:]\",engine='python')\n"
     ]
    },
    {
     "name": "stdout",
     "output_type": "stream",
     "text": [
      "27 unzipped files 14.csv csv\n",
      "33 unzipped files 14.csv\n",
      "33 foldername FARS2 screen\n",
      "44 DF column number 0 <class 'int'> 30\n",
      "line 50 matching? MultiIndex([], )\n",
      "86 normalized data directory and name C:\\Users\\vandu\\Desktop\\vancanwin\\yeast-data\\FARS2 screen\\ and 14.csv\n",
      "88 final file directory C:\\Users\\vandu\\Desktop\\vancanwin\\yeast-data\\FARS2 screen\\\\14.csv 14.csv FARS2 screen\n",
      "91 final name C:\\Users\\vandu\\Desktop\\vancanwin\\yeast-data\\!completed\\FARS2 screen\\14_normalized.csv\n"
     ]
    },
    {
     "name": "stderr",
     "output_type": "stream",
     "text": [
      "C:\\Users\\vandu\\AppData\\Local\\Temp\\ipykernel_17572\\431195584.py:38: ParserWarning: Falling back to the 'python' engine because the 'c' engine does not support regex separators (separators > 1 char and different from '\\s+' are interpreted as regex); you can avoid this warning by specifying engine='python'.\n",
      "  df = pd.read_csv(folder+filename, on_bad_lines='skip', encoding = \"utf-8\",sep=\"[_,\\t ;|:]\")#,sep =\"[_\\t ;|:]\",engine='python')\n"
     ]
    },
    {
     "name": "stdout",
     "output_type": "stream",
     "text": [
      "27 unzipped files 15.csv csv\n",
      "33 unzipped files 15.csv\n",
      "33 foldername FARS2 screen\n",
      "44 DF column number 0 <class 'int'> 30\n",
      "line 50 matching? MultiIndex([], )\n",
      "86 normalized data directory and name C:\\Users\\vandu\\Desktop\\vancanwin\\yeast-data\\FARS2 screen\\ and 15.csv\n",
      "88 final file directory C:\\Users\\vandu\\Desktop\\vancanwin\\yeast-data\\FARS2 screen\\\\15.csv 15.csv FARS2 screen\n",
      "91 final name C:\\Users\\vandu\\Desktop\\vancanwin\\yeast-data\\!completed\\FARS2 screen\\15_normalized.csv\n"
     ]
    },
    {
     "name": "stderr",
     "output_type": "stream",
     "text": [
      "C:\\Users\\vandu\\AppData\\Local\\Temp\\ipykernel_17572\\431195584.py:38: ParserWarning: Falling back to the 'python' engine because the 'c' engine does not support regex separators (separators > 1 char and different from '\\s+' are interpreted as regex); you can avoid this warning by specifying engine='python'.\n",
      "  df = pd.read_csv(folder+filename, on_bad_lines='skip', encoding = \"utf-8\",sep=\"[_,\\t ;|:]\")#,sep =\"[_\\t ;|:]\",engine='python')\n"
     ]
    },
    {
     "name": "stdout",
     "output_type": "stream",
     "text": [
      "27 unzipped files 16.csv csv\n",
      "33 unzipped files 16.csv\n",
      "33 foldername FARS2 screen\n",
      "44 DF column number 0 <class 'int'> 30\n",
      "line 50 matching? MultiIndex([], )\n",
      "86 normalized data directory and name C:\\Users\\vandu\\Desktop\\vancanwin\\yeast-data\\FARS2 screen\\ and 16.csv\n",
      "88 final file directory C:\\Users\\vandu\\Desktop\\vancanwin\\yeast-data\\FARS2 screen\\\\16.csv 16.csv FARS2 screen\n",
      "91 final name C:\\Users\\vandu\\Desktop\\vancanwin\\yeast-data\\!completed\\FARS2 screen\\16_normalized.csv\n"
     ]
    },
    {
     "name": "stderr",
     "output_type": "stream",
     "text": [
      "C:\\Users\\vandu\\AppData\\Local\\Temp\\ipykernel_17572\\431195584.py:38: ParserWarning: Falling back to the 'python' engine because the 'c' engine does not support regex separators (separators > 1 char and different from '\\s+' are interpreted as regex); you can avoid this warning by specifying engine='python'.\n",
      "  df = pd.read_csv(folder+filename, on_bad_lines='skip', encoding = \"utf-8\",sep=\"[_,\\t ;|:]\")#,sep =\"[_\\t ;|:]\",engine='python')\n"
     ]
    },
    {
     "name": "stdout",
     "output_type": "stream",
     "text": [
      "27 unzipped files 17.csv csv\n",
      "33 unzipped files 17.csv\n",
      "33 foldername FARS2 screen\n",
      "44 DF column number 0 <class 'int'> 30\n",
      "line 50 matching? MultiIndex([], )\n",
      "86 normalized data directory and name C:\\Users\\vandu\\Desktop\\vancanwin\\yeast-data\\FARS2 screen\\ and 17.csv\n",
      "88 final file directory C:\\Users\\vandu\\Desktop\\vancanwin\\yeast-data\\FARS2 screen\\\\17.csv 17.csv FARS2 screen\n",
      "91 final name C:\\Users\\vandu\\Desktop\\vancanwin\\yeast-data\\!completed\\FARS2 screen\\17_normalized.csv\n"
     ]
    },
    {
     "name": "stderr",
     "output_type": "stream",
     "text": [
      "C:\\Users\\vandu\\AppData\\Local\\Temp\\ipykernel_17572\\431195584.py:38: ParserWarning: Falling back to the 'python' engine because the 'c' engine does not support regex separators (separators > 1 char and different from '\\s+' are interpreted as regex); you can avoid this warning by specifying engine='python'.\n",
      "  df = pd.read_csv(folder+filename, on_bad_lines='skip', encoding = \"utf-8\",sep=\"[_,\\t ;|:]\")#,sep =\"[_\\t ;|:]\",engine='python')\n"
     ]
    },
    {
     "name": "stdout",
     "output_type": "stream",
     "text": [
      "27 unzipped files 18.csv csv\n",
      "33 unzipped files 18.csv\n",
      "33 foldername FARS2 screen\n",
      "44 DF column number 0 <class 'int'> 30\n",
      "line 50 matching? MultiIndex([], )\n",
      "86 normalized data directory and name C:\\Users\\vandu\\Desktop\\vancanwin\\yeast-data\\FARS2 screen\\ and 18.csv\n",
      "88 final file directory C:\\Users\\vandu\\Desktop\\vancanwin\\yeast-data\\FARS2 screen\\\\18.csv 18.csv FARS2 screen\n",
      "91 final name C:\\Users\\vandu\\Desktop\\vancanwin\\yeast-data\\!completed\\FARS2 screen\\18_normalized.csv\n"
     ]
    },
    {
     "name": "stderr",
     "output_type": "stream",
     "text": [
      "C:\\Users\\vandu\\AppData\\Local\\Temp\\ipykernel_17572\\431195584.py:38: ParserWarning: Falling back to the 'python' engine because the 'c' engine does not support regex separators (separators > 1 char and different from '\\s+' are interpreted as regex); you can avoid this warning by specifying engine='python'.\n",
      "  df = pd.read_csv(folder+filename, on_bad_lines='skip', encoding = \"utf-8\",sep=\"[_,\\t ;|:]\")#,sep =\"[_\\t ;|:]\",engine='python')\n"
     ]
    },
    {
     "name": "stdout",
     "output_type": "stream",
     "text": [
      "27 unzipped files 19.csv csv\n",
      "33 unzipped files 19.csv\n",
      "33 foldername FARS2 screen\n",
      "44 DF column number 0 <class 'int'> 30\n",
      "line 50 matching? MultiIndex([], )\n",
      "86 normalized data directory and name C:\\Users\\vandu\\Desktop\\vancanwin\\yeast-data\\FARS2 screen\\ and 19.csv\n",
      "88 final file directory C:\\Users\\vandu\\Desktop\\vancanwin\\yeast-data\\FARS2 screen\\\\19.csv 19.csv FARS2 screen\n",
      "91 final name C:\\Users\\vandu\\Desktop\\vancanwin\\yeast-data\\!completed\\FARS2 screen\\19_normalized.csv\n"
     ]
    },
    {
     "name": "stderr",
     "output_type": "stream",
     "text": [
      "C:\\Users\\vandu\\AppData\\Local\\Temp\\ipykernel_17572\\431195584.py:38: ParserWarning: Falling back to the 'python' engine because the 'c' engine does not support regex separators (separators > 1 char and different from '\\s+' are interpreted as regex); you can avoid this warning by specifying engine='python'.\n",
      "  df = pd.read_csv(folder+filename, on_bad_lines='skip', encoding = \"utf-8\",sep=\"[_,\\t ;|:]\")#,sep =\"[_\\t ;|:]\",engine='python')\n"
     ]
    },
    {
     "name": "stdout",
     "output_type": "stream",
     "text": [
      "27 unzipped files 2.csv csv\n",
      "33 unzipped files 2.csv\n",
      "33 foldername FARS2 screen\n",
      "44 DF column number 0 <class 'int'> 30\n",
      "line 50 matching? MultiIndex([], )\n",
      "86 normalized data directory and name C:\\Users\\vandu\\Desktop\\vancanwin\\yeast-data\\FARS2 screen\\ and 2.csv\n",
      "88 final file directory C:\\Users\\vandu\\Desktop\\vancanwin\\yeast-data\\FARS2 screen\\\\2.csv 2.csv FARS2 screen\n",
      "91 final name C:\\Users\\vandu\\Desktop\\vancanwin\\yeast-data\\!completed\\FARS2 screen\\2_normalized.csv\n"
     ]
    },
    {
     "name": "stderr",
     "output_type": "stream",
     "text": [
      "C:\\Users\\vandu\\AppData\\Local\\Temp\\ipykernel_17572\\431195584.py:38: ParserWarning: Falling back to the 'python' engine because the 'c' engine does not support regex separators (separators > 1 char and different from '\\s+' are interpreted as regex); you can avoid this warning by specifying engine='python'.\n",
      "  df = pd.read_csv(folder+filename, on_bad_lines='skip', encoding = \"utf-8\",sep=\"[_,\\t ;|:]\")#,sep =\"[_\\t ;|:]\",engine='python')\n"
     ]
    },
    {
     "name": "stdout",
     "output_type": "stream",
     "text": [
      "27 unzipped files 20.csv csv\n",
      "33 unzipped files 20.csv\n",
      "33 foldername FARS2 screen\n",
      "44 DF column number 0 <class 'int'> 30\n",
      "line 50 matching? MultiIndex([], )\n",
      "86 normalized data directory and name C:\\Users\\vandu\\Desktop\\vancanwin\\yeast-data\\FARS2 screen\\ and 20.csv\n",
      "88 final file directory C:\\Users\\vandu\\Desktop\\vancanwin\\yeast-data\\FARS2 screen\\\\20.csv 20.csv FARS2 screen\n",
      "91 final name C:\\Users\\vandu\\Desktop\\vancanwin\\yeast-data\\!completed\\FARS2 screen\\20_normalized.csv\n"
     ]
    },
    {
     "name": "stderr",
     "output_type": "stream",
     "text": [
      "C:\\Users\\vandu\\AppData\\Local\\Temp\\ipykernel_17572\\431195584.py:38: ParserWarning: Falling back to the 'python' engine because the 'c' engine does not support regex separators (separators > 1 char and different from '\\s+' are interpreted as regex); you can avoid this warning by specifying engine='python'.\n",
      "  df = pd.read_csv(folder+filename, on_bad_lines='skip', encoding = \"utf-8\",sep=\"[_,\\t ;|:]\")#,sep =\"[_\\t ;|:]\",engine='python')\n"
     ]
    },
    {
     "name": "stdout",
     "output_type": "stream",
     "text": [
      "27 unzipped files 21.csv csv\n",
      "33 unzipped files 21.csv\n",
      "33 foldername FARS2 screen\n",
      "44 DF column number 0 <class 'int'> 30\n",
      "line 50 matching? MultiIndex([], )\n",
      "86 normalized data directory and name C:\\Users\\vandu\\Desktop\\vancanwin\\yeast-data\\FARS2 screen\\ and 21.csv\n",
      "88 final file directory C:\\Users\\vandu\\Desktop\\vancanwin\\yeast-data\\FARS2 screen\\\\21.csv 21.csv FARS2 screen\n",
      "91 final name C:\\Users\\vandu\\Desktop\\vancanwin\\yeast-data\\!completed\\FARS2 screen\\21_normalized.csv\n"
     ]
    },
    {
     "name": "stderr",
     "output_type": "stream",
     "text": [
      "C:\\Users\\vandu\\AppData\\Local\\Temp\\ipykernel_17572\\431195584.py:38: ParserWarning: Falling back to the 'python' engine because the 'c' engine does not support regex separators (separators > 1 char and different from '\\s+' are interpreted as regex); you can avoid this warning by specifying engine='python'.\n",
      "  df = pd.read_csv(folder+filename, on_bad_lines='skip', encoding = \"utf-8\",sep=\"[_,\\t ;|:]\")#,sep =\"[_\\t ;|:]\",engine='python')\n"
     ]
    },
    {
     "name": "stdout",
     "output_type": "stream",
     "text": [
      "27 unzipped files 22.csv csv\n",
      "33 unzipped files 22.csv\n",
      "33 foldername FARS2 screen\n",
      "44 DF column number 0 <class 'int'> 30\n",
      "line 50 matching? MultiIndex([], )\n",
      "86 normalized data directory and name C:\\Users\\vandu\\Desktop\\vancanwin\\yeast-data\\FARS2 screen\\ and 22.csv\n",
      "88 final file directory C:\\Users\\vandu\\Desktop\\vancanwin\\yeast-data\\FARS2 screen\\\\22.csv 22.csv FARS2 screen\n",
      "91 final name C:\\Users\\vandu\\Desktop\\vancanwin\\yeast-data\\!completed\\FARS2 screen\\22_normalized.csv\n"
     ]
    },
    {
     "name": "stderr",
     "output_type": "stream",
     "text": [
      "C:\\Users\\vandu\\AppData\\Local\\Temp\\ipykernel_17572\\431195584.py:38: ParserWarning: Falling back to the 'python' engine because the 'c' engine does not support regex separators (separators > 1 char and different from '\\s+' are interpreted as regex); you can avoid this warning by specifying engine='python'.\n",
      "  df = pd.read_csv(folder+filename, on_bad_lines='skip', encoding = \"utf-8\",sep=\"[_,\\t ;|:]\")#,sep =\"[_\\t ;|:]\",engine='python')\n"
     ]
    },
    {
     "name": "stdout",
     "output_type": "stream",
     "text": [
      "27 unzipped files 23.csv csv\n",
      "33 unzipped files 23.csv\n",
      "33 foldername FARS2 screen\n",
      "44 DF column number 0 <class 'int'> 30\n",
      "line 50 matching? MultiIndex([], )\n",
      "86 normalized data directory and name C:\\Users\\vandu\\Desktop\\vancanwin\\yeast-data\\FARS2 screen\\ and 23.csv\n",
      "88 final file directory C:\\Users\\vandu\\Desktop\\vancanwin\\yeast-data\\FARS2 screen\\\\23.csv 23.csv FARS2 screen\n",
      "91 final name C:\\Users\\vandu\\Desktop\\vancanwin\\yeast-data\\!completed\\FARS2 screen\\23_normalized.csv\n"
     ]
    },
    {
     "name": "stderr",
     "output_type": "stream",
     "text": [
      "C:\\Users\\vandu\\AppData\\Local\\Temp\\ipykernel_17572\\431195584.py:38: ParserWarning: Falling back to the 'python' engine because the 'c' engine does not support regex separators (separators > 1 char and different from '\\s+' are interpreted as regex); you can avoid this warning by specifying engine='python'.\n",
      "  df = pd.read_csv(folder+filename, on_bad_lines='skip', encoding = \"utf-8\",sep=\"[_,\\t ;|:]\")#,sep =\"[_\\t ;|:]\",engine='python')\n"
     ]
    },
    {
     "name": "stdout",
     "output_type": "stream",
     "text": [
      "27 unzipped files 24.csv csv\n",
      "33 unzipped files 24.csv\n",
      "33 foldername FARS2 screen\n",
      "44 DF column number 0 <class 'int'> 30\n",
      "line 50 matching? MultiIndex([], )\n",
      "86 normalized data directory and name C:\\Users\\vandu\\Desktop\\vancanwin\\yeast-data\\FARS2 screen\\ and 24.csv\n",
      "88 final file directory C:\\Users\\vandu\\Desktop\\vancanwin\\yeast-data\\FARS2 screen\\\\24.csv 24.csv FARS2 screen\n",
      "91 final name C:\\Users\\vandu\\Desktop\\vancanwin\\yeast-data\\!completed\\FARS2 screen\\24_normalized.csv\n"
     ]
    },
    {
     "name": "stderr",
     "output_type": "stream",
     "text": [
      "C:\\Users\\vandu\\AppData\\Local\\Temp\\ipykernel_17572\\431195584.py:38: ParserWarning: Falling back to the 'python' engine because the 'c' engine does not support regex separators (separators > 1 char and different from '\\s+' are interpreted as regex); you can avoid this warning by specifying engine='python'.\n",
      "  df = pd.read_csv(folder+filename, on_bad_lines='skip', encoding = \"utf-8\",sep=\"[_,\\t ;|:]\")#,sep =\"[_\\t ;|:]\",engine='python')\n"
     ]
    },
    {
     "name": "stdout",
     "output_type": "stream",
     "text": [
      "27 unzipped files 25.csv csv\n",
      "33 unzipped files 25.csv\n",
      "33 foldername FARS2 screen\n",
      "44 DF column number 0 <class 'int'> 30\n",
      "line 50 matching? MultiIndex([], )\n",
      "86 normalized data directory and name C:\\Users\\vandu\\Desktop\\vancanwin\\yeast-data\\FARS2 screen\\ and 25.csv\n",
      "88 final file directory C:\\Users\\vandu\\Desktop\\vancanwin\\yeast-data\\FARS2 screen\\\\25.csv 25.csv FARS2 screen\n",
      "91 final name C:\\Users\\vandu\\Desktop\\vancanwin\\yeast-data\\!completed\\FARS2 screen\\25_normalized.csv\n"
     ]
    },
    {
     "name": "stderr",
     "output_type": "stream",
     "text": [
      "C:\\Users\\vandu\\AppData\\Local\\Temp\\ipykernel_17572\\431195584.py:38: ParserWarning: Falling back to the 'python' engine because the 'c' engine does not support regex separators (separators > 1 char and different from '\\s+' are interpreted as regex); you can avoid this warning by specifying engine='python'.\n",
      "  df = pd.read_csv(folder+filename, on_bad_lines='skip', encoding = \"utf-8\",sep=\"[_,\\t ;|:]\")#,sep =\"[_\\t ;|:]\",engine='python')\n"
     ]
    },
    {
     "name": "stdout",
     "output_type": "stream",
     "text": [
      "27 unzipped files 26.csv csv\n",
      "33 unzipped files 26.csv\n",
      "33 foldername FARS2 screen\n",
      "44 DF column number 0 <class 'int'> 30\n",
      "line 50 matching? MultiIndex([], )\n",
      "86 normalized data directory and name C:\\Users\\vandu\\Desktop\\vancanwin\\yeast-data\\FARS2 screen\\ and 26.csv\n",
      "88 final file directory C:\\Users\\vandu\\Desktop\\vancanwin\\yeast-data\\FARS2 screen\\\\26.csv 26.csv FARS2 screen\n",
      "91 final name C:\\Users\\vandu\\Desktop\\vancanwin\\yeast-data\\!completed\\FARS2 screen\\26_normalized.csv\n"
     ]
    },
    {
     "name": "stderr",
     "output_type": "stream",
     "text": [
      "C:\\Users\\vandu\\AppData\\Local\\Temp\\ipykernel_17572\\431195584.py:38: ParserWarning: Falling back to the 'python' engine because the 'c' engine does not support regex separators (separators > 1 char and different from '\\s+' are interpreted as regex); you can avoid this warning by specifying engine='python'.\n",
      "  df = pd.read_csv(folder+filename, on_bad_lines='skip', encoding = \"utf-8\",sep=\"[_,\\t ;|:]\")#,sep =\"[_\\t ;|:]\",engine='python')\n"
     ]
    },
    {
     "name": "stdout",
     "output_type": "stream",
     "text": [
      "27 unzipped files 27.csv csv\n",
      "33 unzipped files 27.csv\n",
      "33 foldername FARS2 screen\n",
      "44 DF column number 0 <class 'int'> 30\n",
      "line 50 matching? MultiIndex([], )\n",
      "86 normalized data directory and name C:\\Users\\vandu\\Desktop\\vancanwin\\yeast-data\\FARS2 screen\\ and 27.csv\n",
      "88 final file directory C:\\Users\\vandu\\Desktop\\vancanwin\\yeast-data\\FARS2 screen\\\\27.csv 27.csv FARS2 screen\n",
      "91 final name C:\\Users\\vandu\\Desktop\\vancanwin\\yeast-data\\!completed\\FARS2 screen\\27_normalized.csv\n"
     ]
    },
    {
     "name": "stderr",
     "output_type": "stream",
     "text": [
      "C:\\Users\\vandu\\AppData\\Local\\Temp\\ipykernel_17572\\431195584.py:38: ParserWarning: Falling back to the 'python' engine because the 'c' engine does not support regex separators (separators > 1 char and different from '\\s+' are interpreted as regex); you can avoid this warning by specifying engine='python'.\n",
      "  df = pd.read_csv(folder+filename, on_bad_lines='skip', encoding = \"utf-8\",sep=\"[_,\\t ;|:]\")#,sep =\"[_\\t ;|:]\",engine='python')\n"
     ]
    },
    {
     "name": "stdout",
     "output_type": "stream",
     "text": [
      "27 unzipped files 3.csv csv\n",
      "33 unzipped files 3.csv\n",
      "33 foldername FARS2 screen\n",
      "44 DF column number 0 <class 'int'> 30\n",
      "line 50 matching? MultiIndex([], )\n",
      "86 normalized data directory and name C:\\Users\\vandu\\Desktop\\vancanwin\\yeast-data\\FARS2 screen\\ and 3.csv\n",
      "88 final file directory C:\\Users\\vandu\\Desktop\\vancanwin\\yeast-data\\FARS2 screen\\\\3.csv 3.csv FARS2 screen\n",
      "91 final name C:\\Users\\vandu\\Desktop\\vancanwin\\yeast-data\\!completed\\FARS2 screen\\3_normalized.csv\n"
     ]
    },
    {
     "name": "stderr",
     "output_type": "stream",
     "text": [
      "C:\\Users\\vandu\\AppData\\Local\\Temp\\ipykernel_17572\\431195584.py:38: ParserWarning: Falling back to the 'python' engine because the 'c' engine does not support regex separators (separators > 1 char and different from '\\s+' are interpreted as regex); you can avoid this warning by specifying engine='python'.\n",
      "  df = pd.read_csv(folder+filename, on_bad_lines='skip', encoding = \"utf-8\",sep=\"[_,\\t ;|:]\")#,sep =\"[_\\t ;|:]\",engine='python')\n"
     ]
    },
    {
     "name": "stdout",
     "output_type": "stream",
     "text": [
      "27 unzipped files 4.csv csv\n",
      "33 unzipped files 4.csv\n",
      "33 foldername FARS2 screen\n",
      "44 DF column number 0 <class 'int'> 30\n",
      "line 50 matching? MultiIndex([], )\n",
      "86 normalized data directory and name C:\\Users\\vandu\\Desktop\\vancanwin\\yeast-data\\FARS2 screen\\ and 4.csv\n",
      "88 final file directory C:\\Users\\vandu\\Desktop\\vancanwin\\yeast-data\\FARS2 screen\\\\4.csv 4.csv FARS2 screen\n",
      "91 final name C:\\Users\\vandu\\Desktop\\vancanwin\\yeast-data\\!completed\\FARS2 screen\\4_normalized.csv\n"
     ]
    },
    {
     "name": "stderr",
     "output_type": "stream",
     "text": [
      "C:\\Users\\vandu\\AppData\\Local\\Temp\\ipykernel_17572\\431195584.py:38: ParserWarning: Falling back to the 'python' engine because the 'c' engine does not support regex separators (separators > 1 char and different from '\\s+' are interpreted as regex); you can avoid this warning by specifying engine='python'.\n",
      "  df = pd.read_csv(folder+filename, on_bad_lines='skip', encoding = \"utf-8\",sep=\"[_,\\t ;|:]\")#,sep =\"[_\\t ;|:]\",engine='python')\n"
     ]
    },
    {
     "name": "stdout",
     "output_type": "stream",
     "text": [
      "27 unzipped files 5.csv csv\n",
      "33 unzipped files 5.csv\n",
      "33 foldername FARS2 screen\n",
      "44 DF column number 0 <class 'int'> 30\n",
      "line 50 matching? MultiIndex([], )\n",
      "86 normalized data directory and name C:\\Users\\vandu\\Desktop\\vancanwin\\yeast-data\\FARS2 screen\\ and 5.csv\n",
      "88 final file directory C:\\Users\\vandu\\Desktop\\vancanwin\\yeast-data\\FARS2 screen\\\\5.csv 5.csv FARS2 screen\n",
      "91 final name C:\\Users\\vandu\\Desktop\\vancanwin\\yeast-data\\!completed\\FARS2 screen\\5_normalized.csv\n"
     ]
    },
    {
     "name": "stderr",
     "output_type": "stream",
     "text": [
      "C:\\Users\\vandu\\AppData\\Local\\Temp\\ipykernel_17572\\431195584.py:38: ParserWarning: Falling back to the 'python' engine because the 'c' engine does not support regex separators (separators > 1 char and different from '\\s+' are interpreted as regex); you can avoid this warning by specifying engine='python'.\n",
      "  df = pd.read_csv(folder+filename, on_bad_lines='skip', encoding = \"utf-8\",sep=\"[_,\\t ;|:]\")#,sep =\"[_\\t ;|:]\",engine='python')\n"
     ]
    },
    {
     "name": "stdout",
     "output_type": "stream",
     "text": [
      "27 unzipped files 6.csv csv\n",
      "33 unzipped files 6.csv\n",
      "33 foldername FARS2 screen\n",
      "44 DF column number 0 <class 'int'> 30\n",
      "line 50 matching? MultiIndex([], )\n",
      "86 normalized data directory and name C:\\Users\\vandu\\Desktop\\vancanwin\\yeast-data\\FARS2 screen\\ and 6.csv\n",
      "88 final file directory C:\\Users\\vandu\\Desktop\\vancanwin\\yeast-data\\FARS2 screen\\\\6.csv 6.csv FARS2 screen\n",
      "91 final name C:\\Users\\vandu\\Desktop\\vancanwin\\yeast-data\\!completed\\FARS2 screen\\6_normalized.csv\n"
     ]
    },
    {
     "name": "stderr",
     "output_type": "stream",
     "text": [
      "C:\\Users\\vandu\\AppData\\Local\\Temp\\ipykernel_17572\\431195584.py:38: ParserWarning: Falling back to the 'python' engine because the 'c' engine does not support regex separators (separators > 1 char and different from '\\s+' are interpreted as regex); you can avoid this warning by specifying engine='python'.\n",
      "  df = pd.read_csv(folder+filename, on_bad_lines='skip', encoding = \"utf-8\",sep=\"[_,\\t ;|:]\")#,sep =\"[_\\t ;|:]\",engine='python')\n"
     ]
    },
    {
     "name": "stdout",
     "output_type": "stream",
     "text": [
      "27 unzipped files 7.csv csv\n",
      "33 unzipped files 7.csv\n",
      "33 foldername FARS2 screen\n",
      "44 DF column number 0 <class 'int'> 30\n",
      "line 50 matching? MultiIndex([], )\n",
      "86 normalized data directory and name C:\\Users\\vandu\\Desktop\\vancanwin\\yeast-data\\FARS2 screen\\ and 7.csv\n",
      "88 final file directory C:\\Users\\vandu\\Desktop\\vancanwin\\yeast-data\\FARS2 screen\\\\7.csv 7.csv FARS2 screen\n",
      "91 final name C:\\Users\\vandu\\Desktop\\vancanwin\\yeast-data\\!completed\\FARS2 screen\\7_normalized.csv\n"
     ]
    },
    {
     "name": "stderr",
     "output_type": "stream",
     "text": [
      "C:\\Users\\vandu\\AppData\\Local\\Temp\\ipykernel_17572\\431195584.py:38: ParserWarning: Falling back to the 'python' engine because the 'c' engine does not support regex separators (separators > 1 char and different from '\\s+' are interpreted as regex); you can avoid this warning by specifying engine='python'.\n",
      "  df = pd.read_csv(folder+filename, on_bad_lines='skip', encoding = \"utf-8\",sep=\"[_,\\t ;|:]\")#,sep =\"[_\\t ;|:]\",engine='python')\n"
     ]
    },
    {
     "name": "stdout",
     "output_type": "stream",
     "text": [
      "27 unzipped files 8.csv csv\n",
      "33 unzipped files 8.csv\n",
      "33 foldername FARS2 screen\n",
      "44 DF column number 0 <class 'int'> 30\n",
      "line 50 matching? MultiIndex([], )\n",
      "86 normalized data directory and name C:\\Users\\vandu\\Desktop\\vancanwin\\yeast-data\\FARS2 screen\\ and 8.csv\n",
      "88 final file directory C:\\Users\\vandu\\Desktop\\vancanwin\\yeast-data\\FARS2 screen\\\\8.csv 8.csv FARS2 screen\n",
      "91 final name C:\\Users\\vandu\\Desktop\\vancanwin\\yeast-data\\!completed\\FARS2 screen\\8_normalized.csv\n"
     ]
    },
    {
     "name": "stderr",
     "output_type": "stream",
     "text": [
      "C:\\Users\\vandu\\AppData\\Local\\Temp\\ipykernel_17572\\431195584.py:38: ParserWarning: Falling back to the 'python' engine because the 'c' engine does not support regex separators (separators > 1 char and different from '\\s+' are interpreted as regex); you can avoid this warning by specifying engine='python'.\n",
      "  df = pd.read_csv(folder+filename, on_bad_lines='skip', encoding = \"utf-8\",sep=\"[_,\\t ;|:]\")#,sep =\"[_\\t ;|:]\",engine='python')\n"
     ]
    },
    {
     "name": "stdout",
     "output_type": "stream",
     "text": [
      "27 unzipped files 9.csv csv\n",
      "33 unzipped files 9.csv\n",
      "33 foldername FARS2 screen\n",
      "44 DF column number 0 <class 'int'> 30\n",
      "line 50 matching? MultiIndex([], )\n",
      "86 normalized data directory and name C:\\Users\\vandu\\Desktop\\vancanwin\\yeast-data\\FARS2 screen\\ and 9.csv\n",
      "88 final file directory C:\\Users\\vandu\\Desktop\\vancanwin\\yeast-data\\FARS2 screen\\\\9.csv 9.csv FARS2 screen\n",
      "91 final name C:\\Users\\vandu\\Desktop\\vancanwin\\yeast-data\\!completed\\FARS2 screen\\9_normalized.csv\n"
     ]
    },
    {
     "name": "stderr",
     "output_type": "stream",
     "text": [
      "C:\\Users\\vandu\\AppData\\Local\\Temp\\ipykernel_17572\\431195584.py:38: ParserWarning: Falling back to the 'python' engine because the 'c' engine does not support regex separators (separators > 1 char and different from '\\s+' are interpreted as regex); you can avoid this warning by specifying engine='python'.\n",
      "  df = pd.read_csv(folder+filename, on_bad_lines='skip', encoding = \"utf-8\",sep=\"[_,\\t ;|:]\")#,sep =\"[_\\t ;|:]\",engine='python')\n"
     ]
    },
    {
     "name": "stdout",
     "output_type": "stream",
     "text": [
      "19 unzipped folder PMM2 Screen PMM2 Screen\n",
      "20 unzipped folder final C:\\Users\\vandu\\Desktop\\vancanwin\\yeast-data\\PMM2 Screen\\\n",
      "244 folder making C:\\Users\\vandu\\Desktop\\vancanwin\\yeast-data\\!completed\\PMM2 Screen\\\n",
      "26 unzipped folder list ['1.csv', '10.csv', '11.csv', '12.csv', '13.csv', '14.csv', '15.csv', '16.csv', '17.csv', '18.csv', '19.csv', '2.csv', '20.csv', '21.csv', '22.csv', '23.csv', '24.csv', '25.csv', '26.csv', '27.csv', '3.csv', '4.csv', '5.csv', '6.csv', '7.csv', '8.csv', '9.csv']\n",
      "27 unzipped files 1.csv csv\n",
      "33 unzipped files 1.csv\n",
      "33 foldername PMM2 Screen\n",
      "44 DF column number 0 <class 'int'> 30\n",
      "line 50 matching? MultiIndex([], )\n",
      "86 normalized data directory and name C:\\Users\\vandu\\Desktop\\vancanwin\\yeast-data\\PMM2 Screen\\ and 1.csv\n",
      "88 final file directory C:\\Users\\vandu\\Desktop\\vancanwin\\yeast-data\\PMM2 Screen\\\\1.csv 1.csv PMM2 Screen\n",
      "91 final name C:\\Users\\vandu\\Desktop\\vancanwin\\yeast-data\\!completed\\PMM2 Screen\\1_normalized.csv\n"
     ]
    },
    {
     "name": "stderr",
     "output_type": "stream",
     "text": [
      "C:\\Users\\vandu\\AppData\\Local\\Temp\\ipykernel_17572\\431195584.py:38: ParserWarning: Falling back to the 'python' engine because the 'c' engine does not support regex separators (separators > 1 char and different from '\\s+' are interpreted as regex); you can avoid this warning by specifying engine='python'.\n",
      "  df = pd.read_csv(folder+filename, on_bad_lines='skip', encoding = \"utf-8\",sep=\"[_,\\t ;|:]\")#,sep =\"[_\\t ;|:]\",engine='python')\n"
     ]
    },
    {
     "name": "stdout",
     "output_type": "stream",
     "text": [
      "27 unzipped files 10.csv csv\n",
      "33 unzipped files 10.csv\n",
      "33 foldername PMM2 Screen\n",
      "44 DF column number 0 <class 'int'> 30\n",
      "line 50 matching? MultiIndex([], )\n",
      "86 normalized data directory and name C:\\Users\\vandu\\Desktop\\vancanwin\\yeast-data\\PMM2 Screen\\ and 10.csv\n",
      "88 final file directory C:\\Users\\vandu\\Desktop\\vancanwin\\yeast-data\\PMM2 Screen\\\\10.csv 10.csv PMM2 Screen\n",
      "91 final name C:\\Users\\vandu\\Desktop\\vancanwin\\yeast-data\\!completed\\PMM2 Screen\\10_normalized.csv\n"
     ]
    },
    {
     "name": "stderr",
     "output_type": "stream",
     "text": [
      "C:\\Users\\vandu\\AppData\\Local\\Temp\\ipykernel_17572\\431195584.py:38: ParserWarning: Falling back to the 'python' engine because the 'c' engine does not support regex separators (separators > 1 char and different from '\\s+' are interpreted as regex); you can avoid this warning by specifying engine='python'.\n",
      "  df = pd.read_csv(folder+filename, on_bad_lines='skip', encoding = \"utf-8\",sep=\"[_,\\t ;|:]\")#,sep =\"[_\\t ;|:]\",engine='python')\n"
     ]
    },
    {
     "name": "stdout",
     "output_type": "stream",
     "text": [
      "27 unzipped files 11.csv csv\n",
      "33 unzipped files 11.csv\n",
      "33 foldername PMM2 Screen\n",
      "44 DF column number 0 <class 'int'> 30\n",
      "line 50 matching? MultiIndex([], )\n",
      "86 normalized data directory and name C:\\Users\\vandu\\Desktop\\vancanwin\\yeast-data\\PMM2 Screen\\ and 11.csv\n",
      "88 final file directory C:\\Users\\vandu\\Desktop\\vancanwin\\yeast-data\\PMM2 Screen\\\\11.csv 11.csv PMM2 Screen\n",
      "91 final name C:\\Users\\vandu\\Desktop\\vancanwin\\yeast-data\\!completed\\PMM2 Screen\\11_normalized.csv\n"
     ]
    },
    {
     "name": "stderr",
     "output_type": "stream",
     "text": [
      "C:\\Users\\vandu\\AppData\\Local\\Temp\\ipykernel_17572\\431195584.py:38: ParserWarning: Falling back to the 'python' engine because the 'c' engine does not support regex separators (separators > 1 char and different from '\\s+' are interpreted as regex); you can avoid this warning by specifying engine='python'.\n",
      "  df = pd.read_csv(folder+filename, on_bad_lines='skip', encoding = \"utf-8\",sep=\"[_,\\t ;|:]\")#,sep =\"[_\\t ;|:]\",engine='python')\n"
     ]
    },
    {
     "name": "stdout",
     "output_type": "stream",
     "text": [
      "27 unzipped files 12.csv csv\n",
      "33 unzipped files 12.csv\n",
      "33 foldername PMM2 Screen\n",
      "44 DF column number 0 <class 'int'> 30\n",
      "line 50 matching? MultiIndex([], )\n",
      "86 normalized data directory and name C:\\Users\\vandu\\Desktop\\vancanwin\\yeast-data\\PMM2 Screen\\ and 12.csv\n",
      "88 final file directory C:\\Users\\vandu\\Desktop\\vancanwin\\yeast-data\\PMM2 Screen\\\\12.csv 12.csv PMM2 Screen\n",
      "91 final name C:\\Users\\vandu\\Desktop\\vancanwin\\yeast-data\\!completed\\PMM2 Screen\\12_normalized.csv\n"
     ]
    },
    {
     "name": "stderr",
     "output_type": "stream",
     "text": [
      "C:\\Users\\vandu\\AppData\\Local\\Temp\\ipykernel_17572\\431195584.py:38: ParserWarning: Falling back to the 'python' engine because the 'c' engine does not support regex separators (separators > 1 char and different from '\\s+' are interpreted as regex); you can avoid this warning by specifying engine='python'.\n",
      "  df = pd.read_csv(folder+filename, on_bad_lines='skip', encoding = \"utf-8\",sep=\"[_,\\t ;|:]\")#,sep =\"[_\\t ;|:]\",engine='python')\n"
     ]
    },
    {
     "name": "stdout",
     "output_type": "stream",
     "text": [
      "27 unzipped files 13.csv csv\n",
      "33 unzipped files 13.csv\n",
      "33 foldername PMM2 Screen\n",
      "44 DF column number 0 <class 'int'> 30\n",
      "line 50 matching? MultiIndex([], )\n",
      "86 normalized data directory and name C:\\Users\\vandu\\Desktop\\vancanwin\\yeast-data\\PMM2 Screen\\ and 13.csv\n",
      "88 final file directory C:\\Users\\vandu\\Desktop\\vancanwin\\yeast-data\\PMM2 Screen\\\\13.csv 13.csv PMM2 Screen\n",
      "91 final name C:\\Users\\vandu\\Desktop\\vancanwin\\yeast-data\\!completed\\PMM2 Screen\\13_normalized.csv\n"
     ]
    },
    {
     "name": "stderr",
     "output_type": "stream",
     "text": [
      "C:\\Users\\vandu\\AppData\\Local\\Temp\\ipykernel_17572\\431195584.py:38: ParserWarning: Falling back to the 'python' engine because the 'c' engine does not support regex separators (separators > 1 char and different from '\\s+' are interpreted as regex); you can avoid this warning by specifying engine='python'.\n",
      "  df = pd.read_csv(folder+filename, on_bad_lines='skip', encoding = \"utf-8\",sep=\"[_,\\t ;|:]\")#,sep =\"[_\\t ;|:]\",engine='python')\n"
     ]
    },
    {
     "name": "stdout",
     "output_type": "stream",
     "text": [
      "27 unzipped files 14.csv csv\n",
      "33 unzipped files 14.csv\n",
      "33 foldername PMM2 Screen\n",
      "44 DF column number 0 <class 'int'> 30\n",
      "line 50 matching? MultiIndex([], )\n",
      "86 normalized data directory and name C:\\Users\\vandu\\Desktop\\vancanwin\\yeast-data\\PMM2 Screen\\ and 14.csv\n",
      "88 final file directory C:\\Users\\vandu\\Desktop\\vancanwin\\yeast-data\\PMM2 Screen\\\\14.csv 14.csv PMM2 Screen\n",
      "91 final name C:\\Users\\vandu\\Desktop\\vancanwin\\yeast-data\\!completed\\PMM2 Screen\\14_normalized.csv\n"
     ]
    },
    {
     "name": "stderr",
     "output_type": "stream",
     "text": [
      "C:\\Users\\vandu\\AppData\\Local\\Temp\\ipykernel_17572\\431195584.py:38: ParserWarning: Falling back to the 'python' engine because the 'c' engine does not support regex separators (separators > 1 char and different from '\\s+' are interpreted as regex); you can avoid this warning by specifying engine='python'.\n",
      "  df = pd.read_csv(folder+filename, on_bad_lines='skip', encoding = \"utf-8\",sep=\"[_,\\t ;|:]\")#,sep =\"[_\\t ;|:]\",engine='python')\n"
     ]
    },
    {
     "name": "stdout",
     "output_type": "stream",
     "text": [
      "27 unzipped files 15.csv csv\n",
      "33 unzipped files 15.csv\n",
      "33 foldername PMM2 Screen\n",
      "44 DF column number 0 <class 'int'> 30\n",
      "line 50 matching? MultiIndex([], )\n",
      "86 normalized data directory and name C:\\Users\\vandu\\Desktop\\vancanwin\\yeast-data\\PMM2 Screen\\ and 15.csv\n",
      "88 final file directory C:\\Users\\vandu\\Desktop\\vancanwin\\yeast-data\\PMM2 Screen\\\\15.csv 15.csv PMM2 Screen\n",
      "91 final name C:\\Users\\vandu\\Desktop\\vancanwin\\yeast-data\\!completed\\PMM2 Screen\\15_normalized.csv\n"
     ]
    },
    {
     "name": "stderr",
     "output_type": "stream",
     "text": [
      "C:\\Users\\vandu\\AppData\\Local\\Temp\\ipykernel_17572\\431195584.py:38: ParserWarning: Falling back to the 'python' engine because the 'c' engine does not support regex separators (separators > 1 char and different from '\\s+' are interpreted as regex); you can avoid this warning by specifying engine='python'.\n",
      "  df = pd.read_csv(folder+filename, on_bad_lines='skip', encoding = \"utf-8\",sep=\"[_,\\t ;|:]\")#,sep =\"[_\\t ;|:]\",engine='python')\n"
     ]
    },
    {
     "name": "stdout",
     "output_type": "stream",
     "text": [
      "27 unzipped files 16.csv csv\n",
      "33 unzipped files 16.csv\n",
      "33 foldername PMM2 Screen\n",
      "44 DF column number 0 <class 'int'> 30\n",
      "line 50 matching? MultiIndex([], )\n",
      "86 normalized data directory and name C:\\Users\\vandu\\Desktop\\vancanwin\\yeast-data\\PMM2 Screen\\ and 16.csv\n",
      "88 final file directory C:\\Users\\vandu\\Desktop\\vancanwin\\yeast-data\\PMM2 Screen\\\\16.csv 16.csv PMM2 Screen\n",
      "91 final name C:\\Users\\vandu\\Desktop\\vancanwin\\yeast-data\\!completed\\PMM2 Screen\\16_normalized.csv\n"
     ]
    },
    {
     "name": "stderr",
     "output_type": "stream",
     "text": [
      "C:\\Users\\vandu\\AppData\\Local\\Temp\\ipykernel_17572\\431195584.py:38: ParserWarning: Falling back to the 'python' engine because the 'c' engine does not support regex separators (separators > 1 char and different from '\\s+' are interpreted as regex); you can avoid this warning by specifying engine='python'.\n",
      "  df = pd.read_csv(folder+filename, on_bad_lines='skip', encoding = \"utf-8\",sep=\"[_,\\t ;|:]\")#,sep =\"[_\\t ;|:]\",engine='python')\n"
     ]
    },
    {
     "name": "stdout",
     "output_type": "stream",
     "text": [
      "27 unzipped files 17.csv csv\n",
      "33 unzipped files 17.csv\n",
      "33 foldername PMM2 Screen\n",
      "44 DF column number 0 <class 'int'> 30\n",
      "line 50 matching? MultiIndex([], )\n",
      "86 normalized data directory and name C:\\Users\\vandu\\Desktop\\vancanwin\\yeast-data\\PMM2 Screen\\ and 17.csv\n",
      "88 final file directory C:\\Users\\vandu\\Desktop\\vancanwin\\yeast-data\\PMM2 Screen\\\\17.csv 17.csv PMM2 Screen\n",
      "91 final name C:\\Users\\vandu\\Desktop\\vancanwin\\yeast-data\\!completed\\PMM2 Screen\\17_normalized.csv\n"
     ]
    },
    {
     "name": "stderr",
     "output_type": "stream",
     "text": [
      "C:\\Users\\vandu\\AppData\\Local\\Temp\\ipykernel_17572\\431195584.py:38: ParserWarning: Falling back to the 'python' engine because the 'c' engine does not support regex separators (separators > 1 char and different from '\\s+' are interpreted as regex); you can avoid this warning by specifying engine='python'.\n",
      "  df = pd.read_csv(folder+filename, on_bad_lines='skip', encoding = \"utf-8\",sep=\"[_,\\t ;|:]\")#,sep =\"[_\\t ;|:]\",engine='python')\n"
     ]
    },
    {
     "name": "stdout",
     "output_type": "stream",
     "text": [
      "27 unzipped files 18.csv csv\n",
      "33 unzipped files 18.csv\n",
      "33 foldername PMM2 Screen\n",
      "44 DF column number 0 <class 'int'> 30\n",
      "line 50 matching? MultiIndex([], )\n",
      "86 normalized data directory and name C:\\Users\\vandu\\Desktop\\vancanwin\\yeast-data\\PMM2 Screen\\ and 18.csv\n",
      "88 final file directory C:\\Users\\vandu\\Desktop\\vancanwin\\yeast-data\\PMM2 Screen\\\\18.csv 18.csv PMM2 Screen\n",
      "91 final name C:\\Users\\vandu\\Desktop\\vancanwin\\yeast-data\\!completed\\PMM2 Screen\\18_normalized.csv\n"
     ]
    },
    {
     "name": "stderr",
     "output_type": "stream",
     "text": [
      "C:\\Users\\vandu\\AppData\\Local\\Temp\\ipykernel_17572\\431195584.py:38: ParserWarning: Falling back to the 'python' engine because the 'c' engine does not support regex separators (separators > 1 char and different from '\\s+' are interpreted as regex); you can avoid this warning by specifying engine='python'.\n",
      "  df = pd.read_csv(folder+filename, on_bad_lines='skip', encoding = \"utf-8\",sep=\"[_,\\t ;|:]\")#,sep =\"[_\\t ;|:]\",engine='python')\n"
     ]
    },
    {
     "name": "stdout",
     "output_type": "stream",
     "text": [
      "27 unzipped files 19.csv csv\n",
      "33 unzipped files 19.csv\n",
      "33 foldername PMM2 Screen\n",
      "44 DF column number 0 <class 'int'> 30\n",
      "line 50 matching? MultiIndex([], )\n",
      "86 normalized data directory and name C:\\Users\\vandu\\Desktop\\vancanwin\\yeast-data\\PMM2 Screen\\ and 19.csv\n",
      "88 final file directory C:\\Users\\vandu\\Desktop\\vancanwin\\yeast-data\\PMM2 Screen\\\\19.csv 19.csv PMM2 Screen\n",
      "91 final name C:\\Users\\vandu\\Desktop\\vancanwin\\yeast-data\\!completed\\PMM2 Screen\\19_normalized.csv\n"
     ]
    },
    {
     "name": "stderr",
     "output_type": "stream",
     "text": [
      "C:\\Users\\vandu\\AppData\\Local\\Temp\\ipykernel_17572\\431195584.py:38: ParserWarning: Falling back to the 'python' engine because the 'c' engine does not support regex separators (separators > 1 char and different from '\\s+' are interpreted as regex); you can avoid this warning by specifying engine='python'.\n",
      "  df = pd.read_csv(folder+filename, on_bad_lines='skip', encoding = \"utf-8\",sep=\"[_,\\t ;|:]\")#,sep =\"[_\\t ;|:]\",engine='python')\n"
     ]
    },
    {
     "name": "stdout",
     "output_type": "stream",
     "text": [
      "27 unzipped files 2.csv csv\n",
      "33 unzipped files 2.csv\n",
      "33 foldername PMM2 Screen\n",
      "44 DF column number 0 <class 'int'> 30\n",
      "line 50 matching? MultiIndex([], )\n",
      "86 normalized data directory and name C:\\Users\\vandu\\Desktop\\vancanwin\\yeast-data\\PMM2 Screen\\ and 2.csv\n",
      "88 final file directory C:\\Users\\vandu\\Desktop\\vancanwin\\yeast-data\\PMM2 Screen\\\\2.csv 2.csv PMM2 Screen\n",
      "91 final name C:\\Users\\vandu\\Desktop\\vancanwin\\yeast-data\\!completed\\PMM2 Screen\\2_normalized.csv\n"
     ]
    },
    {
     "name": "stderr",
     "output_type": "stream",
     "text": [
      "C:\\Users\\vandu\\AppData\\Local\\Temp\\ipykernel_17572\\431195584.py:38: ParserWarning: Falling back to the 'python' engine because the 'c' engine does not support regex separators (separators > 1 char and different from '\\s+' are interpreted as regex); you can avoid this warning by specifying engine='python'.\n",
      "  df = pd.read_csv(folder+filename, on_bad_lines='skip', encoding = \"utf-8\",sep=\"[_,\\t ;|:]\")#,sep =\"[_\\t ;|:]\",engine='python')\n"
     ]
    },
    {
     "name": "stdout",
     "output_type": "stream",
     "text": [
      "27 unzipped files 20.csv csv\n",
      "33 unzipped files 20.csv\n",
      "33 foldername PMM2 Screen\n",
      "44 DF column number 0 <class 'int'> 30\n",
      "line 50 matching? MultiIndex([], )\n",
      "86 normalized data directory and name C:\\Users\\vandu\\Desktop\\vancanwin\\yeast-data\\PMM2 Screen\\ and 20.csv\n",
      "88 final file directory C:\\Users\\vandu\\Desktop\\vancanwin\\yeast-data\\PMM2 Screen\\\\20.csv 20.csv PMM2 Screen\n",
      "91 final name C:\\Users\\vandu\\Desktop\\vancanwin\\yeast-data\\!completed\\PMM2 Screen\\20_normalized.csv\n"
     ]
    },
    {
     "name": "stderr",
     "output_type": "stream",
     "text": [
      "C:\\Users\\vandu\\AppData\\Local\\Temp\\ipykernel_17572\\431195584.py:38: ParserWarning: Falling back to the 'python' engine because the 'c' engine does not support regex separators (separators > 1 char and different from '\\s+' are interpreted as regex); you can avoid this warning by specifying engine='python'.\n",
      "  df = pd.read_csv(folder+filename, on_bad_lines='skip', encoding = \"utf-8\",sep=\"[_,\\t ;|:]\")#,sep =\"[_\\t ;|:]\",engine='python')\n"
     ]
    },
    {
     "name": "stdout",
     "output_type": "stream",
     "text": [
      "27 unzipped files 21.csv csv\n",
      "33 unzipped files 21.csv\n",
      "33 foldername PMM2 Screen\n",
      "44 DF column number 0 <class 'int'> 30\n",
      "line 50 matching? MultiIndex([], )\n",
      "86 normalized data directory and name C:\\Users\\vandu\\Desktop\\vancanwin\\yeast-data\\PMM2 Screen\\ and 21.csv\n",
      "88 final file directory C:\\Users\\vandu\\Desktop\\vancanwin\\yeast-data\\PMM2 Screen\\\\21.csv 21.csv PMM2 Screen\n",
      "91 final name C:\\Users\\vandu\\Desktop\\vancanwin\\yeast-data\\!completed\\PMM2 Screen\\21_normalized.csv\n"
     ]
    },
    {
     "name": "stderr",
     "output_type": "stream",
     "text": [
      "C:\\Users\\vandu\\AppData\\Local\\Temp\\ipykernel_17572\\431195584.py:38: ParserWarning: Falling back to the 'python' engine because the 'c' engine does not support regex separators (separators > 1 char and different from '\\s+' are interpreted as regex); you can avoid this warning by specifying engine='python'.\n",
      "  df = pd.read_csv(folder+filename, on_bad_lines='skip', encoding = \"utf-8\",sep=\"[_,\\t ;|:]\")#,sep =\"[_\\t ;|:]\",engine='python')\n"
     ]
    },
    {
     "name": "stdout",
     "output_type": "stream",
     "text": [
      "27 unzipped files 22.csv csv\n",
      "33 unzipped files 22.csv\n",
      "33 foldername PMM2 Screen\n",
      "44 DF column number 0 <class 'int'> 30\n",
      "line 50 matching? MultiIndex([], )\n",
      "86 normalized data directory and name C:\\Users\\vandu\\Desktop\\vancanwin\\yeast-data\\PMM2 Screen\\ and 22.csv\n",
      "88 final file directory C:\\Users\\vandu\\Desktop\\vancanwin\\yeast-data\\PMM2 Screen\\\\22.csv 22.csv PMM2 Screen\n",
      "91 final name C:\\Users\\vandu\\Desktop\\vancanwin\\yeast-data\\!completed\\PMM2 Screen\\22_normalized.csv\n"
     ]
    },
    {
     "name": "stderr",
     "output_type": "stream",
     "text": [
      "C:\\Users\\vandu\\AppData\\Local\\Temp\\ipykernel_17572\\431195584.py:38: ParserWarning: Falling back to the 'python' engine because the 'c' engine does not support regex separators (separators > 1 char and different from '\\s+' are interpreted as regex); you can avoid this warning by specifying engine='python'.\n",
      "  df = pd.read_csv(folder+filename, on_bad_lines='skip', encoding = \"utf-8\",sep=\"[_,\\t ;|:]\")#,sep =\"[_\\t ;|:]\",engine='python')\n"
     ]
    },
    {
     "name": "stdout",
     "output_type": "stream",
     "text": [
      "27 unzipped files 23.csv csv\n",
      "33 unzipped files 23.csv\n",
      "33 foldername PMM2 Screen\n",
      "44 DF column number 0 <class 'int'> 30\n",
      "line 50 matching? MultiIndex([], )\n",
      "86 normalized data directory and name C:\\Users\\vandu\\Desktop\\vancanwin\\yeast-data\\PMM2 Screen\\ and 23.csv\n",
      "88 final file directory C:\\Users\\vandu\\Desktop\\vancanwin\\yeast-data\\PMM2 Screen\\\\23.csv 23.csv PMM2 Screen\n",
      "91 final name C:\\Users\\vandu\\Desktop\\vancanwin\\yeast-data\\!completed\\PMM2 Screen\\23_normalized.csv\n"
     ]
    },
    {
     "name": "stderr",
     "output_type": "stream",
     "text": [
      "C:\\Users\\vandu\\AppData\\Local\\Temp\\ipykernel_17572\\431195584.py:38: ParserWarning: Falling back to the 'python' engine because the 'c' engine does not support regex separators (separators > 1 char and different from '\\s+' are interpreted as regex); you can avoid this warning by specifying engine='python'.\n",
      "  df = pd.read_csv(folder+filename, on_bad_lines='skip', encoding = \"utf-8\",sep=\"[_,\\t ;|:]\")#,sep =\"[_\\t ;|:]\",engine='python')\n"
     ]
    },
    {
     "name": "stdout",
     "output_type": "stream",
     "text": [
      "27 unzipped files 24.csv csv\n",
      "33 unzipped files 24.csv\n",
      "33 foldername PMM2 Screen\n",
      "44 DF column number 0 <class 'int'> 30\n",
      "line 50 matching? MultiIndex([], )\n",
      "86 normalized data directory and name C:\\Users\\vandu\\Desktop\\vancanwin\\yeast-data\\PMM2 Screen\\ and 24.csv\n",
      "88 final file directory C:\\Users\\vandu\\Desktop\\vancanwin\\yeast-data\\PMM2 Screen\\\\24.csv 24.csv PMM2 Screen\n",
      "91 final name C:\\Users\\vandu\\Desktop\\vancanwin\\yeast-data\\!completed\\PMM2 Screen\\24_normalized.csv\n"
     ]
    },
    {
     "name": "stderr",
     "output_type": "stream",
     "text": [
      "C:\\Users\\vandu\\AppData\\Local\\Temp\\ipykernel_17572\\431195584.py:38: ParserWarning: Falling back to the 'python' engine because the 'c' engine does not support regex separators (separators > 1 char and different from '\\s+' are interpreted as regex); you can avoid this warning by specifying engine='python'.\n",
      "  df = pd.read_csv(folder+filename, on_bad_lines='skip', encoding = \"utf-8\",sep=\"[_,\\t ;|:]\")#,sep =\"[_\\t ;|:]\",engine='python')\n"
     ]
    },
    {
     "name": "stdout",
     "output_type": "stream",
     "text": [
      "27 unzipped files 25.csv csv\n",
      "33 unzipped files 25.csv\n",
      "33 foldername PMM2 Screen\n",
      "44 DF column number 0 <class 'int'> 30\n",
      "line 50 matching? MultiIndex([], )\n",
      "86 normalized data directory and name C:\\Users\\vandu\\Desktop\\vancanwin\\yeast-data\\PMM2 Screen\\ and 25.csv\n",
      "88 final file directory C:\\Users\\vandu\\Desktop\\vancanwin\\yeast-data\\PMM2 Screen\\\\25.csv 25.csv PMM2 Screen\n",
      "91 final name C:\\Users\\vandu\\Desktop\\vancanwin\\yeast-data\\!completed\\PMM2 Screen\\25_normalized.csv\n"
     ]
    },
    {
     "name": "stderr",
     "output_type": "stream",
     "text": [
      "C:\\Users\\vandu\\AppData\\Local\\Temp\\ipykernel_17572\\431195584.py:38: ParserWarning: Falling back to the 'python' engine because the 'c' engine does not support regex separators (separators > 1 char and different from '\\s+' are interpreted as regex); you can avoid this warning by specifying engine='python'.\n",
      "  df = pd.read_csv(folder+filename, on_bad_lines='skip', encoding = \"utf-8\",sep=\"[_,\\t ;|:]\")#,sep =\"[_\\t ;|:]\",engine='python')\n"
     ]
    },
    {
     "name": "stdout",
     "output_type": "stream",
     "text": [
      "27 unzipped files 26.csv csv\n",
      "33 unzipped files 26.csv\n",
      "33 foldername PMM2 Screen\n",
      "44 DF column number 0 <class 'int'> 30\n",
      "line 50 matching? MultiIndex([], )\n",
      "86 normalized data directory and name C:\\Users\\vandu\\Desktop\\vancanwin\\yeast-data\\PMM2 Screen\\ and 26.csv\n",
      "88 final file directory C:\\Users\\vandu\\Desktop\\vancanwin\\yeast-data\\PMM2 Screen\\\\26.csv 26.csv PMM2 Screen\n",
      "91 final name C:\\Users\\vandu\\Desktop\\vancanwin\\yeast-data\\!completed\\PMM2 Screen\\26_normalized.csv\n"
     ]
    },
    {
     "name": "stderr",
     "output_type": "stream",
     "text": [
      "C:\\Users\\vandu\\AppData\\Local\\Temp\\ipykernel_17572\\431195584.py:38: ParserWarning: Falling back to the 'python' engine because the 'c' engine does not support regex separators (separators > 1 char and different from '\\s+' are interpreted as regex); you can avoid this warning by specifying engine='python'.\n",
      "  df = pd.read_csv(folder+filename, on_bad_lines='skip', encoding = \"utf-8\",sep=\"[_,\\t ;|:]\")#,sep =\"[_\\t ;|:]\",engine='python')\n"
     ]
    },
    {
     "name": "stdout",
     "output_type": "stream",
     "text": [
      "27 unzipped files 27.csv csv\n",
      "33 unzipped files 27.csv\n",
      "33 foldername PMM2 Screen\n",
      "44 DF column number 0 <class 'int'> 30\n",
      "line 50 matching? MultiIndex([], )\n",
      "86 normalized data directory and name C:\\Users\\vandu\\Desktop\\vancanwin\\yeast-data\\PMM2 Screen\\ and 27.csv\n",
      "88 final file directory C:\\Users\\vandu\\Desktop\\vancanwin\\yeast-data\\PMM2 Screen\\\\27.csv 27.csv PMM2 Screen\n",
      "91 final name C:\\Users\\vandu\\Desktop\\vancanwin\\yeast-data\\!completed\\PMM2 Screen\\27_normalized.csv\n"
     ]
    },
    {
     "name": "stderr",
     "output_type": "stream",
     "text": [
      "C:\\Users\\vandu\\AppData\\Local\\Temp\\ipykernel_17572\\431195584.py:38: ParserWarning: Falling back to the 'python' engine because the 'c' engine does not support regex separators (separators > 1 char and different from '\\s+' are interpreted as regex); you can avoid this warning by specifying engine='python'.\n",
      "  df = pd.read_csv(folder+filename, on_bad_lines='skip', encoding = \"utf-8\",sep=\"[_,\\t ;|:]\")#,sep =\"[_\\t ;|:]\",engine='python')\n"
     ]
    },
    {
     "name": "stdout",
     "output_type": "stream",
     "text": [
      "27 unzipped files 3.csv csv\n",
      "33 unzipped files 3.csv\n",
      "33 foldername PMM2 Screen\n",
      "44 DF column number 0 <class 'int'> 30\n",
      "line 50 matching? MultiIndex([], )\n",
      "86 normalized data directory and name C:\\Users\\vandu\\Desktop\\vancanwin\\yeast-data\\PMM2 Screen\\ and 3.csv\n",
      "88 final file directory C:\\Users\\vandu\\Desktop\\vancanwin\\yeast-data\\PMM2 Screen\\\\3.csv 3.csv PMM2 Screen\n",
      "91 final name C:\\Users\\vandu\\Desktop\\vancanwin\\yeast-data\\!completed\\PMM2 Screen\\3_normalized.csv\n"
     ]
    },
    {
     "name": "stderr",
     "output_type": "stream",
     "text": [
      "C:\\Users\\vandu\\AppData\\Local\\Temp\\ipykernel_17572\\431195584.py:38: ParserWarning: Falling back to the 'python' engine because the 'c' engine does not support regex separators (separators > 1 char and different from '\\s+' are interpreted as regex); you can avoid this warning by specifying engine='python'.\n",
      "  df = pd.read_csv(folder+filename, on_bad_lines='skip', encoding = \"utf-8\",sep=\"[_,\\t ;|:]\")#,sep =\"[_\\t ;|:]\",engine='python')\n"
     ]
    },
    {
     "name": "stdout",
     "output_type": "stream",
     "text": [
      "27 unzipped files 4.csv csv\n",
      "33 unzipped files 4.csv\n",
      "33 foldername PMM2 Screen\n",
      "44 DF column number 0 <class 'int'> 30\n",
      "line 50 matching? MultiIndex([], )\n",
      "86 normalized data directory and name C:\\Users\\vandu\\Desktop\\vancanwin\\yeast-data\\PMM2 Screen\\ and 4.csv\n",
      "88 final file directory C:\\Users\\vandu\\Desktop\\vancanwin\\yeast-data\\PMM2 Screen\\\\4.csv 4.csv PMM2 Screen\n",
      "91 final name C:\\Users\\vandu\\Desktop\\vancanwin\\yeast-data\\!completed\\PMM2 Screen\\4_normalized.csv\n"
     ]
    },
    {
     "name": "stderr",
     "output_type": "stream",
     "text": [
      "C:\\Users\\vandu\\AppData\\Local\\Temp\\ipykernel_17572\\431195584.py:38: ParserWarning: Falling back to the 'python' engine because the 'c' engine does not support regex separators (separators > 1 char and different from '\\s+' are interpreted as regex); you can avoid this warning by specifying engine='python'.\n",
      "  df = pd.read_csv(folder+filename, on_bad_lines='skip', encoding = \"utf-8\",sep=\"[_,\\t ;|:]\")#,sep =\"[_\\t ;|:]\",engine='python')\n"
     ]
    },
    {
     "name": "stdout",
     "output_type": "stream",
     "text": [
      "27 unzipped files 5.csv csv\n",
      "33 unzipped files 5.csv\n",
      "33 foldername PMM2 Screen\n",
      "44 DF column number 0 <class 'int'> 30\n",
      "line 50 matching? MultiIndex([], )\n",
      "86 normalized data directory and name C:\\Users\\vandu\\Desktop\\vancanwin\\yeast-data\\PMM2 Screen\\ and 5.csv\n",
      "88 final file directory C:\\Users\\vandu\\Desktop\\vancanwin\\yeast-data\\PMM2 Screen\\\\5.csv 5.csv PMM2 Screen\n",
      "91 final name C:\\Users\\vandu\\Desktop\\vancanwin\\yeast-data\\!completed\\PMM2 Screen\\5_normalized.csv\n"
     ]
    },
    {
     "name": "stderr",
     "output_type": "stream",
     "text": [
      "C:\\Users\\vandu\\AppData\\Local\\Temp\\ipykernel_17572\\431195584.py:38: ParserWarning: Falling back to the 'python' engine because the 'c' engine does not support regex separators (separators > 1 char and different from '\\s+' are interpreted as regex); you can avoid this warning by specifying engine='python'.\n",
      "  df = pd.read_csv(folder+filename, on_bad_lines='skip', encoding = \"utf-8\",sep=\"[_,\\t ;|:]\")#,sep =\"[_\\t ;|:]\",engine='python')\n"
     ]
    },
    {
     "name": "stdout",
     "output_type": "stream",
     "text": [
      "27 unzipped files 6.csv csv\n",
      "33 unzipped files 6.csv\n",
      "33 foldername PMM2 Screen\n",
      "44 DF column number 0 <class 'int'> 30\n",
      "line 50 matching? MultiIndex([], )\n",
      "86 normalized data directory and name C:\\Users\\vandu\\Desktop\\vancanwin\\yeast-data\\PMM2 Screen\\ and 6.csv\n",
      "88 final file directory C:\\Users\\vandu\\Desktop\\vancanwin\\yeast-data\\PMM2 Screen\\\\6.csv 6.csv PMM2 Screen\n",
      "91 final name C:\\Users\\vandu\\Desktop\\vancanwin\\yeast-data\\!completed\\PMM2 Screen\\6_normalized.csv\n"
     ]
    },
    {
     "name": "stderr",
     "output_type": "stream",
     "text": [
      "C:\\Users\\vandu\\AppData\\Local\\Temp\\ipykernel_17572\\431195584.py:38: ParserWarning: Falling back to the 'python' engine because the 'c' engine does not support regex separators (separators > 1 char and different from '\\s+' are interpreted as regex); you can avoid this warning by specifying engine='python'.\n",
      "  df = pd.read_csv(folder+filename, on_bad_lines='skip', encoding = \"utf-8\",sep=\"[_,\\t ;|:]\")#,sep =\"[_\\t ;|:]\",engine='python')\n"
     ]
    },
    {
     "name": "stdout",
     "output_type": "stream",
     "text": [
      "27 unzipped files 7.csv csv\n",
      "33 unzipped files 7.csv\n",
      "33 foldername PMM2 Screen\n",
      "44 DF column number 0 <class 'int'> 30\n",
      "line 50 matching? MultiIndex([], )\n",
      "86 normalized data directory and name C:\\Users\\vandu\\Desktop\\vancanwin\\yeast-data\\PMM2 Screen\\ and 7.csv\n",
      "88 final file directory C:\\Users\\vandu\\Desktop\\vancanwin\\yeast-data\\PMM2 Screen\\\\7.csv 7.csv PMM2 Screen\n",
      "91 final name C:\\Users\\vandu\\Desktop\\vancanwin\\yeast-data\\!completed\\PMM2 Screen\\7_normalized.csv\n"
     ]
    },
    {
     "name": "stderr",
     "output_type": "stream",
     "text": [
      "C:\\Users\\vandu\\AppData\\Local\\Temp\\ipykernel_17572\\431195584.py:38: ParserWarning: Falling back to the 'python' engine because the 'c' engine does not support regex separators (separators > 1 char and different from '\\s+' are interpreted as regex); you can avoid this warning by specifying engine='python'.\n",
      "  df = pd.read_csv(folder+filename, on_bad_lines='skip', encoding = \"utf-8\",sep=\"[_,\\t ;|:]\")#,sep =\"[_\\t ;|:]\",engine='python')\n"
     ]
    },
    {
     "name": "stdout",
     "output_type": "stream",
     "text": [
      "27 unzipped files 8.csv csv\n",
      "33 unzipped files 8.csv\n",
      "33 foldername PMM2 Screen\n",
      "44 DF column number 0 <class 'int'> 30\n",
      "line 50 matching? MultiIndex([], )\n",
      "86 normalized data directory and name C:\\Users\\vandu\\Desktop\\vancanwin\\yeast-data\\PMM2 Screen\\ and 8.csv\n",
      "88 final file directory C:\\Users\\vandu\\Desktop\\vancanwin\\yeast-data\\PMM2 Screen\\\\8.csv 8.csv PMM2 Screen\n",
      "91 final name C:\\Users\\vandu\\Desktop\\vancanwin\\yeast-data\\!completed\\PMM2 Screen\\8_normalized.csv\n"
     ]
    },
    {
     "name": "stderr",
     "output_type": "stream",
     "text": [
      "C:\\Users\\vandu\\AppData\\Local\\Temp\\ipykernel_17572\\431195584.py:38: ParserWarning: Falling back to the 'python' engine because the 'c' engine does not support regex separators (separators > 1 char and different from '\\s+' are interpreted as regex); you can avoid this warning by specifying engine='python'.\n",
      "  df = pd.read_csv(folder+filename, on_bad_lines='skip', encoding = \"utf-8\",sep=\"[_,\\t ;|:]\")#,sep =\"[_\\t ;|:]\",engine='python')\n"
     ]
    },
    {
     "name": "stdout",
     "output_type": "stream",
     "text": [
      "27 unzipped files 9.csv csv\n",
      "33 unzipped files 9.csv\n",
      "33 foldername PMM2 Screen\n",
      "44 DF column number 0 <class 'int'> 30\n",
      "line 50 matching? MultiIndex([], )\n",
      "86 normalized data directory and name C:\\Users\\vandu\\Desktop\\vancanwin\\yeast-data\\PMM2 Screen\\ and 9.csv\n",
      "88 final file directory C:\\Users\\vandu\\Desktop\\vancanwin\\yeast-data\\PMM2 Screen\\\\9.csv 9.csv PMM2 Screen\n",
      "91 final name C:\\Users\\vandu\\Desktop\\vancanwin\\yeast-data\\!completed\\PMM2 Screen\\9_normalized.csv\n"
     ]
    },
    {
     "name": "stderr",
     "output_type": "stream",
     "text": [
      "C:\\Users\\vandu\\AppData\\Local\\Temp\\ipykernel_17572\\431195584.py:38: ParserWarning: Falling back to the 'python' engine because the 'c' engine does not support regex separators (separators > 1 char and different from '\\s+' are interpreted as regex); you can avoid this warning by specifying engine='python'.\n",
      "  df = pd.read_csv(folder+filename, on_bad_lines='skip', encoding = \"utf-8\",sep=\"[_,\\t ;|:]\")#,sep =\"[_\\t ;|:]\",engine='python')\n"
     ]
    }
   ],
   "source": [
    "import os, git, zipfile, shutil\n",
    "import pandas as pd\n",
    "import numpy as np\n",
    "\n",
    "                \n",
    "repo = git.Repo('.', search_parent_directories=True)\n",
    "root_folder = repo.working_tree_dir +\"\\\\yeast-data\\\\\"\n",
    "archive_folder = root_folder+\"!archive\\\\\"\n",
    "\n",
    "plate_list = os.listdir(root_folder)\n",
    "print(\"11 list\", plate_list)\n",
    "unzipped_folder_access_files(plate_list, archive_folder)\n",
    "\n",
    "\n",
    "unzipped_folders_list = os.listdir(root_folder)\n",
    "print('16', unzipped_folders_list)\n",
    "for unzipped_foldername in unzipped_folders_list:\n",
    "    if not any(extension in unzipped_foldername for extension in (\"!\", \"zip\")):\n",
    "        foldername_extracted = unzipped_foldername.split(\"-\")[0]\n",
    "        print(\"19 unzipped folder\",unzipped_foldername,foldername_extracted)\n",
    "        unzipped_folder_directory = root_folder+unzipped_foldername+\"\\\\\"\n",
    "        print(\"20 unzipped folder final\", unzipped_folder_directory)\n",
    "        # unzipped_folders = os.listdir(unzipped_folder_directory)\n",
    "        # print(\"24 unzipped folder\", unzipped_folder)\n",
    "        new_folder_processed_data(unzipped_folder_directory)\n",
    "        unzipped_folder = os.listdir(unzipped_folder_directory)\n",
    "        print(\"26 unzipped folder list\", unzipped_folder)\n",
    "\n",
    "        for unzipped_file in unzipped_folder:\n",
    "            filetype = unzipped_file.split(\".\")[-1]\n",
    "            print(\"27 unzipped files\", unzipped_file,filetype)\n",
    "            if filetype == \"csv\":\n",
    "                print(\"33 unzipped files\", unzipped_file)\n",
    "                normalized_directory = normalize_plate384(unzipped_folder_directory,unzipped_file)\n",
    "                print(\"35 normalized directory\", normalized_directory[1])\n",
    "                z_score_directory = zscore_plate384(unzipped_folder_directory,normalized_directory[1])\n",
    "                index_csv(unzipped_folder_directory,z_score_directory[1])\n",
    "            else:\n",
    "                print(\"40 end\", unzipped_foldername, unzipped_file)\n",
    "                pass\n"
   ]
  },
  {
   "cell_type": "code",
   "execution_count": null,
   "id": "860d4b39-9fe9-4cbf-a69a-60915c9f365d",
   "metadata": {},
   "outputs": [],
   "source": []
  }
 ],
 "metadata": {
  "kernelspec": {
   "display_name": "Python 3 (ipykernel)",
   "language": "python",
   "name": "python3"
  },
  "language_info": {
   "codemirror_mode": {
    "name": "ipython",
    "version": 3
   },
   "file_extension": ".py",
   "mimetype": "text/x-python",
   "name": "python",
   "nbconvert_exporter": "python",
   "pygments_lexer": "ipython3",
   "version": "3.8.13"
  }
 },
 "nbformat": 4,
 "nbformat_minor": 5
}
