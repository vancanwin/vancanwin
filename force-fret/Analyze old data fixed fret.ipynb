{
 "cells": [
  {
   "cell_type": "code",
   "execution_count": 1,
   "metadata": {
    "collapsed": false
   },
   "outputs": [],
   "source": [
    "expdate = 'TMP//2015.04.07'#\n",
    "datee = '2011.08.17'\n",
    "expdate1 = \"!High FRET\"#\n",
    "expdate2 = \"!Med FRET\"#\n",
    "expdate3 = \"!Low FRET\"#\n",
    "expall = '!analyzedTPP'\n",
    "\n",
    "\n",
    "import os, csv, shutil\n",
    "import scipy.stats as stats\n",
    "import pylab as pl\n",
    "import matplotlib as plt\n",
    "\n",
    "direname = 'C://Users//vknguyen//Desktop//Python//'\n",
    "os.chdir(str(direname))#+str(datee))"
   ]
  },
  {
   "cell_type": "code",
   "execution_count": 8,
   "metadata": {
    "collapsed": true
   },
   "outputs": [],
   "source": [
    "filename = \"Photon Count_.xls\"\n",
    "csvReader_data = csv.reader(filename)\n"
   ]
  },
  {
   "cell_type": "code",
   "execution_count": 11,
   "metadata": {
    "collapsed": false
   },
   "outputs": [
    {
     "ename": "SyntaxError",
     "evalue": "unexpected EOF while parsing (<ipython-input-11-1e4d97814757>, line 1)",
     "output_type": "error",
     "traceback": [
      "\u001b[1;36m  File \u001b[1;32m\"<ipython-input-11-1e4d97814757>\"\u001b[1;36m, line \u001b[1;32m1\u001b[0m\n\u001b[1;33m    print(csvReader_data.line_num(1)\u001b[0m\n\u001b[1;37m                                    ^\u001b[0m\n\u001b[1;31mSyntaxError\u001b[0m\u001b[1;31m:\u001b[0m unexpected EOF while parsing\n"
     ]
    }
   ],
   "source": [
    "print(csvReader_data.line_num()"
   ]
  }
 ],
 "metadata": {
  "kernelspec": {
   "display_name": "Python 3",
   "language": "python",
   "name": "python3"
  },
  "language_info": {
   "codemirror_mode": {
    "name": "ipython",
    "version": 3
   },
   "file_extension": ".py",
   "mimetype": "text/x-python",
   "name": "python",
   "nbconvert_exporter": "python",
   "pygments_lexer": "ipython3",
   "version": "3.4.3"
  }
 },
 "nbformat": 4,
 "nbformat_minor": 0
}
