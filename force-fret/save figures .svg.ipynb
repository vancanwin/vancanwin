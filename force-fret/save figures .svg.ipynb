{
 "metadata": {
  "name": "",
  "signature": "sha256:880f778581e0824881169fafb470fdfbf0098d81ea1e382db63e4137a1423b43"
 },
 "nbformat": 3,
 "nbformat_minor": 0,
 "worksheets": [
  {
   "cells": [
    {
     "cell_type": "code",
     "collapsed": false,
     "input": [
      "import matplotlib as mpl\n",
      "mpl.rcParams['svg.fonttype'] = 'none'\n",
      "\n",
      "mpl.pyplot.plot([1,2,5,4,4])\n",
      "mpl.pyplot.show()\n"
     ],
     "language": "python",
     "metadata": {},
     "outputs": [],
     "prompt_number": 2
    },
    {
     "cell_type": "code",
     "collapsed": false,
     "input": [],
     "language": "python",
     "metadata": {},
     "outputs": []
    }
   ],
   "metadata": {}
  }
 ]
}