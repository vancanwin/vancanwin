{
 "metadata": {
  "name": ""
 },
 "nbformat": 3,
 "nbformat_minor": 0,
 "worksheets": [
  {
   "cells": [
    {
     "cell_type": "code",
     "collapsed": false,
     "input": [
      "import os, matplotlib, scipy\n",
      "os.chdir('/home/vknguyen/')\n",
      "from smbanalyze import *\n",
      "os.chdir('/home/vknguyen/2013.09.06/')\n",
      "import csv"
     ],
     "language": "python",
     "metadata": {},
     "outputs": [],
     "prompt_number": 1
    },
    {
     "cell_type": "code",
     "collapsed": false,
     "input": [
      "os.chdir('/home/vknguyen/')\n",
      "reload(fplot)\n",
      "reload(experiment)\n",
      "from smbanalyze import fplot\n",
      "reload(fplot)\n",
      "from smbanalyze import *\n",
      "import csv"
     ],
     "language": "python",
     "metadata": {},
     "outputs": [],
     "prompt_number": 10
    },
    {
     "cell_type": "code",
     "collapsed": false,
     "input": [
      "os.chdir('/home/vknguyen/')\n",
      "from smbanalyze import datatypes\n",
      "reload(datatypes)"
     ],
     "language": "python",
     "metadata": {},
     "outputs": [
      {
       "metadata": {},
       "output_type": "pyout",
       "prompt_number": 3,
       "text": [
        "<module 'smbanalyze.datatypes' from 'smbanalyze/datatypes.pyc'>"
       ]
      }
     ],
     "prompt_number": 3
    },
    {
     "cell_type": "code",
     "collapsed": false,
     "input": [
      "import os, matplotlib, scipy\n",
      "#os.chdir('C:/Users/Van/Desktop/Python')\n",
      "from smbanalyze import *\n",
      "#os.chdir('C:/Users/Van/Desktop/Python/2013.09.06')\n",
      "import csv\n",
      "fcalc.processMatch('WTat',roi='2013.09.06',background='background.img')\n"
     ],
     "language": "python",
     "metadata": {},
     "outputs": [
      {
       "output_type": "stream",
       "stream": "stdout",
       "text": [
        "Opening WTat_200pM_TPP_s2m1_3.img...\n",
        "Saving .fret data to file..."
       ]
      },
      {
       "output_type": "stream",
       "stream": "stdout",
       "text": [
        "\n",
        "Opening WTat_200pM_TPP_s2m2_2.img...\n",
        "Saving .fret data to file..."
       ]
      },
      {
       "output_type": "stream",
       "stream": "stdout",
       "text": [
        "\n",
        "Opening WTat_200pM_TPP_s2m3_2.img...\n",
        "Saving .fret data to file..."
       ]
      },
      {
       "output_type": "stream",
       "stream": "stdout",
       "text": [
        "\n",
        "Opening WTat_200pM_TPP_s2m3_3.img...\n",
        "Saving .fret data to file..."
       ]
      },
      {
       "output_type": "stream",
       "stream": "stdout",
       "text": [
        "\n",
        "Opening WTat_200pM_TPP_s2m4_2.img...\n",
        "Saving .fret data to file..."
       ]
      },
      {
       "output_type": "stream",
       "stream": "stdout",
       "text": [
        "\n",
        "Opening WTat_200pM_TPP_s2m5_2.img...\n",
        "Saving .fret data to file..."
       ]
      },
      {
       "output_type": "stream",
       "stream": "stdout",
       "text": [
        "\n",
        "Opening WTat_200pM_TPP_s2m5_3.img...\n",
        "Saving .fret data to file..."
       ]
      },
      {
       "output_type": "stream",
       "stream": "stdout",
       "text": [
        "\n",
        "Opening WTat_200pM_TPP_s2m5_4.img...\n",
        "Saving .fret data to file..."
       ]
      },
      {
       "output_type": "stream",
       "stream": "stdout",
       "text": [
        "\n",
        "Opening WTat_200pM_TPP_s3m1_10.img...\n",
        "Saving .fret data to file..."
       ]
      },
      {
       "output_type": "stream",
       "stream": "stdout",
       "text": [
        "\n",
        "Opening WTat_200pM_TPP_s3m1_11.img...\n",
        "Saving .fret data to file..."
       ]
      },
      {
       "output_type": "stream",
       "stream": "stdout",
       "text": [
        "\n",
        "Opening WTat_200pM_TPP_s3m1_12.img...\n",
        "Saving .fret data to file..."
       ]
      },
      {
       "output_type": "stream",
       "stream": "stdout",
       "text": [
        "\n",
        "Opening WTat_200pM_TPP_s3m1_13.img...\n",
        "Saving .fret data to file..."
       ]
      },
      {
       "output_type": "stream",
       "stream": "stdout",
       "text": [
        "\n",
        "Opening WTat_200pM_TPP_s3m1_14.img...\n",
        "Saving .fret data to file..."
       ]
      },
      {
       "output_type": "stream",
       "stream": "stdout",
       "text": [
        "\n",
        "Opening WTat_200pM_TPP_s3m1_15.img...\n",
        "Saving .fret data to file..."
       ]
      },
      {
       "output_type": "stream",
       "stream": "stdout",
       "text": [
        "\n",
        "Opening WTat_200pM_TPP_s3m1_16.img...\n",
        "Saving .fret data to file..."
       ]
      },
      {
       "output_type": "stream",
       "stream": "stdout",
       "text": [
        "\n",
        "Opening WTat_200pM_TPP_s3m1_17.img...\n",
        "Saving .fret data to file..."
       ]
      },
      {
       "output_type": "stream",
       "stream": "stdout",
       "text": [
        "\n",
        "Opening WTat_200pM_TPP_s3m1_18.img...\n",
        "Saving .fret data to file..."
       ]
      },
      {
       "output_type": "stream",
       "stream": "stdout",
       "text": [
        "\n",
        "Opening WTat_200pM_TPP_s3m1_19.img...\n",
        "Saving .fret data to file..."
       ]
      },
      {
       "output_type": "stream",
       "stream": "stdout",
       "text": [
        "\n",
        "Opening WTat_200pM_TPP_s3m1_2.img...\n",
        "Saving .fret data to file..."
       ]
      },
      {
       "output_type": "stream",
       "stream": "stdout",
       "text": [
        "\n",
        "Opening WTat_200pM_TPP_s3m1_20.img...\n",
        "Saving .fret data to file..."
       ]
      },
      {
       "output_type": "stream",
       "stream": "stdout",
       "text": [
        "\n",
        "Opening WTat_200pM_TPP_s3m1_3.img...\n",
        "Saving .fret data to file..."
       ]
      },
      {
       "output_type": "stream",
       "stream": "stdout",
       "text": [
        "\n",
        "Opening WTat_200pM_TPP_s3m1_4.img...\n",
        "Saving .fret data to file..."
       ]
      },
      {
       "output_type": "stream",
       "stream": "stdout",
       "text": [
        "\n",
        "Opening WTat_200pM_TPP_s3m1_5.img...\n",
        "Saving .fret data to file..."
       ]
      },
      {
       "output_type": "stream",
       "stream": "stdout",
       "text": [
        "\n",
        "Opening WTat_200pM_TPP_s3m1_6.img...\n",
        "Saving .fret data to file..."
       ]
      },
      {
       "output_type": "stream",
       "stream": "stdout",
       "text": [
        "\n",
        "Opening WTat_200pM_TPP_s3m1_7.img...\n",
        "Saving .fret data to file..."
       ]
      },
      {
       "output_type": "stream",
       "stream": "stdout",
       "text": [
        "\n",
        "Opening WTat_200pM_TPP_s3m1_8.img...\n",
        "Saving .fret data to file..."
       ]
      },
      {
       "output_type": "stream",
       "stream": "stdout",
       "text": [
        "\n",
        "Opening WTat_200pM_TPP_s3m1_9.img...\n",
        "Saving .fret data to file..."
       ]
      },
      {
       "output_type": "stream",
       "stream": "stdout",
       "text": [
        "\n",
        "Opening WTat_200pM_TPP_s3m2_2.img...\n",
        "Saving .fret data to file..."
       ]
      },
      {
       "output_type": "stream",
       "stream": "stdout",
       "text": [
        "\n",
        "Opening WTat_200pM_TPP_s3m2_3.img...\n",
        "Saving .fret data to file..."
       ]
      },
      {
       "output_type": "stream",
       "stream": "stdout",
       "text": [
        "\n",
        "Opening WTat_200pM_TPP_s3m2_4.img...\n",
        "Saving .fret data to file..."
       ]
      },
      {
       "output_type": "stream",
       "stream": "stdout",
       "text": [
        "\n",
        "Opening WTat_200pM_TPP_s3m2_5.img...\n",
        "Saving .fret data to file..."
       ]
      },
      {
       "output_type": "stream",
       "stream": "stdout",
       "text": [
        "\n",
        "Opening WTat_200pM_TPP_s3m2_6.img...\n",
        "Saving .fret data to file..."
       ]
      },
      {
       "output_type": "stream",
       "stream": "stdout",
       "text": [
        "\n",
        "Opening WTat_200pM_TPP_s3m2_7.img...\n",
        "Saving .fret data to file..."
       ]
      },
      {
       "output_type": "stream",
       "stream": "stdout",
       "text": [
        "\n",
        "Opening WTat_200pM_TPP_s3m3_10.img...\n",
        "Saving .fret data to file..."
       ]
      },
      {
       "output_type": "stream",
       "stream": "stdout",
       "text": [
        "\n",
        "Opening WTat_200pM_TPP_s3m3_11.img...\n",
        "Saving .fret data to file..."
       ]
      },
      {
       "output_type": "stream",
       "stream": "stdout",
       "text": [
        "\n",
        "Opening WTat_200pM_TPP_s3m3_2.img...\n",
        "Saving .fret data to file..."
       ]
      },
      {
       "output_type": "stream",
       "stream": "stdout",
       "text": [
        "\n",
        "Opening WTat_200pM_TPP_s3m3_3.img...\n",
        "Saving .fret data to file..."
       ]
      },
      {
       "output_type": "stream",
       "stream": "stdout",
       "text": [
        "\n",
        "Opening WTat_200pM_TPP_s3m3_4.img...\n",
        "Saving .fret data to file..."
       ]
      },
      {
       "output_type": "stream",
       "stream": "stdout",
       "text": [
        "\n",
        "Opening WTat_200pM_TPP_s3m3_5.img...\n",
        "Saving .fret data to file..."
       ]
      },
      {
       "output_type": "stream",
       "stream": "stdout",
       "text": [
        "\n",
        "Opening WTat_200pM_TPP_s3m3_6.img...\n",
        "Saving .fret data to file..."
       ]
      },
      {
       "output_type": "stream",
       "stream": "stdout",
       "text": [
        "\n",
        "Opening WTat_200pM_TPP_s3m3_7.img...\n",
        "Saving .fret data to file..."
       ]
      },
      {
       "output_type": "stream",
       "stream": "stdout",
       "text": [
        "\n",
        "Opening WTat_200pM_TPP_s3m3_8.img...\n",
        "Saving .fret data to file..."
       ]
      },
      {
       "output_type": "stream",
       "stream": "stdout",
       "text": [
        "\n",
        "Opening WTat_200pM_TPP_s3m3_9.img...\n",
        "Saving .fret data to file..."
       ]
      },
      {
       "output_type": "stream",
       "stream": "stdout",
       "text": [
        "\n",
        "Opening WTat_200pM_TPP_s3m4_2.img...\n",
        "Saving .fret data to file..."
       ]
      },
      {
       "output_type": "stream",
       "stream": "stdout",
       "text": [
        "\n",
        "Opening WTat_200pM_TPP_s3m4_3.img...\n",
        "Saving .fret data to file..."
       ]
      },
      {
       "output_type": "stream",
       "stream": "stdout",
       "text": [
        "\n",
        "Opening WTat_200pM_TPP_s3m4_4.img...\n",
        "Saving .fret data to file..."
       ]
      },
      {
       "output_type": "stream",
       "stream": "stdout",
       "text": [
        "\n",
        "Opening WTat_200pM_TPP_s4m1_2.img...\n",
        "Saving .fret data to file..."
       ]
      },
      {
       "output_type": "stream",
       "stream": "stdout",
       "text": [
        "\n",
        "Opening WTat_200pM_TPP_s4m1_3.img...\n",
        "Saving .fret data to file..."
       ]
      },
      {
       "output_type": "stream",
       "stream": "stdout",
       "text": [
        "\n",
        "Opening WTat_200pM_TPP_s4m1_4.img...\n",
        "Saving .fret data to file..."
       ]
      },
      {
       "output_type": "stream",
       "stream": "stdout",
       "text": [
        "\n",
        "Opening WTat_200pM_TPP_s4m1_5.img...\n",
        "Saving .fret data to file..."
       ]
      },
      {
       "output_type": "stream",
       "stream": "stdout",
       "text": [
        "\n",
        "Opening WTat_200pM_TPP_s4m1_6.img...\n",
        "Saving .fret data to file..."
       ]
      },
      {
       "output_type": "stream",
       "stream": "stdout",
       "text": [
        "\n"
       ]
      }
     ],
     "prompt_number": 8
    },
    {
     "cell_type": "code",
     "collapsed": false,
     "input": [
      "os.chdir('/home/vknguyen/2013.09.06')\n"
     ],
     "language": "python",
     "metadata": {},
     "outputs": [],
     "prompt_number": 5
    },
    {
     "cell_type": "code",
     "collapsed": false,
     "input": [
      "fcalc.processMatch('WTat',roi='2013.09.06',background='background.img')"
     ],
     "language": "python",
     "metadata": {},
     "outputs": [
      {
       "output_type": "stream",
       "stream": "stdout",
       "text": [
        "Opening WTat_200pM_TPP_s2m1_3.img...\n",
        "Saving .fret data to file..."
       ]
      },
      {
       "output_type": "stream",
       "stream": "stdout",
       "text": [
        "\n",
        "Opening WTat_200pM_TPP_s2m2_2.img...\n",
        "Saving .fret data to file..."
       ]
      },
      {
       "output_type": "stream",
       "stream": "stdout",
       "text": [
        "\n",
        "Opening WTat_200pM_TPP_s2m3_2.img...\n",
        "Saving .fret data to file..."
       ]
      },
      {
       "output_type": "stream",
       "stream": "stdout",
       "text": [
        "\n",
        "Opening WTat_200pM_TPP_s2m3_3.img...\n",
        "Saving .fret data to file..."
       ]
      },
      {
       "output_type": "stream",
       "stream": "stdout",
       "text": [
        "\n",
        "Opening WTat_200pM_TPP_s2m4_2.img...\n",
        "Saving .fret data to file..."
       ]
      },
      {
       "output_type": "stream",
       "stream": "stdout",
       "text": [
        "\n",
        "Opening WTat_200pM_TPP_s2m5_2.img...\n",
        "Saving .fret data to file..."
       ]
      },
      {
       "output_type": "stream",
       "stream": "stdout",
       "text": [
        "\n",
        "Opening WTat_200pM_TPP_s2m5_3.img...\n",
        "Saving .fret data to file..."
       ]
      },
      {
       "output_type": "stream",
       "stream": "stdout",
       "text": [
        "\n",
        "Opening WTat_200pM_TPP_s2m5_4.img...\n",
        "Saving .fret data to file..."
       ]
      },
      {
       "output_type": "stream",
       "stream": "stdout",
       "text": [
        "\n",
        "Opening WTat_200pM_TPP_s3m1_10.img...\n",
        "Saving .fret data to file..."
       ]
      },
      {
       "output_type": "stream",
       "stream": "stdout",
       "text": [
        "\n",
        "Opening WTat_200pM_TPP_s3m1_11.img...\n",
        "Saving .fret data to file..."
       ]
      },
      {
       "output_type": "stream",
       "stream": "stdout",
       "text": [
        "\n",
        "Opening WTat_200pM_TPP_s3m1_12.img...\n",
        "Saving .fret data to file..."
       ]
      },
      {
       "output_type": "stream",
       "stream": "stdout",
       "text": [
        "\n",
        "Opening WTat_200pM_TPP_s3m1_13.img...\n",
        "Saving .fret data to file..."
       ]
      },
      {
       "output_type": "stream",
       "stream": "stdout",
       "text": [
        "\n",
        "Opening WTat_200pM_TPP_s3m1_14.img...\n",
        "Saving .fret data to file..."
       ]
      },
      {
       "output_type": "stream",
       "stream": "stdout",
       "text": [
        "\n",
        "Opening WTat_200pM_TPP_s3m1_15.img...\n",
        "Saving .fret data to file..."
       ]
      },
      {
       "output_type": "stream",
       "stream": "stdout",
       "text": [
        "\n",
        "Opening WTat_200pM_TPP_s3m1_16.img...\n",
        "Saving .fret data to file..."
       ]
      },
      {
       "output_type": "stream",
       "stream": "stdout",
       "text": [
        "\n",
        "Opening WTat_200pM_TPP_s3m1_17.img...\n",
        "Saving .fret data to file..."
       ]
      },
      {
       "output_type": "stream",
       "stream": "stdout",
       "text": [
        "\n",
        "Opening WTat_200pM_TPP_s3m1_18.img...\n",
        "Saving .fret data to file..."
       ]
      },
      {
       "output_type": "stream",
       "stream": "stdout",
       "text": [
        "\n",
        "Opening WTat_200pM_TPP_s3m1_19.img...\n",
        "Saving .fret data to file..."
       ]
      },
      {
       "output_type": "stream",
       "stream": "stdout",
       "text": [
        "\n",
        "Opening WTat_200pM_TPP_s3m1_2.img...\n",
        "Saving .fret data to file..."
       ]
      },
      {
       "output_type": "stream",
       "stream": "stdout",
       "text": [
        "\n",
        "Opening WTat_200pM_TPP_s3m1_20.img...\n",
        "Saving .fret data to file..."
       ]
      },
      {
       "output_type": "stream",
       "stream": "stdout",
       "text": [
        "\n",
        "Opening WTat_200pM_TPP_s3m1_3.img...\n",
        "Saving .fret data to file..."
       ]
      },
      {
       "output_type": "stream",
       "stream": "stdout",
       "text": [
        "\n",
        "Opening WTat_200pM_TPP_s3m1_4.img...\n",
        "Saving .fret data to file..."
       ]
      },
      {
       "output_type": "stream",
       "stream": "stdout",
       "text": [
        "\n",
        "Opening WTat_200pM_TPP_s3m1_5.img...\n",
        "Saving .fret data to file..."
       ]
      },
      {
       "output_type": "stream",
       "stream": "stdout",
       "text": [
        "\n",
        "Opening WTat_200pM_TPP_s3m1_6.img...\n",
        "Saving .fret data to file..."
       ]
      },
      {
       "output_type": "stream",
       "stream": "stdout",
       "text": [
        "\n",
        "Opening WTat_200pM_TPP_s3m1_7.img...\n",
        "Saving .fret data to file..."
       ]
      },
      {
       "output_type": "stream",
       "stream": "stdout",
       "text": [
        "\n",
        "Opening WTat_200pM_TPP_s3m1_8.img...\n",
        "Saving .fret data to file..."
       ]
      },
      {
       "output_type": "stream",
       "stream": "stdout",
       "text": [
        "\n",
        "Opening WTat_200pM_TPP_s3m1_9.img...\n",
        "Saving .fret data to file..."
       ]
      },
      {
       "output_type": "stream",
       "stream": "stdout",
       "text": [
        "\n",
        "Opening WTat_200pM_TPP_s3m2_2.img...\n",
        "Saving .fret data to file..."
       ]
      },
      {
       "output_type": "stream",
       "stream": "stdout",
       "text": [
        "\n",
        "Opening WTat_200pM_TPP_s3m2_3.img...\n",
        "Saving .fret data to file..."
       ]
      },
      {
       "output_type": "stream",
       "stream": "stdout",
       "text": [
        "\n",
        "Opening WTat_200pM_TPP_s3m2_4.img...\n",
        "Saving .fret data to file..."
       ]
      },
      {
       "output_type": "stream",
       "stream": "stdout",
       "text": [
        "\n",
        "Opening WTat_200pM_TPP_s3m2_5.img...\n",
        "Saving .fret data to file..."
       ]
      },
      {
       "output_type": "stream",
       "stream": "stdout",
       "text": [
        "\n",
        "Opening WTat_200pM_TPP_s3m2_6.img...\n",
        "Saving .fret data to file..."
       ]
      },
      {
       "output_type": "stream",
       "stream": "stdout",
       "text": [
        "\n",
        "Opening WTat_200pM_TPP_s3m2_7.img...\n",
        "Saving .fret data to file..."
       ]
      },
      {
       "output_type": "stream",
       "stream": "stdout",
       "text": [
        "\n",
        "Opening WTat_200pM_TPP_s3m3_10.img...\n",
        "Saving .fret data to file..."
       ]
      },
      {
       "output_type": "stream",
       "stream": "stdout",
       "text": [
        "\n",
        "Opening WTat_200pM_TPP_s3m3_11.img...\n",
        "Saving .fret data to file..."
       ]
      },
      {
       "output_type": "stream",
       "stream": "stdout",
       "text": [
        "\n",
        "Opening WTat_200pM_TPP_s3m3_2.img...\n",
        "Saving .fret data to file..."
       ]
      },
      {
       "output_type": "stream",
       "stream": "stdout",
       "text": [
        "\n",
        "Opening WTat_200pM_TPP_s3m3_3.img...\n",
        "Saving .fret data to file..."
       ]
      },
      {
       "output_type": "stream",
       "stream": "stdout",
       "text": [
        "\n",
        "Opening WTat_200pM_TPP_s3m3_4.img...\n",
        "Saving .fret data to file..."
       ]
      },
      {
       "output_type": "stream",
       "stream": "stdout",
       "text": [
        "\n",
        "Opening WTat_200pM_TPP_s3m3_5.img...\n",
        "Saving .fret data to file..."
       ]
      },
      {
       "output_type": "stream",
       "stream": "stdout",
       "text": [
        "\n",
        "Opening WTat_200pM_TPP_s3m3_6.img...\n",
        "Saving .fret data to file..."
       ]
      },
      {
       "output_type": "stream",
       "stream": "stdout",
       "text": [
        "\n",
        "Opening WTat_200pM_TPP_s3m3_7.img...\n",
        "Saving .fret data to file..."
       ]
      },
      {
       "output_type": "stream",
       "stream": "stdout",
       "text": [
        "\n",
        "Opening WTat_200pM_TPP_s3m3_8.img...\n",
        "Saving .fret data to file..."
       ]
      },
      {
       "output_type": "stream",
       "stream": "stdout",
       "text": [
        "\n",
        "Opening WTat_200pM_TPP_s3m3_9.img...\n",
        "Saving .fret data to file..."
       ]
      },
      {
       "output_type": "stream",
       "stream": "stdout",
       "text": [
        "\n",
        "Opening WTat_200pM_TPP_s3m4_2.img...\n",
        "Saving .fret data to file..."
       ]
      },
      {
       "output_type": "stream",
       "stream": "stdout",
       "text": [
        "\n",
        "Opening WTat_200pM_TPP_s3m4_3.img...\n",
        "Saving .fret data to file..."
       ]
      },
      {
       "output_type": "stream",
       "stream": "stdout",
       "text": [
        "\n",
        "Opening WTat_200pM_TPP_s3m4_4.img...\n",
        "Saving .fret data to file..."
       ]
      },
      {
       "output_type": "stream",
       "stream": "stdout",
       "text": [
        "\n",
        "Opening WTat_200pM_TPP_s4m1_2.img...\n",
        "Saving .fret data to file..."
       ]
      },
      {
       "output_type": "stream",
       "stream": "stdout",
       "text": [
        "\n",
        "Opening WTat_200pM_TPP_s4m1_3.img...\n",
        "Saving .fret data to file..."
       ]
      },
      {
       "output_type": "stream",
       "stream": "stdout",
       "text": [
        "\n",
        "Opening WTat_200pM_TPP_s4m1_4.img...\n",
        "Saving .fret data to file..."
       ]
      },
      {
       "output_type": "stream",
       "stream": "stdout",
       "text": [
        "\n",
        "Opening WTat_200pM_TPP_s4m1_5.img...\n",
        "Saving .fret data to file..."
       ]
      },
      {
       "output_type": "stream",
       "stream": "stdout",
       "text": [
        "\n",
        "Opening WTat_200pM_TPP_s4m1_6.img...\n",
        "Saving .fret data to file..."
       ]
      },
      {
       "output_type": "stream",
       "stream": "stdout",
       "text": [
        "\n"
       ]
      }
     ],
     "prompt_number": 6
    },
    {
     "cell_type": "code",
     "collapsed": false,
     "input": [
      "pulls.adjustOffset(to_x=1060, ext_f_range=(21,24), ext_x_range=(1035,1060))\n",
      "pulls.plotall('trap')"
     ],
     "language": "python",
     "metadata": {},
     "outputs": [
      {
       "ename": "NameError",
       "evalue": "name 'pulls' is not defined",
       "output_type": "pyerr",
       "traceback": [
        "\u001b[1;31m---------------------------------------------------------------------------\u001b[0m\n\u001b[1;31mNameError\u001b[0m                                 Traceback (most recent call last)",
        "\u001b[1;32m<ipython-input-11-000521d78fb5>\u001b[0m in \u001b[0;36m<module>\u001b[1;34m()\u001b[0m\n\u001b[1;32m----> 1\u001b[1;33m \u001b[0mpulls\u001b[0m\u001b[1;33m.\u001b[0m\u001b[0madjustOffset\u001b[0m\u001b[1;33m(\u001b[0m\u001b[0mto_x\u001b[0m\u001b[1;33m=\u001b[0m\u001b[1;36m1060\u001b[0m\u001b[1;33m,\u001b[0m \u001b[0mext_f_range\u001b[0m\u001b[1;33m=\u001b[0m\u001b[1;33m(\u001b[0m\u001b[1;36m21\u001b[0m\u001b[1;33m,\u001b[0m\u001b[1;36m24\u001b[0m\u001b[1;33m)\u001b[0m\u001b[1;33m,\u001b[0m \u001b[0mext_x_range\u001b[0m\u001b[1;33m=\u001b[0m\u001b[1;33m(\u001b[0m\u001b[1;36m1035\u001b[0m\u001b[1;33m,\u001b[0m\u001b[1;36m1060\u001b[0m\u001b[1;33m)\u001b[0m\u001b[1;33m)\u001b[0m\u001b[1;33m\u001b[0m\u001b[0m\n\u001b[0m\u001b[0;32m      2\u001b[0m \u001b[0mpulls\u001b[0m\u001b[1;33m.\u001b[0m\u001b[0mplotall\u001b[0m\u001b[1;33m(\u001b[0m\u001b[1;34m'trap'\u001b[0m\u001b[1;33m)\u001b[0m\u001b[1;33m\u001b[0m\u001b[0m\n",
        "\u001b[1;31mNameError\u001b[0m: name 'pulls' is not defined"
       ]
      }
     ],
     "prompt_number": 11
    },
    {
     "cell_type": "code",
     "collapsed": false,
     "input": [
      "%pylab\n"
     ],
     "language": "python",
     "metadata": {},
     "outputs": [
      {
       "output_type": "stream",
       "stream": "stdout",
       "text": [
        "Using matplotlib backend: module://IPython.kernel.zmq.pylab.backend_inline\n",
        "Populating the interactive namespace from numpy and matplotlib\n"
       ]
      },
      {
       "output_type": "stream",
       "stream": "stderr",
       "text": [
        "WARNING: pylab import has clobbered these variables: ['f']\n",
        "`%pylab --no-import-all` prevents importing * from pylab and numpy\n"
       ]
      }
     ],
     "prompt_number": 242
    },
    {
     "cell_type": "code",
     "collapsed": false,
     "input": [
      "pulls = experiment.Pulling.fromMatch('WTat','s4m1')\n",
      "pulls\n",
      "pulls.plotall('trap')\n"
     ],
     "language": "python",
     "metadata": {},
     "outputs": [
      {
       "metadata": {},
       "output_type": "pyout",
       "prompt_number": 241,
       "text": [
        "<smbanalyze.fplot.Figure at 0x8f41a10>"
       ]
      },
      {
       "metadata": {},
       "output_type": "display_data",
       "png": "[encoded data removed]",
       "text": [
        "<matplotlib.figure.Figure at 0x8ec4b10>"
       ]
      }
     ],
     "prompt_number": 241
    },
    {
     "cell_type": "code",
     "collapsed": false,
     "input": [
      "fwd = experiment.List()\n",
      "bwd = experiment.List()\n",
      "for p in pulls:\n",
      "    f,b = experiment.split_reverse_pull(p)\n",
      "    fwd.append(f)\n",
      "    bwd.append(b)\n",
      "fwd"
     ],
     "language": "python",
     "metadata": {},
     "outputs": [
      {
       "metadata": {},
       "output_type": "pyout",
       "prompt_number": 6,
       "text": [
        "[0: <Experiment.Pulling from 'WTat_200pM_TPP_s4m1'>\n",
        " 1: <Experiment.Pulling from 'WTat_200pM_TPP_s4m1_2'>\n",
        " 2: <smbanalyze.experiment.Pulling object at 0x2add8d0>\n",
        " 3: <smbanalyze.experiment.Pulling object at 0x2add590>\n",
        " 4: <smbanalyze.experiment.Pulling object at 0x2add750>\n",
        " 5: <smbanalyze.experiment.Pulling object at 0x2a5d090>\n",
        " 6: <smbanalyze.experiment.Pulling object at 0x2ad4110>]"
       ]
      }
     ],
     "prompt_number": 6
    },
    {
     "cell_type": "code",
     "collapsed": false,
     "input": [
      "#close('all')\n",
      "pulls.plotall('trap',FEC=True)\n"
     ],
     "language": "python",
     "metadata": {},
     "outputs": [
      {
       "metadata": {},
       "output_type": "pyout",
       "prompt_number": 45,
       "text": [
        "<smbanalyze.fplot.Figure at 0x43ded90>"
       ]
      },
      {
       "metadata": {},
       "output_type": "display_data",
       "text": [
        "<matplotlib.figure.Figure at 0x30c4050>"
       ]
      }
     ],
     "prompt_number": 45
    },
    {
     "cell_type": "code",
     "collapsed": false,
     "input": [
      "pulls.adjustOffset(to_x=1060, ext_f_range=(20,25), ext_x_range=(1035,1060))\n",
      "pulls.plotall('trap', legend=None)\n",
      "#savefig('WTat_200pM_TPP_s2m1_all.png')"
     ],
     "language": "python",
     "metadata": {},
     "outputs": [
      {
       "ename": "AttributeError",
       "evalue": "'Pulling' object has no attribute 'adjustOffset'",
       "output_type": "pyerr",
       "traceback": [
        "\u001b[1;31m---------------------------------------------------------------------------\u001b[0m\n\u001b[1;31mAttributeError\u001b[0m                            Traceback (most recent call last)",
        "\u001b[1;32m<ipython-input-224-496f20312761>\u001b[0m in \u001b[0;36m<module>\u001b[1;34m()\u001b[0m\n\u001b[1;32m----> 1\u001b[1;33m \u001b[0mpulls\u001b[0m\u001b[1;33m.\u001b[0m\u001b[0madjustOffset\u001b[0m\u001b[1;33m(\u001b[0m\u001b[0mto_x\u001b[0m\u001b[1;33m=\u001b[0m\u001b[1;36m1060\u001b[0m\u001b[1;33m,\u001b[0m \u001b[0mext_f_range\u001b[0m\u001b[1;33m=\u001b[0m\u001b[1;33m(\u001b[0m\u001b[1;36m20\u001b[0m\u001b[1;33m,\u001b[0m\u001b[1;36m25\u001b[0m\u001b[1;33m)\u001b[0m\u001b[1;33m,\u001b[0m \u001b[0mext_x_range\u001b[0m\u001b[1;33m=\u001b[0m\u001b[1;33m(\u001b[0m\u001b[1;36m1035\u001b[0m\u001b[1;33m,\u001b[0m\u001b[1;36m1060\u001b[0m\u001b[1;33m)\u001b[0m\u001b[1;33m)\u001b[0m\u001b[1;33m\u001b[0m\u001b[0m\n\u001b[0m\u001b[0;32m      2\u001b[0m \u001b[0mpulls\u001b[0m\u001b[1;33m.\u001b[0m\u001b[0mplotall\u001b[0m\u001b[1;33m(\u001b[0m\u001b[1;34m'trap'\u001b[0m\u001b[1;33m,\u001b[0m \u001b[0mlegend\u001b[0m\u001b[1;33m=\u001b[0m\u001b[0mNone\u001b[0m\u001b[1;33m)\u001b[0m\u001b[1;33m\u001b[0m\u001b[0m\n\u001b[0;32m      3\u001b[0m \u001b[1;31m#savefig('WTat_200pM_TPP_s2m1_all.png')\u001b[0m\u001b[1;33m\u001b[0m\u001b[1;33m\u001b[0m\u001b[0m\n",
        "\u001b[1;31mAttributeError\u001b[0m: 'Pulling' object has no attribute 'adjustOffset'"
       ]
      }
     ],
     "prompt_number": 224
    },
    {
     "cell_type": "code",
     "collapsed": false,
     "input": [
      "pulls"
     ],
     "language": "python",
     "metadata": {},
     "outputs": [
      {
       "metadata": {},
       "output_type": "pyout",
       "prompt_number": 223,
       "text": [
        "<Experiment.Pulling from 'WTat_200pM_TPP_s4m1'>"
       ]
      }
     ],
     "prompt_number": 223
    },
    {
     "cell_type": "code",
     "collapsed": false,
     "input": [
      "handle = (800,950)\n",
      "upper1 = (1000,1005)\n",
      "upper2 = (1060,1070)\n",
      "n = 0\n",
      "fit = pulls[n].fitRegions(handle, upper1, upper2)\n",
      "fit.plot()\n",
      "fplot.plot(pulls[n].trap)\n",
      "print str(fit)\n",
      "\n",
      "#for n in range(len(pulls)): \n",
      "    #fit.plot()\n",
      "    #fplot.plot(pulls[n].trap)\n",
      "    #print str(fit)\n",
      "    #continue\n"
     ],
     "language": "python",
     "metadata": {},
     "outputs": [
      {
       "output_type": "stream",
       "stream": "stdout",
       "text": [
        "MMS_rip_region fit: Lp=22.00\u00b19.68 Lc=1047.50\u00b176.06 F0=-0.35\u00b10.01 Lc1=12.71\u00b151.05 Lc2=50.10\u00b152.27\n"
       ]
      },
      {
       "metadata": {},
       "output_type": "display_data",
       "png": "[encoded data removed]",
       "text": [
        "<matplotlib.figure.Figure at 0x8072450>"
       ]
      }
     ],
     "prompt_number": 237
    },
    {
     "cell_type": "code",
     "collapsed": false,
     "input": [
      "fit.plot()\n",
      "fplot.plot(pulls[n].trap)\n",
      "fit"
     ],
     "language": "python",
     "metadata": {},
     "outputs": [
      {
       "ename": "AttributeError",
       "evalue": "'List' object has no attribute 'trap'",
       "output_type": "pyerr",
       "traceback": [
        "\u001b[1;31m---------------------------------------------------------------------------\u001b[0m\n\u001b[1;31mAttributeError\u001b[0m                            Traceback (most recent call last)",
        "\u001b[1;32m<ipython-input-181-9cf831b4f40f>\u001b[0m in \u001b[0;36m<module>\u001b[1;34m()\u001b[0m\n\u001b[0;32m      1\u001b[0m \u001b[0mfit\u001b[0m\u001b[1;33m.\u001b[0m\u001b[0mplot\u001b[0m\u001b[1;33m(\u001b[0m\u001b[1;33m)\u001b[0m\u001b[1;33m\u001b[0m\u001b[0m\n\u001b[1;32m----> 2\u001b[1;33m \u001b[0mfplot\u001b[0m\u001b[1;33m.\u001b[0m\u001b[0mplot\u001b[0m\u001b[1;33m(\u001b[0m\u001b[0mpulls\u001b[0m\u001b[1;33m.\u001b[0m\u001b[0mtrap\u001b[0m\u001b[1;33m)\u001b[0m\u001b[1;33m\u001b[0m\u001b[0m\n\u001b[0m\u001b[0;32m      3\u001b[0m \u001b[0mfit\u001b[0m\u001b[1;33m\u001b[0m\u001b[0m\n",
        "\u001b[1;31mAttributeError\u001b[0m: 'List' object has no attribute 'trap'"
       ]
      },
      {
       "metadata": {},
       "output_type": "display_data",
       "png": "[encoded data removed]",
       "text": [
        "<matplotlib.figure.Figure at 0x85d7590>"
       ]
      }
     ],
     "prompt_number": 181
    },
    {
     "cell_type": "code",
     "collapsed": false,
     "input": [
      "agg=pulls.collapse()\n",
      "#agg.plot()\n"
     ],
     "language": "python",
     "metadata": {},
     "outputs": [
      {
       "output_type": "stream",
       "stream": "stderr",
       "text": [
        "2013-09-10 18:12:39,724 | smbanalyze.experiment:WARNING: Not all experiments have fret: not collapsing fret data!\n"
       ]
      },
      {
       "output_type": "stream",
       "stream": "stderr",
       "text": [
        "WARNING:smbanalyze.experiment:Not all experiments have fret: not collapsing fret data!\n"
       ]
      }
     ],
     "prompt_number": 38
    },
    {
     "cell_type": "code",
     "collapsed": false,
     "input": [
      "fplot.plot(agg.trap)\n",
      "#import sys\n",
      "#print sys.version"
     ],
     "language": "python",
     "metadata": {},
     "outputs": [
      {
       "metadata": {},
       "output_type": "display_data",
       "png": "[encoded data removed]",
       "text": [
        "<matplotlib.figure.Figure at 0x313f850>"
       ]
      }
     ],
     "prompt_number": 43
    },
    {
     "cell_type": "code",
     "collapsed": false,
     "input": [
      "fit = agg.fitRegions((800, 955), (998, 1005),(1060, 1070))\n"
     ],
     "language": "python",
     "metadata": {},
     "outputs": [
      {
       "metadata": {},
       "output_type": "pyout",
       "prompt_number": 91,
       "text": [
        "<Fit function 'MMS_rip_region' using parameters Lp=20.60, Lc=1046.88, F0=-0.46, K=1200.00, Lp1=1.00, Lc1=14.55, K1=1600.00, Lc2=54.63"
       ]
      }
     ],
     "prompt_number": 91
    },
    {
     "cell_type": "code",
     "collapsed": false,
     "input": [
      "print fit"
     ],
     "language": "python",
     "metadata": {},
     "outputs": [
      {
       "output_type": "stream",
       "stream": "stdout",
       "text": [
        "MMS_rip_region fit: Lp=20.60\u00b10.79 Lc=1046.88\u00b16.71 F0=-0.46\u00b10.00 Lc1=14.55\u00b14.45 Lc2=54.63\u00b14.51\n"
       ]
      }
     ],
     "prompt_number": 99
    },
    {
     "cell_type": "code",
     "collapsed": false,
     "input": [
      "fplot.plot(agg.trap)\n",
      "fit.plot(markersize = 2)"
     ],
     "language": "python",
     "metadata": {},
     "outputs": [
      {
       "metadata": {},
       "output_type": "pyout",
       "prompt_number": 95,
       "text": [
        "<matplotlib.axes.AxesSubplot at 0x5f1e910>"
       ]
      },
      {
       "metadata": {},
       "output_type": "display_data",
       "png": "[encoded data removed]",
       "text": [
        "<matplotlib.figure.Figure at 0x5f381d0>"
       ]
      }
     ],
     "prompt_number": 95
    },
    {
     "cell_type": "code",
     "collapsed": false,
     "input": [
      "plot(fit.fitOutput, fit.residual, \".\", markersize=2)\n",
      "ylim(-10,10)"
     ],
     "language": "python",
     "metadata": {},
     "outputs": [
      {
       "metadata": {},
       "output_type": "pyout",
       "prompt_number": 98,
       "text": [
        "(-10, 10)"
       ]
      },
      {
       "metadata": {},
       "output_type": "display_data",
       "png": "[encoded data removed]",
       "text": [
        "<matplotlib.figure.Figure at 0x5f385d0>"
       ]
      }
     ],
     "prompt_number": 98
    },
    {
     "cell_type": "code",
     "collapsed": false,
     "input": [
      "agg.plot()"
     ],
     "language": "python",
     "metadata": {},
     "outputs": [
      {
       "ename": "TypeError",
       "evalue": "super(type, obj): obj must be an instance or subtype of type",
       "output_type": "pyerr",
       "traceback": [
        "\u001b[1;31m---------------------------------------------------------------------------\u001b[0m\n\u001b[1;31mTypeError\u001b[0m                                 Traceback (most recent call last)",
        "\u001b[1;32m<ipython-input-39-a57c145f175e>\u001b[0m in \u001b[0;36m<module>\u001b[1;34m()\u001b[0m\n\u001b[1;32m----> 1\u001b[1;33m \u001b[0magg\u001b[0m\u001b[1;33m.\u001b[0m\u001b[0mplot\u001b[0m\u001b[1;33m(\u001b[0m\u001b[1;33m)\u001b[0m\u001b[1;33m\u001b[0m\u001b[0m\n\u001b[0m",
        "\u001b[1;32m/home/vknguyen/2013.09.06/smbanalyze/experiment.pyc\u001b[0m in \u001b[0;36mplot\u001b[1;34m(self, fret, **kwargs)\u001b[0m\n\u001b[0;32m    640\u001b[0m       \u001b[0mself\u001b[0m\u001b[1;33m.\u001b[0m\u001b[0mfigure\u001b[0m\u001b[1;33m.\u001b[0m\u001b[0mplot\u001b[0m\u001b[1;33m(\u001b[0m\u001b[0mself\u001b[0m\u001b[1;33m.\u001b[0m\u001b[0mfret\u001b[0m\u001b[1;33m,\u001b[0m \u001b[0mself\u001b[0m\u001b[1;33m.\u001b[0m\u001b[0mtrap\u001b[0m\u001b[1;33m,\u001b[0m \u001b[1;33m**\u001b[0m\u001b[0mkwargs\u001b[0m\u001b[1;33m)\u001b[0m\u001b[1;33m\u001b[0m\u001b[0m\n\u001b[0;32m    641\u001b[0m     \u001b[1;32melse\u001b[0m\u001b[1;33m:\u001b[0m\u001b[1;33m\u001b[0m\u001b[0m\n\u001b[1;32m--> 642\u001b[1;33m       \u001b[0mself\u001b[0m\u001b[1;33m.\u001b[0m\u001b[0mfigure\u001b[0m\u001b[1;33m.\u001b[0m\u001b[0mplot\u001b[0m\u001b[1;33m(\u001b[0m\u001b[0mself\u001b[0m\u001b[1;33m.\u001b[0m\u001b[0mtrap\u001b[0m\u001b[1;33m,\u001b[0m \u001b[1;33m**\u001b[0m\u001b[0mkwargs\u001b[0m\u001b[1;33m)\u001b[0m\u001b[1;33m\u001b[0m\u001b[0m\n\u001b[0m\u001b[0;32m    643\u001b[0m     \u001b[1;32mif\u001b[0m \u001b[0mself\u001b[0m\u001b[1;33m.\u001b[0m\u001b[0mlastFit\u001b[0m\u001b[1;33m:\u001b[0m\u001b[1;33m\u001b[0m\u001b[0m\n\u001b[0;32m    644\u001b[0m       \u001b[0mself\u001b[0m\u001b[1;33m.\u001b[0m\u001b[0mfigure\u001b[0m\u001b[1;33m.\u001b[0m\u001b[0mplot\u001b[0m\u001b[1;33m(\u001b[0m\u001b[0mself\u001b[0m\u001b[1;33m.\u001b[0m\u001b[0mlastFit\u001b[0m\u001b[1;33m,\u001b[0m \u001b[0mhold\u001b[0m\u001b[1;33m=\u001b[0m\u001b[0mTrue\u001b[0m\u001b[1;33m)\u001b[0m\u001b[1;33m\u001b[0m\u001b[0m\n",
        "\u001b[1;32m/home/vknguyen/2013.09.06/smbanalyze/fplot.pyc\u001b[0m in \u001b[0;36mplot\u001b[1;34m(self, *args, **kwargs)\u001b[0m\n\u001b[0;32m     42\u001b[0m     \u001b[1;32mtry\u001b[0m\u001b[1;33m:\u001b[0m\u001b[1;33m\u001b[0m\u001b[0m\n\u001b[0;32m     43\u001b[0m       \u001b[1;31m# Treat the first argument as an object that can plot itself...\u001b[0m\u001b[1;33m\u001b[0m\u001b[1;33m\u001b[0m\u001b[0m\n\u001b[1;32m---> 44\u001b[1;33m       \u001b[1;32mreturn\u001b[0m \u001b[0margs\u001b[0m\u001b[1;33m[\u001b[0m\u001b[1;36m0\u001b[0m\u001b[1;33m]\u001b[0m\u001b[1;33m.\u001b[0m\u001b[0mplot\u001b[0m\u001b[1;33m(\u001b[0m\u001b[1;33m*\u001b[0m\u001b[0margs\u001b[0m\u001b[1;33m[\u001b[0m\u001b[1;36m1\u001b[0m\u001b[1;33m:\u001b[0m\u001b[1;33m]\u001b[0m\u001b[1;33m,\u001b[0m \u001b[1;33m**\u001b[0m\u001b[0mkwargs\u001b[0m\u001b[1;33m)\u001b[0m\u001b[1;33m\u001b[0m\u001b[0m\n\u001b[0m\u001b[0;32m     45\u001b[0m     \u001b[1;32mexcept\u001b[0m \u001b[0mAttributeError\u001b[0m\u001b[1;33m:\u001b[0m\u001b[1;33m\u001b[0m\u001b[0m\n\u001b[0;32m     46\u001b[0m       \u001b[1;31m# ...unless it can't\u001b[0m\u001b[1;33m\u001b[0m\u001b[1;33m\u001b[0m\u001b[0m\n",
        "\u001b[1;32m/home/vknguyen/2013.09.06/smbanalyze/datatypes.pyc\u001b[0m in \u001b[0;36m__getattr__\u001b[1;34m(self, attr)\u001b[0m\n\u001b[0;32m    108\u001b[0m     \u001b[1;32melse\u001b[0m\u001b[1;33m:\u001b[0m\u001b[1;33m\u001b[0m\u001b[0m\n\u001b[0;32m    109\u001b[0m       \u001b[1;32mtry\u001b[0m\u001b[1;33m:\u001b[0m\u001b[1;33m\u001b[0m\u001b[0m\n\u001b[1;32m--> 110\u001b[1;33m         \u001b[1;32mreturn\u001b[0m \u001b[0mgetattr\u001b[0m\u001b[1;33m(\u001b[0m\u001b[0msuper\u001b[0m\u001b[1;33m(\u001b[0m\u001b[0mAbstractData\u001b[0m\u001b[1;33m,\u001b[0m \u001b[0mself\u001b[0m\u001b[1;33m)\u001b[0m\u001b[1;33m,\u001b[0m \u001b[0mattr\u001b[0m\u001b[1;33m)\u001b[0m\u001b[1;33m\u001b[0m\u001b[0m\n\u001b[0m\u001b[0;32m    111\u001b[0m       \u001b[1;32mexcept\u001b[0m \u001b[0mAttributeError\u001b[0m\u001b[1;33m:\u001b[0m\u001b[1;33m\u001b[0m\u001b[0m\n\u001b[0;32m    112\u001b[0m         raise AttributeError(\"{0} has no attribute '{1}'\".format(\n",
        "\u001b[1;31mTypeError\u001b[0m: super(type, obj): obj must be an instance or subtype of type"
       ]
      },
      {
       "metadata": {},
       "output_type": "display_data",
       "text": [
        "<matplotlib.figure.Figure at 0x33e9a90>"
       ]
      }
     ],
     "prompt_number": 39
    },
    {
     "cell_type": "code",
     "collapsed": false,
     "input": [
      "clf()\n",
      "fplot.plot(p.trap)\n",
      "plot(p.fit.fitOutput, p.fit.x, 'x')"
     ],
     "language": "python",
     "metadata": {},
     "outputs": [
      {
       "ename": "AttributeError",
       "evalue": "'Pulling' object has no attribute 'fit'",
       "output_type": "pyerr",
       "traceback": [
        "\u001b[1;31m---------------------------------------------------------------------------\u001b[0m\n\u001b[1;31mAttributeError\u001b[0m                            Traceback (most recent call last)",
        "\u001b[1;32m<ipython-input-12-8e74380504b6>\u001b[0m in \u001b[0;36m<module>\u001b[1;34m()\u001b[0m\n\u001b[0;32m      1\u001b[0m \u001b[0mclf\u001b[0m\u001b[1;33m(\u001b[0m\u001b[1;33m)\u001b[0m\u001b[1;33m\u001b[0m\u001b[0m\n\u001b[0;32m      2\u001b[0m \u001b[0mfplot\u001b[0m\u001b[1;33m.\u001b[0m\u001b[0mplot\u001b[0m\u001b[1;33m(\u001b[0m\u001b[0mp\u001b[0m\u001b[1;33m.\u001b[0m\u001b[0mtrap\u001b[0m\u001b[1;33m)\u001b[0m\u001b[1;33m\u001b[0m\u001b[0m\n\u001b[1;32m----> 3\u001b[1;33m \u001b[0mplot\u001b[0m\u001b[1;33m(\u001b[0m\u001b[0mp\u001b[0m\u001b[1;33m.\u001b[0m\u001b[0mfit\u001b[0m\u001b[1;33m.\u001b[0m\u001b[0mfitOutput\u001b[0m\u001b[1;33m,\u001b[0m \u001b[0mp\u001b[0m\u001b[1;33m.\u001b[0m\u001b[0mfit\u001b[0m\u001b[1;33m.\u001b[0m\u001b[0mx\u001b[0m\u001b[1;33m,\u001b[0m \u001b[1;34m'x'\u001b[0m\u001b[1;33m)\u001b[0m\u001b[1;33m\u001b[0m\u001b[0m\n\u001b[0m",
        "\u001b[1;31mAttributeError\u001b[0m: 'Pulling' object has no attribute 'fit'"
       ]
      },
      {
       "output_type": "stream",
       "stream": "stderr",
       "text": [
        "/home/vknguyen/vkn/lib/python2.7/site-packages/matplotlib/axes.py:4747: UserWarning: No labeled objects found. Use label='...' kwarg on individual plots.\n",
        "  warnings.warn(\"No labeled objects found. \"\n"
       ]
      },
      {
       "metadata": {},
       "output_type": "display_data",
       "png": "[encoded data removed]",
       "text": [
        "<matplotlib.figure.Figure at 0x2c20e10>"
       ]
      }
     ],
     "prompt_number": 12
    },
    {
     "cell_type": "code",
     "collapsed": false,
     "input": [
      "[x for x in range(10)]"
     ],
     "language": "python",
     "metadata": {},
     "outputs": [
      {
       "output_type": "pyout",
       "prompt_number": 161,
       "text": [
        "[0, 1, 2, 3, 4, 5, 6, 7, 8, 9]"
       ]
      }
     ],
     "prompt_number": 161
    },
    {
     "cell_type": "code",
     "collapsed": false,
     "input": [
      "points = [x for x,f in limits]"
     ],
     "language": "python",
     "metadata": {},
     "outputs": [],
     "prompt_number": 188
    },
    {
     "cell_type": "code",
     "collapsed": false,
     "input": [
      "[(points[i],points[i+1]) for i in range(0,len(points),2)]"
     ],
     "language": "python",
     "metadata": {},
     "outputs": [
      {
       "output_type": "pyout",
       "prompt_number": 179,
       "text": [
        "[(840.66889943074023, 1018.9971111242885),\n",
        " (1024.2201131404177, 1028.6969720113852),\n",
        " (1056.304268382353, 1071.2271312855789)]"
       ]
      }
     ],
     "prompt_number": 179
    },
    {
     "cell_type": "code",
     "collapsed": false,
     "input": [
      "[(limits[i][0],limits[i+1][0]) for i in range(0,len(limits),2)]"
     ],
     "language": "python",
     "metadata": {},
     "outputs": [
      {
       "output_type": "pyout",
       "prompt_number": 169,
       "text": [
        "[(840.66889943074023, 1018.9971111242885),\n",
        " (1024.2201131404177, 1028.6969720113852),\n",
        " (1056.304268382353, 1071.2271312855789)]"
       ]
      }
     ],
     "prompt_number": 169
    },
    {
     "cell_type": "code",
     "collapsed": false,
     "input": [
      "ginput?"
     ],
     "language": "python",
     "metadata": {},
     "outputs": [],
     "prompt_number": 148
    },
    {
     "cell_type": "code",
     "collapsed": false,
     "input": [
      "filename = 'fret_trap_pull_20130906.csv'\n",
      "csvfile = open(filename, 'wb')\n",
      "f = csv.writer(csvfile)\n",
      "headerRow = ['concentration', 'molecule', 'Pulls', 'Lp', 'Lc', 'F0', 'Lc1', \\\n",
      "    'f_rangeLower', 'f_rangeHigher', \\\n",
      "    'handleLower', 'handleHigher', 'ripsLower', 'ripsHigher']\n",
      "f.writerow(headerRow)\n",
      "\n",
      "handleLowRange = 1000\n",
      "handleHighRange = 1075\n",
      "\n",
      "for h in range(handleLowRange, handleHighRange, 5):\n",
      "\n",
      "    handleLower = h-150\n",
      "    handleHigher = h\n",
      "    ripsLower = 1080\n",
      "    ripsHigher = 29\n",
      "    \n",
      "    handles = pulls.fitHandles((handleLower, handleHigher))\n",
      "    rips = pulls.fitRip(ripsLower, ripsHigher)\n",
      "    \n",
      "    meanLp = []\n",
      "    \n",
      "    for i in range(len(rips)):\n",
      "        f.writerow([concentration, molecule, i+1, rips[i]['Lp'], rips[i]['Lc'], \\\n",
      "            rips[i]['F0'], rips[i]['Lc1'], f_rangeLower, f_rangeHigher, \\\n",
      "            handleLower, handleHigher, ripsLower, ripsHigher])\n",
      "        meanLp.append(rips[i]['Lp'])\n",
      "    print \"For %s - %s handle range, we find a total Lp of %s\" % (handleLower, handleHigher, sum(meanLp) / len(meanLp))\n",
      "    break\n",
      "csvfile.close()"
     ],
     "language": "python",
     "metadata": {},
     "outputs": [
      {
       "ename": "ValueError",
       "evalue": "No trap data in interval defined by arguments x=1080 and f=29",
       "output_type": "pyerr",
       "traceback": [
        "\u001b[1;31m---------------------------------------------------------------------------\u001b[0m\n\u001b[1;31mValueError\u001b[0m                                Traceback (most recent call last)",
        "\u001b[1;32m<ipython-input-109-e2b630a2ebb9>\u001b[0m in \u001b[0;36m<module>\u001b[1;34m()\u001b[0m\n\u001b[0;32m     16\u001b[0m \u001b[1;33m\u001b[0m\u001b[0m\n\u001b[0;32m     17\u001b[0m     \u001b[0mhandles\u001b[0m \u001b[1;33m=\u001b[0m \u001b[0mpulls\u001b[0m\u001b[1;33m.\u001b[0m\u001b[0mfitHandles\u001b[0m\u001b[1;33m(\u001b[0m\u001b[1;33m(\u001b[0m\u001b[0mhandleLower\u001b[0m\u001b[1;33m,\u001b[0m \u001b[0mhandleHigher\u001b[0m\u001b[1;33m)\u001b[0m\u001b[1;33m)\u001b[0m\u001b[1;33m\u001b[0m\u001b[0m\n\u001b[1;32m---> 18\u001b[1;33m     \u001b[0mrips\u001b[0m \u001b[1;33m=\u001b[0m \u001b[0mpulls\u001b[0m\u001b[1;33m.\u001b[0m\u001b[0mfitRip\u001b[0m\u001b[1;33m(\u001b[0m\u001b[0mripsLower\u001b[0m\u001b[1;33m,\u001b[0m \u001b[0mripsHigher\u001b[0m\u001b[1;33m)\u001b[0m\u001b[1;33m\u001b[0m\u001b[0m\n\u001b[0m\u001b[0;32m     19\u001b[0m \u001b[1;33m\u001b[0m\u001b[0m\n\u001b[0;32m     20\u001b[0m     \u001b[0mmeanLp\u001b[0m \u001b[1;33m=\u001b[0m \u001b[1;33m[\u001b[0m\u001b[1;33m]\u001b[0m\u001b[1;33m\u001b[0m\u001b[0m\n",
        "\u001b[1;32m/home/vknguyen/2013.09.06/smbanalyze/experiment.pyc\u001b[0m in \u001b[0;36mfitRip\u001b[1;34m(self, *args, **kwargs)\u001b[0m\n\u001b[0;32m    199\u001b[0m \u001b[1;33m\u001b[0m\u001b[0m\n\u001b[0;32m    200\u001b[0m   \u001b[1;32mdef\u001b[0m \u001b[0mfitRip\u001b[0m\u001b[1;33m(\u001b[0m\u001b[0mself\u001b[0m\u001b[1;33m,\u001b[0m \u001b[1;33m*\u001b[0m\u001b[0margs\u001b[0m\u001b[1;33m,\u001b[0m \u001b[1;33m**\u001b[0m\u001b[0mkwargs\u001b[0m\u001b[1;33m)\u001b[0m\u001b[1;33m:\u001b[0m\u001b[1;33m\u001b[0m\u001b[0m\n\u001b[1;32m--> 201\u001b[1;33m     \u001b[1;32mreturn\u001b[0m \u001b[0mself\u001b[0m\u001b[1;33m.\u001b[0m\u001b[0mcall\u001b[0m\u001b[1;33m(\u001b[0m\u001b[1;34m'fitRip'\u001b[0m\u001b[1;33m,\u001b[0m \u001b[1;33m*\u001b[0m\u001b[0margs\u001b[0m\u001b[1;33m,\u001b[0m \u001b[1;33m**\u001b[0m\u001b[0mkwargs\u001b[0m\u001b[1;33m)\u001b[0m\u001b[1;33m\u001b[0m\u001b[0m\n\u001b[0m\u001b[0;32m    202\u001b[0m \u001b[1;33m\u001b[0m\u001b[0m\n\u001b[0;32m    203\u001b[0m   \u001b[1;32mdef\u001b[0m \u001b[0madjustForceOffset\u001b[0m\u001b[1;33m(\u001b[0m\u001b[0mself\u001b[0m\u001b[1;33m,\u001b[0m \u001b[0mbaseline\u001b[0m\u001b[1;33m=\u001b[0m\u001b[1;36m0.0\u001b[0m\u001b[1;33m,\u001b[0m \u001b[0moffset\u001b[0m\u001b[1;33m=\u001b[0m\u001b[0mNone\u001b[0m\u001b[1;33m,\u001b[0m \u001b[0mx_range\u001b[0m\u001b[1;33m=\u001b[0m\u001b[0mNone\u001b[0m\u001b[1;33m)\u001b[0m\u001b[1;33m:\u001b[0m\u001b[1;33m\u001b[0m\u001b[0m\n",
        "\u001b[1;32m/home/vknguyen/2013.09.06/smbanalyze/experiment.pyc\u001b[0m in \u001b[0;36mcall\u001b[1;34m(self, action, *args, **kwargs)\u001b[0m\n\u001b[0;32m    120\u001b[0m     \u001b[1;34m\"Call function <action> with *args and **kwargs on all experiments\"\u001b[0m\u001b[1;33m\u001b[0m\u001b[0m\n\u001b[0;32m    121\u001b[0m     \u001b[1;32mtry\u001b[0m\u001b[1;33m:\u001b[0m\u001b[1;33m\u001b[0m\u001b[0m\n\u001b[1;32m--> 122\u001b[1;33m       \u001b[1;32mreturn\u001b[0m \u001b[0mmap\u001b[0m\u001b[1;33m(\u001b[0m \u001b[0mmethodcaller\u001b[0m\u001b[1;33m(\u001b[0m\u001b[0maction\u001b[0m\u001b[1;33m,\u001b[0m \u001b[1;33m*\u001b[0m\u001b[0margs\u001b[0m\u001b[1;33m,\u001b[0m \u001b[1;33m**\u001b[0m\u001b[0mkwargs\u001b[0m\u001b[1;33m)\u001b[0m\u001b[1;33m,\u001b[0m \u001b[0mself\u001b[0m \u001b[1;33m)\u001b[0m\u001b[1;33m\u001b[0m\u001b[0m\n\u001b[0m\u001b[0;32m    123\u001b[0m     \u001b[1;32mexcept\u001b[0m \u001b[0mAttributeError\u001b[0m\u001b[1;33m:\u001b[0m\u001b[1;33m\u001b[0m\u001b[0m\n\u001b[0;32m    124\u001b[0m       \u001b[1;32mraise\u001b[0m \u001b[0mExperimentError\u001b[0m\u001b[1;33m(\u001b[0m\u001b[1;34m'Missing method {0} in a List element'\u001b[0m\u001b[1;33m.\u001b[0m\u001b[0mformat\u001b[0m\u001b[1;33m(\u001b[0m\u001b[0maction\u001b[0m\u001b[1;33m)\u001b[0m\u001b[1;33m)\u001b[0m\u001b[1;33m\u001b[0m\u001b[0m\n",
        "\u001b[1;32m/home/vknguyen/2013.09.06/smbanalyze/experiment.pyc\u001b[0m in \u001b[0;36mfitRip\u001b[1;34m(self, x, f, guess, **fitOptions)\u001b[0m\n\u001b[0;32m    519\u001b[0m     \u001b[1;32melse\u001b[0m\u001b[1;33m:\u001b[0m\u001b[1;33m\u001b[0m\u001b[0m\n\u001b[0;32m    520\u001b[0m       \u001b[0mparameters\u001b[0m\u001b[1;33m[\u001b[0m\u001b[1;34m'fixed'\u001b[0m\u001b[1;33m]\u001b[0m \u001b[1;33m=\u001b[0m \u001b[0mMMS_fixed\u001b[0m \u001b[1;33m+\u001b[0m \u001b[1;33m(\u001b[0m\u001b[1;34m'K1'\u001b[0m\u001b[1;33m,\u001b[0m\u001b[1;34m'Lp1'\u001b[0m\u001b[1;33m)\u001b[0m\u001b[1;33m\u001b[0m\u001b[0m\n\u001b[1;32m--> 521\u001b[1;33m     \u001b[0mrip\u001b[0m \u001b[1;33m=\u001b[0m \u001b[0mself\u001b[0m\u001b[1;33m.\u001b[0m\u001b[0mfitForceExtension\u001b[0m\u001b[1;33m(\u001b[0m\u001b[0mx\u001b[0m\u001b[1;33m,\u001b[0m \u001b[0mf\u001b[0m\u001b[1;33m,\u001b[0m \u001b[1;33m**\u001b[0m\u001b[0mparameters\u001b[0m\u001b[1;33m)\u001b[0m\u001b[1;33m\u001b[0m\u001b[0m\n\u001b[0m\u001b[0;32m    522\u001b[0m     \u001b[0mself\u001b[0m\u001b[1;33m.\u001b[0m\u001b[0maddRip\u001b[0m\u001b[1;33m(\u001b[0m\u001b[0mrip\u001b[0m\u001b[1;33m)\u001b[0m\u001b[1;33m\u001b[0m\u001b[0m\n\u001b[0;32m    523\u001b[0m     \u001b[1;32mreturn\u001b[0m \u001b[0mrip\u001b[0m\u001b[1;33m\u001b[0m\u001b[0m\n",
        "\u001b[1;32m/home/vknguyen/2013.09.06/smbanalyze/experiment.pyc\u001b[0m in \u001b[0;36mfitForceExtension\u001b[1;34m(self, x, f, start, stop, **fitOptions)\u001b[0m\n\u001b[0;32m    552\u001b[0m       raise ValueError(\n\u001b[0;32m    553\u001b[0m         'No trap data in interval defined by arguments x={} and f={}'.format(\n\u001b[1;32m--> 554\u001b[1;33m           x,f))\n\u001b[0m\u001b[0;32m    555\u001b[0m     \u001b[0mfit\u001b[0m \u001b[1;33m=\u001b[0m \u001b[0mfitWLC\u001b[0m\u001b[1;33m(\u001b[0m\u001b[0mpull\u001b[0m\u001b[1;33m.\u001b[0m\u001b[0mext\u001b[0m\u001b[1;33m,\u001b[0m \u001b[0mpull\u001b[0m\u001b[1;33m.\u001b[0m\u001b[0mf\u001b[0m\u001b[1;33m,\u001b[0m \u001b[1;33m**\u001b[0m\u001b[0mfitOptions\u001b[0m\u001b[1;33m)\u001b[0m\u001b[1;33m\u001b[0m\u001b[0m\n\u001b[0;32m    556\u001b[0m     \u001b[0mfit\u001b[0m\u001b[1;33m.\u001b[0m\u001b[0mext_range\u001b[0m \u001b[1;33m=\u001b[0m \u001b[1;33m(\u001b[0m\u001b[0mmin\u001b[0m\u001b[1;33m(\u001b[0m\u001b[0mpull\u001b[0m\u001b[1;33m.\u001b[0m\u001b[0mext\u001b[0m\u001b[1;33m)\u001b[0m\u001b[1;33m,\u001b[0m \u001b[0mmax\u001b[0m\u001b[1;33m(\u001b[0m\u001b[0mpull\u001b[0m\u001b[1;33m.\u001b[0m\u001b[0mext\u001b[0m\u001b[1;33m)\u001b[0m\u001b[1;33m)\u001b[0m\u001b[1;33m\u001b[0m\u001b[0m\n",
        "\u001b[1;31mValueError\u001b[0m: No trap data in interval defined by arguments x=1080 and f=29"
       ]
      }
     ],
     "prompt_number": 109
    }
   ],
   "metadata": {}
  }
 ]
}