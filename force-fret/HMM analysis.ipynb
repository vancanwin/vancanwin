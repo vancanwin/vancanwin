{
 "cells": [
  {
   "cell_type": "code",
   "execution_count": 1,
   "metadata": {
    "collapsed": false
   },
   "outputs": [
    {
     "name": "stdout",
     "output_type": "stream",
     "text": [
      "test\n"
     ]
    }
   ],
   "source": [
    "import os, stat\n",
    "print(\"test\")"
   ]
  },
  {
   "cell_type": "code",
   "execution_count": 2,
   "metadata": {
    "collapsed": false
   },
   "outputs": [
    {
     "name": "stdout",
     "output_type": "stream",
     "text": [
      "Using matplotlib backend: Qt4Agg\n",
      "Using matplotlib backend: Qt4Agg\n",
      "184\n",
      "love\n",
      "0.179762 [ 0.40865752] 0.706034 [ 0.40865752]\n",
      "0.179762 [ 0.40865752] 0.706034 [ 0.706034]\n",
      "[[ 0.17976196]\n",
      " [ 0.40865752]\n",
      " [ 0.706034  ]\n",
      " [ 0.40865752]] means\n",
      "[ 12.38062      8.47134686]\n",
      "0>1 0.0555531 0.900040308701 s \n",
      " 1>0 0.0258551 1.93385418029 s \n",
      " 1>2 0.0377201 1.32555416796 s \n",
      " 2>1 0.0362444 1.37952346329 s \n",
      " 2>3 0.00814805 6.13643970516 s \n",
      " 3>2 0.31722 0.157619361049 s \n",
      "\n"
     ]
    },
    {
     "data": {
      "text/plain": [
       "',\\n     \"3>4\", trans[3][4],0.05/trans[3][4],\"s \\n\",\\n     \"4>3\", trans[4][3],0.05/trans[4][3],\"s \\n\",)'"
      ]
     },
     "execution_count": 2,
     "metadata": {},
     "output_type": "execute_result"
    }
   ],
   "source": [
    "#HMM\n",
    "\n",
    "import pandas as pd\n",
    "import mdtraj, os, cython, msmbuilder, math, scipy\n",
    "from mdtraj.utils import timing\n",
    "import numpy as np\n",
    "from scipy import stats\n",
    "from scipy.spatial.distance import cdist\n",
    "from scipy.cluster.vq import *\n",
    "from scipy.cluster.vq import kmeans, vq\n",
    "from scipy.spatial.distance import cdist\n",
    "import matplotlib.pyplot as plt\n",
    "from mpl_toolkits.axes_grid1 import make_axes_locatable\n",
    "from mpl_toolkits.mplot3d import Axes3D\n",
    "import glob\n",
    "import datetime \n",
    "%matplotlib\n",
    "direname = os.chdir('C://Users//vknguyen//Desktop//Python//!analyzedTPP//')\n",
    "\n",
    "#formatting\n",
    "fontsize = 36\n",
    "fontsize2 = 32\n",
    "linewidth1 = 4\n",
    "linewidth2 = 10\n",
    "linewidth3 = 5\n",
    "linewidth4 = 20\n",
    "linewidth5 = 3\n",
    "font1 = 'arial'\n",
    "\n",
    "alpha = 0.9\n",
    "alpha2 = 0.7\n",
    "alpha3 = 0.5\n",
    "circle = 500\n",
    "circle2 = 1000 \n",
    "ticklength = 20\n",
    "tickwidth = 1\n",
    "SBcolor = '#1874cd'\n",
    "WBcolor = '#6dc066'\n",
    "FFcolor = '#885ead'\n",
    "SBcolordark = '#003891'\n",
    "WBcolordark = '#22741B'\n",
    "FFcolordark = '#3E1760'\n",
    "grey = '#cccccc'\n",
    "black = '#000000'\n",
    "noTPPcolor = '#EEC900'\n",
    "Tcolor = '#ff4444'\n",
    "fretlim_max = 1.0\n",
    "fretlim_min = 0\n",
    "\n",
    "\n",
    "binwidth = 0.005\n",
    "bin = np.arange(fretlim_min,fretlim_max,binwidth)\n",
    "\n",
    "from msmbuilder.example_datasets import load_doublewell\n",
    "import msmbuilder.cluster\n",
    "from msmbuilder.cluster import NDGrid\n",
    "from msmbuilder.msm import BayesianMarkovStateModel, MarkovStateModel\n",
    "from msmbuilder.featurizer import SuperposeFeaturizer\n",
    "from msmbuilder.hmm.ghmm import GaussianFusionHMM\n",
    "from msmbuilder.dataset import dataset\n",
    "import msmbuilder.hmm\n",
    "\n",
    "%matplotlib\n",
    "pulls_list = os.listdir(direname)\n",
    "fret_list = []\n",
    "pull_list = []\n",
    "refoldtime = 3.0\n",
    "\n",
    "for p in pulls_list:\n",
    "    if \"WT2at\" in p and \"refold\" in p and \"up\" not in p and datetime.datetime.strptime(p[:10], \"%Y.%m.%d\") < datetime.datetime(2014, 12, 20, 0, 0):#and str(refoldtime) in p\n",
    "    #if \"WT2at\" in p and \"refold\" in p and str(refoldtime) in p and \"up\" not in p and datetime.datetime.strptime(p[:10], \"%Y.%m.%d\") < datetime.datetime(2014, 12, 20, 0, 0):\n",
    "        if \".fret\" in p:\n",
    "            fret_list.append(p)\n",
    "        if \".str\" in p:\n",
    "            pull_list.append(p)\n",
    "\n",
    "print(len(fret_list))\n",
    "pull_list.sort\n",
    "fret_list.sort\n",
    "n_features = 1\n",
    "\n",
    "n_states = 4\n",
    "\n",
    "plt.close('all')\n",
    "timescales = []\n",
    "# Get a list of all filenames to process\n",
    "filenames = fret_list#glob.glob(\"./*.fret\")\n",
    "ext = []\n",
    "f = []\n",
    "\n",
    "X = []  # List that will contain all fret traces\n",
    "Time = []\n",
    "X2 = []\n",
    "Time2 = []\n",
    "x_length_list = []\n",
    "x_exptime_list = []\n",
    "b=7\n",
    "for filename in fret_list[0:20]:\n",
    "        dataset = pd.read_table(filename, comment=\"#\")  # Read file with pandas reader    \n",
    "        x_i = dataset[\"FRET\"]  # Grab column of FRET values\n",
    "        x_i = x_i.values  # Convert from pandas series to numpy array   \n",
    "        x_i = x_i[:, np.newaxis]  # Convert from 1D array to 2D array of shape (traj_len, 1)\n",
    "        x_t = dataset[\"time\"]  # Grab column of FRET values\n",
    "        x_t = x_t.values  # Convert from pandas series to numpy array   \n",
    "        x_t = x_t[:, np.newaxis]  # Convert from 1D array to 2D array of shape (traj_len, 1)\n",
    "        x_length = len(x_i)\n",
    "        x_exptime = x_t[0]\n",
    "        x_length_list.append(x_length)\n",
    "        X.append(x_i)  # Add to dataset\n",
    "        X2.extend(x_i)\n",
    "        Time.append(x_t)  # Add to dataset\n",
    "        Time2.extend(x_t)\n",
    "\n",
    "#trans_init = [[0.3, 0.65, 0.0025, 0.0025],[ 0.0025, 0.5, 0.5, 0.0025],[0.0025, 0.0025,0.7, 0.25],[0.0049, 0.005, 0.0001, 0.99]]\n",
    "model = msmbuilder.hmm.GaussianFusionHMM(n_states, n_features)\n",
    "model.fit(X)\n",
    "print(\"love\")\n",
    "while True:\n",
    "    if np.min(model.means_) != model.means_[0]:\n",
    "        print(np.min(model.means_), model.means_[0], np.max(model.means_),model.means_[-1])\n",
    "        model = msmbuilder.hmm.GaussianFusionHMM(n_states, n_features)\n",
    "        model.fit(X)\n",
    "    else:#if np.min(model.means_) == model.means_[0] and np.max(model.means_) == model.means_[-1]:\n",
    "        break\n",
    "\n",
    "    \n",
    "timescales.append(model.timescales_)   \n",
    "\n",
    "print(model.means_,\"means\")\n",
    "print(model.timescales_)               \n",
    "\n",
    "_0 = max(model.means_)\n",
    "_1 = np.median(model.means_)\n",
    "_2 = min(model.means_)\n",
    "_3 = min(model.means_)\n",
    "\n",
    "trans = np.array(model.transmat_)\n",
    "print(\"0>1\",trans[0][1],0.05/trans[0][1],\"s \\n\",\n",
    "     \"1>0\", trans[1][0],0.05/trans[1][0],\"s \\n\",\n",
    "     \"1>2\", trans[1][2],0.05/trans[1][2],\"s \\n\",\n",
    "     \"2>1\", trans[2][1],0.05/trans[2][1],\"s \\n\",\n",
    "     \"2>3\", trans[2][3],0.05/trans[2][3],\"s \\n\",\n",
    "     \"3>2\", trans[3][2],0.05/trans[3][2],\"s \\n\")\n",
    "''',\n",
    "     \"3>4\", trans[3][4],0.05/trans[3][4],\"s \\n\",\n",
    "     \"4>3\", trans[4][3],0.05/trans[4][3],\"s \\n\",)'''\n",
    "\n"
   ]
  },
  {
   "cell_type": "code",
   "execution_count": 3,
   "metadata": {
    "collapsed": false
   },
   "outputs": [
    {
     "name": "stdout",
     "output_type": "stream",
     "text": [
      "[ 0.18374996  0.3948108   0.41088533  0.01055392]\n",
      "[[ 0.01997279]\n",
      " [ 0.00914105]\n",
      " [ 0.01389067]\n",
      " [ 5.29896402]]\n",
      "[[  8.93403590e-01   5.55530675e-02   1.20784063e-02   3.89649644e-02]\n",
      " [  2.58551035e-02   9.36307847e-01   3.77200730e-02   1.17002717e-04]\n",
      " [  5.40152378e-03   3.62443998e-02   9.50206041e-01   8.14804714e-03]\n",
      " [  6.78403139e-01   4.37694695e-03   3.17219913e-01   5.28851947e-22]]\n"
     ]
    }
   ],
   "source": [
    "#2\n",
    "print(np.array(model.populations_))\n",
    "print(np.array(model.vars_))\n",
    "print(np.array(model.transmat_))\n"
   ]
  },
  {
   "cell_type": "code",
   "execution_count": 4,
   "metadata": {
    "collapsed": false
   },
   "outputs": [
    {
     "name": "stdout",
     "output_type": "stream",
     "text": [
      "0>1 0.0555531 0.900040308701 s \n",
      " 1>0 0.0258551 1.93385418029 s \n",
      " 1>2 0.0377201 1.32555416796 s \n",
      " 2>1 0.0362444 1.37952346329 s \n",
      " 2>3 0.00814805 6.13643970516 s \n",
      " 3>2 0.31722 0.157619361049 s \n",
      "\n"
     ]
    }
   ],
   "source": [
    "#3\n",
    "trans = np.array(model.transmat_)\n",
    "print(\"0>1\",trans[0][1],0.05/trans[0][1],\"s \\n\",\n",
    "     \"1>0\", trans[1][0],0.05/trans[1][0],\"s \\n\",\n",
    "     \"1>2\", trans[1][2],0.05/trans[1][2],\"s \\n\",\n",
    "     \"2>1\", trans[2][1],0.05/trans[2][1],\"s \\n\",\n",
    "     \"2>3\", trans[2][3],0.05/trans[2][3],\"s \\n\",\n",
    "     \"3>2\", trans[3][2],0.05/trans[3][2],\"s \\n\")\n",
    "''',\n",
    "     \"3>4\", trans[3][4],0.05/trans[3][4],\"s \\n\",\n",
    "     \"4>3\", trans[4][3],0.05/trans[4][3],\"s \\n\",)'''\n",
    "np.save(\"transition dwell times for \"+str(n_states) + \" states\", \".npy\")"
   ]
  },
  {
   "cell_type": "code",
   "execution_count": 5,
   "metadata": {
    "collapsed": false,
    "scrolled": false
   },
   "outputs": [
    {
     "name": "stdout",
     "output_type": "stream",
     "text": [
      "1700\n"
     ]
    }
   ],
   "source": [
    "#4 plot probabiity of state eassignment throughout data collection\n",
    "plt.close('all')\n",
    "#print(pull_list[3])\n",
    "score_list = []\n",
    "for i,x in enumerate(model.predict(X)[1:]):\n",
    "    for item in x:\n",
    "        score_list.extend(np.array(item))\n",
    "plt.figure()#\"trajectory refold time \"+ str(refoldtime)+\"s, \"+str(n_states) + \" states\")    \n",
    "\n",
    "frame_n =int(len(X)/0.05)\n",
    "states = []\n",
    "for i in range(frame_n):\n",
    "    states.append(score_list[i::frame_n])\n",
    "\n",
    "counts = []\n",
    "for i in range(frame_n):\n",
    "     counts.append(np.histogram(states[i], bins=n_states)[0])\n",
    "\n",
    "counts = np.array(counts)\n",
    "\n",
    "for i in range(n_states):\n",
    "    plt.plot(counts[:,i]/len(X))\n",
    "#plt.plot(Time2,X2,\".\")\n",
    "#plt.ylim(-0.1, 1.1)\n",
    "plt.rcParams['svg.fonttype'] = 'none'\n",
    "print(len(score_list))\n",
    "        "
   ]
  },
  {
   "cell_type": "code",
   "execution_count": 6,
   "metadata": {
    "collapsed": false
   },
   "outputs": [
    {
     "name": "stdout",
     "output_type": "stream",
     "text": [
      "1.622282608695652 1700 1700 20 1700\n",
      "1700 1700\n",
      "p_value =  0.646934733139\n",
      "[ 309.22566531] 1.0\n"
     ]
    }
   ],
   "source": [
    "#HHM score for each state versus FRET values\n",
    "plt.close('all')\n",
    "#plt.scatter(score_list,X)\n",
    "refoldtime = (5970/3680)\n",
    "catTime = np.arange(0,len(X)*(1700/400), 0.05)\n",
    "#for thing in map(lambda i: model.means_[i], np.array(score_list)):\n",
    "#    print(thing[0])\n",
    "statefret = []\n",
    "for point in score_list:\n",
    "    statefret.append(model.means_[point])\n",
    "print(refoldtime,len(catTime) , len(score_list),len(X), len(X2))\n",
    "\n",
    "plt.figure(\"model on data refold time \"+ str(refoldtime)+\"s, \"+str(n_states) + \" states\")    \n",
    "plt.plot(catTime,statefret,\"r-\") \n",
    "plt.scatter(catTime,X2, color = \"blue\")\n",
    "plt.ylim(-0.1,1.2)\n",
    "print(len(statefret), len(X2))\n",
    "x2_std = np.std(X2)\n",
    "print(\"p_value = \", np.sum((np.array(X2)-np.array(statefret))**2)/(len(score_list)*(x2_std)**2))\n",
    "chisq_value, p_value = scipy.stats.chisquare(X2,statefret, ddof = 6)\n",
    "print(chisq_value, float(p_value))\n"
   ]
  },
  {
   "cell_type": "code",
   "execution_count": 37,
   "metadata": {
    "collapsed": false
   },
   "outputs": [
    {
     "name": "stdout",
     "output_type": "stream",
     "text": [
      "UFFF nan nan \n",
      " FFUF nan nan \n",
      " FFWB 1.21785714286 0.333998714499 \n",
      " WBFF 0.832352941176 0.226666263824 \n",
      " WBSB 0.05 4.90653893339e-18 \n",
      " SBWB 0.05 0.0 \n",
      " 34 0.05 0.0 \n",
      " 43 1.45 nan \n",
      " Refold, n 5\n"
     ]
    },
    {
     "name": "stderr",
     "output_type": "stream",
     "text": [
      "c:\\Users\\vknguyen\\AppData\\Local\\Continuum\\Anaconda3\\lib\\site-packages\\numpy\\core\\_methods.py:59: RuntimeWarning: Mean of empty slice.\n",
      "  warnings.warn(\"Mean of empty slice.\", RuntimeWarning)\n",
      "c:\\Users\\vknguyen\\AppData\\Local\\Continuum\\Anaconda3\\lib\\site-packages\\numpy\\core\\_methods.py:83: RuntimeWarning: Degrees of freedom <= 0 for slice\n",
      "  warnings.warn(\"Degrees of freedom <= 0 for slice\", RuntimeWarning)\n"
     ]
    }
   ],
   "source": [
    "#dwell times\n",
    "count_0_list = []\n",
    "count_1_list = []\n",
    "count_2_list = []\n",
    "count_3_list = []\n",
    "count_4_list = []\n",
    "\n",
    "        \n",
    "#histo, bino = np.histogram(score_list, n_states)\n",
    "#print(histo)\n",
    "\n",
    "kFFWB = []\n",
    "kWBFF = []\n",
    "kWBSB = []\n",
    "kSBWB = []\n",
    "k34 = []\n",
    "k43 = []\n",
    "kFFUF = []\n",
    "kUFFF = []\n",
    "\n",
    "kFFWB_force = []\n",
    "kWBFF_force = []\n",
    "kWBSB_force = []\n",
    "kSBWB_force = []\n",
    "\n",
    "exposure_time = 0.05\n",
    "n = 1\n",
    "p_count = 0\n",
    "\n",
    "for i,t in enumerate(score_list[:-1]):\n",
    "    if score_list[i] == score_list[i+1] and i !=len(score_list)-n:\n",
    "        p_count +=1\n",
    "    elif score_list[i] != score_list[i+1] or i ==len(score_list)-n:\n",
    "        if score_list[i] == 4:\n",
    "            p_count +=1\n",
    "            count_4_list.append(p_count * float(exposure_time))\n",
    "            if score_list[i]== 4 and score_list[i+1] == 3:\n",
    "                k43.append(p_count * float(exposure_time))\n",
    "        \n",
    "        elif score_list[i] == 3:\n",
    "            p_count +=1\n",
    "            count_3_list.append(p_count * float(exposure_time))\n",
    "            if score_list[i]== 3 and score_list[i+1] == 2:\n",
    "                kSBWB.append(p_count * float(exposure_time))\n",
    "            elif score_list[i]== 3 and score_list[i+1] == 4:\n",
    "                k34.append(p_count * float(exposure_time))  \n",
    "                \n",
    "        elif score_list[i] == 2:\n",
    "            p_count +=1\n",
    "            count_2_list.append(p_count * float(exposure_time))\n",
    "            if score_list[i]== 2 and score_list[i+1] == 1:\n",
    "                kWBFF.append(p_count * float(exposure_time))\n",
    "            elif score_list[i] == 2 and score_list[i+1] == 3:\n",
    "                kWBSB.append(p_count * float(exposure_time))\n",
    "            #print \"WB\", Time[i], p_count\n",
    "\n",
    "        elif score_list[i] == 1:\n",
    "            p_count +=1\n",
    "            count_1_list.append(p_count * float(exposure_time))\n",
    "            if score_list[i] == 1 and score_list[i+1] ==2:\n",
    "                kFFWB.append(p_count * float(exposure_time))\n",
    "            elif score_list[i] == 1 and score_list[i+1] == 0:\n",
    "                kFFUF.append(p_count * float(exposure_time))\n",
    "            \n",
    "        elif score_list[i] == 0:\n",
    "            p_count +=1\n",
    "            count_0_list.append(p_count * float(exposure_time))\n",
    "            if score_list[i]== 0 and score_list[i+1] == 1:\n",
    "                kUFFF.append(p_count * float(exposure_time))\n",
    "\n",
    "        elif score_list[i]:\n",
    "            break\n",
    "    \n",
    "        p_count = 0\n",
    "print(\"UFFF\",np.mean(kUFFF), stats.sem(kUFFF),\"\\n\",\n",
    "      \"FFUF\",np.mean(kFFUF), stats.sem(kFFUF),\"\\n\",\n",
    "      \"FFWB\",np.mean(kFFWB), stats.sem(kFFWB),\"\\n\", \n",
    "      \"WBFF\",np.mean(kWBFF), stats.sem(kWBFF),\"\\n\", \n",
    "      \"WBSB\",np.mean(kWBSB), stats.sem(kWBSB),\"\\n\", \n",
    "      \"SBWB\",np.mean(kSBWB), stats.sem(kSBWB),\"\\n\", \n",
    "      \"34\",np.mean(k34), stats.sem(k34),\"\\n\", \n",
    "      \"43\",np.mean(k43), stats.sem(k43),\"\\n\", \n",
    "      \"Refold, n\", n_states)#refoldtime,\n"
   ]
  },
  {
   "cell_type": "code",
   "execution_count": 36,
   "metadata": {
    "collapsed": false
   },
   "outputs": [
    {
     "name": "stdout",
     "output_type": "stream",
     "text": [
      "UF 0.873529411765 0.250041086589\n",
      "FF 0.663559322034 0.101423414682\n",
      "WB 0.490740740741 0.0411103682136\n",
      "SB 0.237058823529 0.0206419169876\n",
      "kSBWB 0.230985915493 0.0252824327472\n",
      "kWBSB 0.505056179775 0.0697564571893\n",
      "kWBFF 0.495238095238 0.0549384144302\n",
      "kFFWB 0.560416666667 0.0842338948981\n",
      "kFFUF 2.125 1.33564903075\n",
      "kUFFF 1.1375 0.471201920624\n",
      "[0 0 2 0 0 1 1 0 0 0 0 0 0 0 1 0 0 0 0 0 0 0 0 0 0 1 0 0 0 0 0 0 0 0 0 0 0\n",
      " 0 0 0 0 0 0 0 0 0 0 0 0 0 0 0 0 0 0 0 0 0 0 0 1 0 0 0 0 0 0 0 1 0 0 0 0 0\n",
      " 0 0 0 0 0 0 0 0 0 0 0 0 0 0 0 0 0 0 0 0 0 0 0 0 0]\n",
      "-5.68249364079 slope\n",
      "14.6145843009 intercept adjusted SBWB\n",
      "-0.940007258491 slope 2.07944154168 intercept\n",
      "8.38497911575 intercept adjusted WBFF\n",
      "-0.743811837714 slope 2.30258509299 intercept\n",
      "10.3789081556 intercept adjusted WBSB\n",
      "-5.34000426693 slope 2.94443897917 intercept\n",
      "24.8147737744 intercept adjusted FFWB\n",
      "8 96 84 89 71\n",
      "('kFFWB=', '5.34', '$\\t{s^{-1}}$', 187.0, 'ms')\n",
      "('kWBSB=', '0.7438', '$\\t{s^{-1}}$', 1344.0, 'ms')\n",
      "('kWBFF=', '0.94', '$\\t{s^{-1}}$', 1064.0, 'ms')\n",
      "('kSBWB=', '5.682', '$\\t{s^{-1}}$', 176.0, 'ms')\n",
      "-inf slope 0.69314718056 intercept\n",
      "inf intercept adjusted FFWB\n",
      "-5.34000426693 slope 2.94443897917 intercept\n",
      "3.21143919251 intercept adjusted FFWB\n",
      "-0.743811837714 slope 2.30258509299 intercept\n",
      "2.33977568488 intercept adjusted WBSB\n",
      "-0.940007258491 slope 2.07944154168 intercept\n",
      "2.1264419046 intercept adjusted WBFF\n",
      "-5.68249364079 slope\n",
      "2.68201995484 intercept adjusted SBWB\n"
     ]
    }
   ],
   "source": [
    "#dwell times 2\n",
    "bin_dwell = np.arange(0,5,0.05)\n",
    "capsize1 = 1\n",
    "plt.close('all')\n",
    "plt.figure()\n",
    "#plt.hist(kWBSB,bins = 10)\n",
    "print (\"UF\",np.mean(count_0_list), stats.sem(count_0_list))\n",
    "print (\"FF\",np.mean(count_1_list), stats.sem(count_1_list))\n",
    "print (\"WB\",np.mean(count_2_list), stats.sem(count_2_list))\n",
    "print (\"SB\",np.mean(count_3_list), stats.sem(count_3_list))\n",
    "\n",
    "\n",
    "print (\"kSBWB\",np.mean(kSBWB), stats.sem(kSBWB))\n",
    "print (\"kWBSB\",np.mean(kWBSB), stats.sem(kWBSB))\n",
    "print (\"kWBFF\",np.mean(kWBFF), stats.sem(kWBFF))\n",
    "print (\"kFFWB\",np.mean(kFFWB), stats.sem(kFFWB))\n",
    "print (\"kFFUF\",np.mean(kFFUF), stats.sem(kFFUF))\n",
    "print (\"kUFFF\",np.mean(kUFFF), stats.sem(kUFFF))\n",
    "\n",
    "kSBWB_hist_ln = []\n",
    "kWBFF_hist_ln = []\n",
    "kWBSB_hist_ln = []\n",
    "kFFWB_hist_ln = []\n",
    "kUFFF_hist_ln = []\n",
    "\n",
    "\n",
    "kSBWB_hist, kSBWB_bin = np.histogram(kSBWB, bins = bin_dwell)\n",
    "kWBFF_hist, kWBFF_bin = np.histogram(kWBFF, bins = bin_dwell)\n",
    "kWBSB_hist, kWBSB_bin = np.histogram(kWBSB, bins = bin_dwell)\n",
    "kFFWB_hist, kFFWB_bin = np.histogram(kFFWB, bins = bin_dwell)\n",
    "kUFFF_hist, kUFFF_bin = np.histogram(kUFFF, bins = bin_dwell)\n",
    "\n",
    "for points1 in kSBWB_hist:\n",
    "    a = np.log(points1)\n",
    "    kSBWB_hist_ln.append(a)#red\n",
    "    \n",
    "for points2 in kWBSB_hist:\n",
    "    b = np.log(points2)\n",
    "    kWBSB_hist_ln.append(b)#blue\n",
    "\n",
    "for points3 in kWBFF_hist:\n",
    "    c = np.log(points3)\n",
    "    kWBFF_hist_ln.append(c)#purple\n",
    "    \n",
    "for points4 in kFFWB_hist:\n",
    "    d = np.log(points4)\n",
    "    kFFWB_hist_ln.append(d)#green\n",
    "    \n",
    "for points5 in kUFFF_hist:\n",
    "    e = np.log(points5)\n",
    "    kUFFF_hist_ln.append(e)#green\n",
    "    \n",
    "print(kUFFF_hist)\n",
    "\n",
    "kSBWB_width = 1 * (kSBWB_bin[1] - kSBWB_bin[0])\n",
    "kSBWB_center = (kSBWB_bin[:-1] + kSBWB_bin[1:]) / 2\n",
    "kWBFF_width = 1 * (kWBFF_bin[1] - kWBFF_bin[0])\n",
    "kWBFF_center = (kWBFF_bin[:-1] + kWBFF_bin[1:]) / 2\n",
    "kWBSB_width = 1 * (kWBSB_bin[1] - kWBSB_bin[0])\n",
    "kWBSB_center = (kWBSB_bin[:-1] + kWBSB_bin[1:]) / 2\n",
    "kFFWB_width = 1 * (kFFWB_bin[1] - kFFWB_bin[0])\n",
    "kFFWB_center = (kFFWB_bin[:-1] + kFFWB_bin[1:]) / 2\n",
    "kUFFF_width = 1 * (kUFFF_bin[1] - kUFFF_bin[0])\n",
    "kUFFF_center = (kUFFF_bin[:-1] + kUFFF_bin[1:]) / 2\n",
    "\n",
    "\n",
    "def func(x, a, c):\n",
    "    return a*np.exp(c*x)\n",
    "    if c*x == 1/0:\n",
    "        pass\n",
    "    \n",
    "\n",
    "figure_kSBWB = plt.figure('kSBWB')\n",
    "SBWB_line = plt.hist(kSBWB, bins = bin_dwell, color = Tcolor, label = 'kSBWB', alpha = 0.3)\n",
    "menStd_SBWB = np.sqrt(kSBWB_hist)\n",
    "plt.errorbar(kSBWB_center, kSBWB_hist, yerr=menStd_SBWB, linewidth=0, ecolor = black, elinewidth=capsize1)\n",
    "start_fret = 2\n",
    "slope_n = start_fret+6\n",
    "slope_SBWB = (kSBWB_hist_ln[start_fret]-kSBWB_hist_ln[slope_n])/(kSBWB_center[start_fret]-kSBWB_center[slope_n])\n",
    "print( slope_SBWB, \"slope\")\n",
    "intercept_SBWB = np.exp(np.log(kSBWB_hist[start_fret])-slope_SBWB*exposure_time)\n",
    "print( intercept_SBWB, \"intercept adjusted SBWB\")\n",
    "kSBWBy = func(kSBWB_center[start_fret:],intercept_SBWB, slope_SBWB)\n",
    "popt_SBWB, pcov_SBWB = scipy.optimize.curve_fit(func, kSBWB_center[start_fret:], kSBWBy)\n",
    "exp_SBWB = func(kSBWB_center[start_fret:],popt_SBWB[0],popt_SBWB[1])\n",
    "label_SBWB =  \"kSBWB=\", '%s' % float('%.4g' %-popt_SBWB[1]),  \"$\\t{s^{-1}}$\", round(1000*(-popt_SBWB[1])**(-1),0), \"ms\"\n",
    "plt.plot(kSBWB_center[start_fret:], exp_SBWB,'-',color =Tcolor,alpha = alpha2, linewidth=2)#, xlim=([minf-0.1, maxf+0.1]))\n",
    "plt.legend([label_SBWB])#FFWB_line,WBSB_line,WBFF_line, SBWB_line),\n",
    "plt.ylim(0,30)\n",
    "plt.xlim(0,3)\n",
    "\n",
    "start_fret = 1\n",
    "slope_n = start_fret+10\n",
    "figure_kWBFF = plt.figure('kWBFF')\n",
    "WBFF_line = plt.hist(kWBFF, bins = bin_dwell, color = FFcolor, label = 'kWBFF', alpha = 0.3)\n",
    "menStd_WBFF = np.sqrt(kWBFF_hist)\n",
    "plt.errorbar(kWBFF_center, kWBFF_hist, yerr=menStd_WBFF, \n",
    "         linewidth=0, ecolor = black, elinewidth=capsize1,\n",
    "         alpha = alpha2)\n",
    "slope_WBFF = (kWBFF_hist_ln[start_fret]-kWBFF_hist_ln[slope_n])/(kWBFF_center[start_fret]-kWBFF_center[slope_n])\n",
    "print( slope_WBFF, \"slope\", np.log(kWBFF_hist[start_fret]), \"intercept\")\n",
    "intercept_WBFF = np.exp(np.log(kWBFF_hist[start_fret])-slope_WBFF*exposure_time)\n",
    "print( intercept_WBFF, \"intercept adjusted WBFF\")\n",
    "kWBFFy = func(kWBFF_center[start_fret:],intercept_WBFF, slope_WBFF)\n",
    "popt_WBFF, pcov_WBFF = scipy.optimize.curve_fit(func, kWBFF_center[start_fret:], kWBFFy)\n",
    "exp_WBFF = func(kWBFF_center[start_fret:],popt_WBFF[0],popt_WBFF[1])\n",
    "label_WBFF =  \"kWBFF=\", '%s' % float('%.4g' %-popt_WBFF[1]),  \"$\\t{s^{-1}}$\", round(1000*(-popt_WBFF[1])**(-1),0), \"ms\"\n",
    "plt.plot(kWBFF_center[start_fret:], exp_WBFF,'-',color =FFcolor,alpha = alpha2, linewidth=2)#, xlim=([minf-0.1, maxf+0.1]))\n",
    "plt.legend([label_WBFF])#FFWB_line,WBSB_line,WBFF_line, SBWB_line),\n",
    "plt.ylim(0,30)\n",
    "plt.xlim(0,3)\n",
    "\n",
    "start_fret = 2\n",
    "slope_n = start_fret+6\n",
    "figure_kWBSB = plt.figure('kWBSB')\n",
    "WBSB_line = plt.hist(kWBSB, bins = bin_dwell, color = SBcolor, label = 'kWBSB', alpha = 0.3)\n",
    "menStd_WBSB = np.sqrt(kWBSB_hist)\n",
    "plt.errorbar(kWBSB_center, kWBSB_hist, yerr=menStd_WBSB, linewidth=0, ecolor = black, elinewidth=capsize1)\n",
    "slope_WBSB = (kWBSB_hist_ln[start_fret]-kWBSB_hist_ln[slope_n])/(kWBSB_center[start_fret]-kWBSB_center[slope_n])\n",
    "print( slope_WBSB, \"slope\", np.log(kWBSB_hist[start_fret]), \"intercept\")\n",
    "intercept_WBSB = np.exp(np.log(kWBSB_hist[start_fret])-slope_WBSB*exposure_time)\n",
    "print( intercept_WBSB, \"intercept adjusted WBSB\")\n",
    "kWBSBy = func(kWBSB_center[start_fret:],intercept_WBSB, slope_WBSB)\n",
    "popt_WBSB, pcov_WBSB = scipy.optimize.curve_fit(func, kWBSB_center[start_fret:], kWBSBy)\n",
    "exp_WBSB = func(kWBSB_center[start_fret:],popt_WBSB[0],popt_WBSB[1])\n",
    "label_WBSB =  \"kWBSB=\", '%s' % float('%.4g' %-popt_WBSB[1]),  \"$\\t{s^{-1}}$\", round(1000*(-popt_WBSB[1])**(-1),0), \"ms\"\n",
    "plt.plot(kWBSB_center[start_fret:], exp_WBSB,'-',color =SBcolor,alpha = alpha2, linewidth=2)#, xlim=([minf-0.1, maxf+0.1]))\n",
    "plt.legend([label_WBSB])#FFWB_line,WBSB_line,WBFF_line, SBWB_line),\n",
    "plt.ylim(0,30)\n",
    "plt.xlim(0,3)\n",
    "\n",
    "figure_kFFWB = plt.figure('kFFWB')\n",
    "FFWB_line = plt.hist(kFFWB, bins = bin_dwell, color = WBcolor, label = 'kFFWB', alpha = 0.3)\n",
    "menStd_FFWB = np.sqrt(kFFWB_hist)\n",
    "plt.errorbar(kFFWB_center, kFFWB_hist, yerr=menStd_FFWB, \n",
    "         linewidth=0, ecolor = black, elinewidth=capsize1,\n",
    "         alpha = alpha2)\n",
    "start_fret = 2\n",
    "slope_n = start_fret+5\n",
    "slope_FFWB = (kFFWB_hist_ln[start_fret]-kFFWB_hist_ln[slope_n])/(kFFWB_center[start_fret]-kFFWB_center[slope_n])\n",
    "print( slope_FFWB, \"slope\", np.log(kFFWB_hist[start_fret]), \"intercept\")\n",
    "intercept_FFWB = np.exp(np.log(kFFWB_hist[start_fret])-slope_FFWB*exposure_time)\n",
    "print( intercept_FFWB, \"intercept adjusted FFWB\")\n",
    "kFFWBy = func(kFFWB_center[start_fret:],intercept_FFWB, slope_FFWB)\n",
    "popt_FFWB, pcov_FFWB = scipy.optimize.curve_fit(func, kFFWB_center[start_fret:], kFFWBy)\n",
    "exp_FFWB = func(kFFWB_center[start_fret:],popt_FFWB[0],popt_FFWB[1])\n",
    "label_FFWB =  \"kFFWB=\", '%s' % float('%.4g' %-popt_FFWB[1]),  \"$\\t{s^{-1}}$\", round(1000*(-popt_FFWB[1])**(-1),0), \"ms\"\n",
    "plt.plot(kFFWB_center[start_fret:], exp_FFWB,'-',color =WBcolor,alpha = alpha2, linewidth=2)#, xlim=([minf-0.1, maxf+0.1]))\n",
    "plt.legend([label_FFWB])#FFWB_line,WBSB_line,WBFF_line, SBWB_line),\n",
    "plt.ylim(0,30)\n",
    "plt.xlim(0,3)\n",
    "\n",
    "\n",
    "\n",
    "#plt.legend((SBWB_line, WBFF_line))\n",
    "#plt.annotate(str(np.mean(kSBWB)), str(np.mean(kWBSB)), [1.5, 140])\n",
    "print( len(kUFFF), len(kFFWB), len(kWBFF), len(kWBSB), len(kSBWB))\n",
    "\n",
    "#label_UFFF =  \"kUFFF=\", '%s' % float('%.4g' %-popt_UFFF[1]),  \"$\\t{s^{-1}}$\", round(1000*(-popt_UFFF[1])**(-1),0), \"ms\"\n",
    "\n",
    "print( label_FFWB)\n",
    "print( label_WBSB)\n",
    "print( label_WBFF)\n",
    "print( label_SBWB)\n",
    "\n",
    "plt.figure()\n",
    "def func_ln(x, a, c):\n",
    "    return a+c*x\n",
    "    if c*x == 1/0:\n",
    "        pass\n",
    "\n",
    "SBWB_line = plt.plot(kSBWB_center[start_fret:], kSBWB_hist_ln[start_fret:], \"o\", color = Tcolor, label = 'kSBWB')\n",
    "WBFF_line = plt.plot(kWBFF_center[start_fret:], kWBFF_hist_ln[start_fret:], \"o\", color = FFcolor, label = 'kWBFF')\n",
    "WBSB_line = plt.plot(kWBSB_center[start_fret:], kWBSB_hist_ln[start_fret:], \"o\", color = SBcolor, label = 'kWBSB')\n",
    "FFWB_line = plt.plot(kFFWB_center[start_fret:], kFFWB_hist_ln[start_fret:], \"o\", color = WBcolor, label = 'kFFWB')\n",
    "UFFF_line = plt.plot(kUFFF_center[start_fret:], kUFFF_hist_ln[start_fret:], \"o\", color = Tcolor, label = 'kUFFF')\n",
    "\n",
    "plt.ylim(0)\n",
    "plt.xlim(0,2)\n",
    "\n",
    "\n",
    "slope_UFFF = (kUFFF_hist_ln[start_fret]-kUFFF_hist_ln[slope_n])/(kUFFF_center[start_fret]-kUFFF_center[slope_n])\n",
    "print( slope_UFFF, \"slope\", np.log(kUFFF_hist[start_fret]), \"intercept\")\n",
    "intercept_UFFF = kUFFF_hist_ln[start_fret]-(slope_UFFF*exposure_time)\n",
    "print( intercept_UFFF, \"intercept adjusted FFWB\")\n",
    "try:\n",
    "    kUFFFy = func_ln(kUFFF_center[start_fret:],intercept_UFFF, slope_UFFF)\n",
    "    popt_UFFF, pcov_UFFF = scipy.optimize.curve_fit(func_ln, kUFFF_center[start_fret:], kUFFFy)\n",
    "    exp_UFFF = func_ln(kUFFF_center[start_fret:],popt_UFFF[0],popt_UFFF[1])\n",
    "    plt.plot(kUFFF_center[start_fret:], exp_UFFF,'-',color =WBcolor,alpha = alpha2, linewidth=2)#, xlim=([minf-0.1, maxf+0.1]))\n",
    "except:\n",
    "    pass\n",
    "start_fret = 2\n",
    "slope_n = start_fret+5\n",
    "slope_FFWB = (kFFWB_hist_ln[start_fret]-kFFWB_hist_ln[slope_n])/(kFFWB_center[start_fret]-kFFWB_center[slope_n])\n",
    "print( slope_FFWB, \"slope\", np.log(kFFWB_hist[start_fret]), \"intercept\")\n",
    "intercept_FFWB = kFFWB_hist_ln[start_fret]-(slope_FFWB*exposure_time)\n",
    "print( intercept_FFWB, \"intercept adjusted FFWB\")\n",
    "kFFWBy = func_ln(kFFWB_center[start_fret:],intercept_FFWB, slope_FFWB)\n",
    "popt_FFWB, pcov_FFWB = scipy.optimize.curve_fit(func_ln, kFFWB_center[start_fret:], kFFWBy)\n",
    "exp_FFWB = func_ln(kFFWB_center[start_fret:],popt_FFWB[0],popt_FFWB[1])\n",
    "plt.plot(kFFWB_center[start_fret:], exp_FFWB,'-',color =WBcolor,alpha = alpha2, linewidth=2)#, xlim=([minf-0.1, maxf+0.1]))\n",
    "\n",
    "start_fret = 2\n",
    "slope_n = start_fret+6\n",
    "slope_WBSB = (kWBSB_hist_ln[start_fret]-kWBSB_hist_ln[slope_n])/(kWBSB_center[start_fret]-kWBSB_center[slope_n])\n",
    "print( slope_WBSB, \"slope\", np.log(kWBSB_hist[start_fret]), \"intercept\")\n",
    "intercept_WBSB = kWBSB_hist_ln[start_fret]-(slope_WBSB*exposure_time)\n",
    "print( intercept_WBSB, \"intercept adjusted WBSB\")\n",
    "kWBSBy = func_ln(kWBSB_center[start_fret:],intercept_WBSB, slope_WBSB)\n",
    "popt_WBSB, pcov_WBSB = scipy.optimize.curve_fit(func_ln, kWBSB_center[start_fret:], kWBSBy)\n",
    "exp_WBSB = func_ln(kWBSB_center[start_fret:],popt_WBSB[0],popt_WBSB[1])\n",
    "plt.plot(kWBSB_center[start_fret:], exp_WBSB,'-',color =SBcolor,alpha = alpha2, linewidth=2)#, xlim=([minf-0.1, maxf+0.1]))\n",
    "\n",
    "start_fret = 1\n",
    "slope_n = start_fret+10\n",
    "slope_WBFF = (kWBFF_hist_ln[start_fret]-kWBFF_hist_ln[slope_n])/(kWBFF_center[start_fret]-kWBFF_center[slope_n])\n",
    "print( slope_WBFF, \"slope\", np.log(kWBFF_hist[start_fret]), \"intercept\")\n",
    "intercept_WBFF = kWBFF_hist_ln[start_fret]-(slope_WBFF*exposure_time)\n",
    "print( intercept_WBFF, \"intercept adjusted WBFF\")\n",
    "kWBFFy = func_ln(kWBFF_center[start_fret:],intercept_WBFF, slope_WBFF)\n",
    "popt_WBFF, pcov_WBFF = scipy.optimize.curve_fit(func_ln, kWBFF_center[start_fret:], kWBFFy)\n",
    "exp_WBFF = func_ln(kWBFF_center[start_fret:],popt_WBFF[0],popt_WBFF[1])\n",
    "plt.plot(kWBFF_center[start_fret:], exp_WBFF,'-',color =FFcolor,alpha = alpha2, linewidth=2)#, xlim=([minf-0.1, maxf+0.1]))\n",
    "\n",
    "start_fret = 2\n",
    "slope_n = start_fret+6\n",
    "slope_SBWB = (kSBWB_hist_ln[start_fret]-kSBWB_hist_ln[slope_n])/(kSBWB_center[start_fret]-kSBWB_center[slope_n])\n",
    "print( slope_SBWB, \"slope\")\n",
    "intercept_SBWB = kSBWB_hist_ln[start_fret]-(slope_SBWB*exposure_time)\n",
    "print( intercept_SBWB, \"intercept adjusted SBWB\")\n",
    "kSBWBy = func_ln(kSBWB_center[start_fret:],intercept_SBWB, slope_SBWB)\n",
    "popt_SBWB, pcov_SBWB = scipy.optimize.curve_fit(func_ln, kSBWB_center[start_fret:], kSBWBy)\n",
    "exp_SBWB = func_ln(kSBWB_center[start_fret:],popt_SBWB[0],popt_SBWB[1])\n",
    "plt.plot(kSBWB_center[start_fret:], exp_SBWB,'-',color =Tcolor,alpha = alpha2, linewidth=2)#, xlim=([minf-0.1, maxf+0.1]))\n",
    "\n",
    "import matplotlib as mpl\n",
    "mpl.rcParams['svg.fonttype'] = 'none'\n",
    "\n",
    "#plt.figure()\n",
    "#plt.plot(kSBWB, kSBWB_force)"
   ]
  },
  {
   "cell_type": "code",
   "execution_count": 406,
   "metadata": {
    "collapsed": false
   },
   "outputs": [
    {
     "name": "stdout",
     "output_type": "stream",
     "text": [
      "[4, 5, 6, 7] [592.6657199078592, 567.9239541413084, 287.11849646388276, 489.1403233877729]\n"
     ]
    }
   ],
   "source": [
    "#n_values = []\n",
    "#chi2 = []\n",
    "#n_values.pop(-1)\n",
    "#chi2.pop(-1)\n",
    "n_values.append((n_states))\n",
    "chi2.append((float(chisq_value)))\n",
    "\n",
    "print(n_values, chi2)"
   ]
  },
  {
   "cell_type": "code",
   "execution_count": 407,
   "metadata": {
    "collapsed": false
   },
   "outputs": [],
   "source": [
    "def exp_decay(t, A, k,c):\n",
    "    return A*np.exp(-k*t)+ c\n",
    "    "
   ]
  },
  {
   "cell_type": "code",
   "execution_count": 408,
   "metadata": {
    "collapsed": false
   },
   "outputs": [
    {
     "name": "stdout",
     "output_type": "stream",
     "text": [
      "[4, 5, 6, 7] [ 592.66571991  567.92395414  287.11849646  489.14032339]\n",
      "[4, 5, 6, 7] 6187.51250411 0.841418115695 393.542655835\n",
      "[607.25180295402038, 485.67240027991852, 433.25967275208848, 410.66461185784937]\n"
     ]
    },
    {
     "data": {
      "text/plain": [
       "<matplotlib.text.Annotation at 0x97ca530>"
      ]
     },
     "execution_count": 408,
     "metadata": {},
     "output_type": "execute_result"
    }
   ],
   "source": [
    "plt.close('all')\n",
    "plt.figure(\"Chi squared for \"+str(refoldtime)+ \" seconds\")\n",
    "plt.scatter(n_values, chi2)\n",
    "print(n_values,np.array(chi2))\n",
    "popt, pcov = scipy.optimize.curve_fit(exp_decay, n_values, chi2, p0=(105, 1, 11))\n",
    "print(n_values, *popt)\n",
    "#popt = [50, 0.5]\n",
    "y_fit = []\n",
    "for i in n_values:\n",
    "    y_fit.append(exp_decay(i,*popt))\n",
    "    \n",
    "print(y_fit)\n",
    "plt.plot(n_values,y_fit)\n",
    "plt.annotate(\"y = \"+str(np.round(popt[0],2))+\" * e^(-\" +str(np.round(popt[1],2))+\" * t) + \" + str(np.round(popt[2],2)),(4,25))"
   ]
  },
  {
   "cell_type": "code",
   "execution_count": 434,
   "metadata": {
    "collapsed": false
   },
   "outputs": [],
   "source": [
    "np.save(\"chi squared for \" + str(refoldtime) + \" seconds\"+\".npy\", [n_values,chi2, popt])"
   ]
  },
  {
   "cell_type": "code",
   "execution_count": 61,
   "metadata": {
    "collapsed": false,
    "scrolled": true
   },
   "outputs": [
    {
     "name": "stdout",
     "output_type": "stream",
     "text": [
      "['2014.09.03_WT2at_200pM_s1m5_refold_0.5s_1.fret', '2014.09.03_WT2at_200pM_s1m5_refold_0.5s_2.fret', '2014.09.03_WT2at_200pM_s1m5_refold_0.5s_3.fret', '2014.09.03_WT2at_200pM_s1m5_refold_0.5s_4.fret', '2014.09.03_WT2at_200pM_s1m5_refold_0.5s_5.fret', '2014.09.03_WT2at_200pM_s1m5_refold_0.5s_6.fret', '2014.09.15_WT2at_100pM_s1m3_refold_0.5s_1.fret', '2014.09.15_WT2at_100pM_s1m3_refold_0.5s_2.fret', '2014.09.15_WT2at_100pM_s1m3_refold_0.5s_3.fret', '2014.10.23_WT2at_200pM_s2m2_refold_0.5s_3.fret', '2014.10.23_WT2at_200pM_s2m2_refold_0.5s_4.fret', '2014.10.29_WT2at_200pM_s1m2_refold_0.5s_1.fret', '2014.10.29_WT2at_200pM_s1m5_refold_0.5s_1.fret', '2014.11.03_WT2at_100pM_s2m2_refold_0.5s_1.fret', '2014.11.03_WT2at_100pM_s2m2_refold_0.5s_2.fret', '2014.11.03_WT2at_100pM_s2m2_refold_0.5s_3.fret', '2014.11.03_WT2at_100pM_s2m2_refold_0.5s_4.fret', '2014.11.03_WT2at_100pM_s2m2_refold_0.5s_5.fret', '2014.11.03_WT2at_100pM_s2m2_refold_0.5s_6.fret', '2014.11.04_WT2at_100pM_s1m1_refold_0.5s_1.fret', '2014.11.04_WT2at_100pM_s1m1_refold_0.5s_2.fret', '2014.11.04_WT2at_100pM_s1m1_refold_0.5s_3.fret', '2014.11.04_WT2at_200pM_s2m2_refold_0.5s_1.fret', '2014.11.04_WT2at_200pM_s2m3_refold_0.5s_1.fret', '2014.11.04_WT2at_200pM_s2m3_refold_0.5s_2.fret', '2014.11.04_WT2at_200pM_s2m3_refold_0.5s_3.fret', '2014.11.04_WT2at_200pM_s2m3_refold_0.5s_4.fret', '2014.11.04_WT2at_200pM_s2m4_refold_0.5s_1.fret', '2014.11.10_WT2at_200pM_s1m3_refold_0.5s_1.fret', '2014.11.10_WT2at_200pM_s1m3_refold_0.5s_2.fret', '2014.11.10_WT2at_200pM_s1m3_refold_0.5s_3.fret', '2014.11.10_WT2at_200pM_s1m3_refold_0.5s_4.fret', '2014.11.10_WT2at_200pM_s1m3_refold_0.5s_5.fret', '2014.11.10_WT2at_200pM_s1m7_refold_0.5s_1.fret', '2014.11.11_WT2at_200pM_s1m1_refold_0.5s_1.fret', '2014.11.11_WT2at_200pM_s1m1_refold_0.5s_2.fret', '2014.11.11_WT2at_200pM_s1m2_refold_0.5s_2.fret', '2014.11.11_WT2at_200pM_s1m2_refold_0.5s_3.fret', '2014.11.11_WT2at_200pM_s1m2_refold_0.5s_4.fret', '2014.11.11_WT2at_200pM_s1m2_refold_0.5s_5.fret', '2014.11.11_WT2at_200pM_s1m2_refold_0.5s_6.fret', '2014.11.18_WT2at_200pM_s2m4_refold_0.5s_2.fret', '2014.11.18_WT2at_200pM_s2m4_refold_0.5s_3.fret', '2014.11.18_WT2at_200pM_s2m4_refold_0.5s_4.fret', '2014.11.18_WT2at_200pM_s2m4_refold_0.5s_5 (2).fret', '2014.11.18_WT2at_200pM_s2m4_refold_0.5s_5.fret', '2014.11.18_WT2at_200pM_s2m4_refold_0.5s_6.fret', '2014.11.18_WT2at_200pM_s2m4_refold_0.5s_7.fret', '2014.11.18_WT2at_200pM_s2m4_refold_0.5s_8.fret', '2014.11.18_WT2at_200pM_s2m4_refold_0.5s_9.fret', '2014.11.19_WT2at_200pM_s1m1_refold_0.5s_1.fret', '2014.11.19_WT2at_200pM_s1m1_refold_0.5s_13.fret', '2014.11.19_WT2at_200pM_s1m1_refold_0.5s_3.fret', '2014.11.19_WT2at_200pM_s1m1_refold_0.5s_4.fret', '2014.11.19_WT2at_200pM_s1m1_refold_0.5s_7.fret', '2014.12.10_WT2at_500pM_s1m1_refold_0.5s_2.fret', '2014.12.10_WT2at_500pM_s1m1_refold_0.5s_3.fret', '2014.12.10_WT2at_500pM_s1m1_refold_0.5s_4.fret', '2014.12.10_WT2at_500pM_s1m1_refold_0.5s_5.fret', '2014.12.10_WT2at_500pM_s1m1_refold_0.5s_6.fret', '2014.12.10_WT2at_500pM_s1m1_refold_0.5s_7.fret', '2014.12.10_WT2at_500pM_s1m1_refold_0.5s_8.fret', '2014.12.10_WT2at_500pM_s1m1_refold_0.5s_9.fret', '2014.12.10_WT2at_500pM_s1m2_refold_0.5s_2.fret', '2014.12.15_WT2at_200pM_s1m1_refold_0.5s_1.fret', '2014.12.15_WT2at_200pM_s1m1_refold_0.5s_2.fret', '2014.12.15_WT2at_200pM_s1m1_refold_0.5s_3.fret', '2014.12.15_WT2at_200pM_s1m2_refold_0.5s_2.fret', '2014.12.16_WT2at_1nM_s1m2_refold_0.5s_1.fret', '2014.12.16_WT2at_1nM_s1m2_refold_0.5s_10.fret', '2014.12.16_WT2at_1nM_s1m2_refold_0.5s_11.fret', '2014.12.16_WT2at_1nM_s1m2_refold_0.5s_12.fret', '2014.12.16_WT2at_1nM_s1m2_refold_0.5s_14.fret', '2014.12.16_WT2at_1nM_s1m2_refold_0.5s_21.fret', '2014.12.16_WT2at_1nM_s1m2_refold_0.5s_22.fret', '2014.12.16_WT2at_1nM_s1m2_refold_0.5s_23.fret', '2014.12.16_WT2at_1nM_s1m2_refold_0.5s_25.fret', '2014.12.16_WT2at_1nM_s1m2_refold_0.5s_28.fret', '2014.12.16_WT2at_1nM_s1m2_refold_0.5s_29.fret', '2014.12.16_WT2at_1nM_s1m2_refold_0.5s_30.fret', '2014.12.16_WT2at_1nM_s1m2_refold_0.5s_31.fret', '2014.12.18_WT2at_1nM_s2m1_refold_0.5s_2.fret', '2014.12.18_WT2at_1nM_s2m1_refold_0.5s_3.fret', '2014.12.18_WT2at_1nM_s2m3_refold_0.5s_1.fret', '2014.12.18_WT2at_1nM_s2m3_refold_0.5s_2.fret', '2014.12.18_WT2at_1nM_s2m3_refold_0.5s_3.fret', '2014.12.18_WT2at_1nM_s2m3_refold_0.5s_4.fret', '2014.12.18_WT2at_1nM_s2m3_refold_0.5s_5.fret', '2014.12.18_WT2at_1nM_s2m3_refold_0.5s_6.fret']\n"
     ]
    }
   ],
   "source": [
    "plt.figure()\n",
    "#print(len(Time2),(X2))\n",
    "plt.scatter(np.array(Time2), np.array(X2))\n",
    "plt.ylim(0,1)\n",
    "print(fret_list)"
   ]
  },
  {
   "cell_type": "code",
   "execution_count": 409,
   "metadata": {
    "collapsed": false
   },
   "outputs": [
    {
     "name": "stdout",
     "output_type": "stream",
     "text": [
      "0 0 0 []\n",
      "SB =  nan \n",
      " WB =  nan \n",
      " FF =  nan \n",
      "\n",
      "n_states=7\ttimescales=[array([ 13.86999798,   6.33793545,   3.07756233,   0.54736865], dtype=float32)]\n"
     ]
    },
    {
     "name": "stderr",
     "output_type": "stream",
     "text": [
      "c:\\Users\\vknguyen\\AppData\\Local\\Continuum\\Anaconda3\\lib\\site-packages\\numpy\\core\\_methods.py:59: RuntimeWarning: Mean of empty slice.\n",
      "  warnings.warn(\"Mean of empty slice.\", RuntimeWarning)\n"
     ]
    }
   ],
   "source": [
    "#print (len(X), len(X[0]))\n",
    "#print (model.populations_)#, model.predict(X), model.get_params())\n",
    "predict = model.predict(X)\n",
    "#print(predict)\n",
    "predict_vectors = predict[1][0]\n",
    "predict_vectors= predict_vectors\n",
    "#print(len(predict_vectors), \"love\")\n",
    "P_0 = []\n",
    "P_1 = []\n",
    "P_2 = []\n",
    "P_3 = []\n",
    "p_new = list()\n",
    "p_count = 0\n",
    "for i,p in enumerate(predict_vectors[:-1]):   \n",
    "    if predict_vectors[i] == predict_vectors[i+1] and i !=len(predict_vectors)-2:\n",
    "        p_count += 1\n",
    "        #print(p_count, i)\n",
    "\n",
    "    elif predict_vectors[i] != predict_vectors[i+1] or i ==len(predict_vectors)-2:\n",
    "        if predict_vectors[i] == 0:\n",
    "            p_count += 1\n",
    "            #print(p_count,predict_vectors[i],\"0-teen\")\n",
    "            P_0.append(p_count * float(0.050))\n",
    "                    #break\n",
    "        elif predict_vectors[i] == 1:\n",
    "            p_count += 1\n",
    "            #print(p_count,predict_vectors[i],\"1-teen\")\n",
    "            P_1.append(p_count * float(0.050))\n",
    "                    #break\n",
    "        elif predict_vectors[i] == 2:\n",
    "            p_count += 1\n",
    "            #print(p_count,predict_vectors[i],\"2-teen\")\n",
    "            P_2.append(p_count * float(0.050))\n",
    "                    #break\n",
    "        elif predict_vectors[i]:\n",
    "            #print(p_count, 'love')\n",
    "            break\n",
    "    \n",
    "        p_count = 0\n",
    "\n",
    "            \n",
    "_0 = \"FF\"\n",
    "_1 = \"WB\"\n",
    "_2 = \"SB\"\n",
    "print(len(P_0),len(P_1),len(P_2), P_0)  \n",
    "print(str(_2)+\" = \",np.mean(P_0),\"\\n\",\n",
    "      str(_1)+\" = \",np.mean(P_1),\"\\n\",\n",
    "      str(_0)+\" = \",np.mean(P_2),\"\\n\")\n",
    "        \n",
    "            \n",
    "print('n_states=%d\\ttimescales=%s' % (n_states,  timescales))\n"
   ]
  },
  {
   "cell_type": "code",
   "execution_count": 194,
   "metadata": {
    "collapsed": false
   },
   "outputs": [],
   "source": [
    "#SB_dwell_times = []\n",
    "#WB_dwell_times = []\n",
    "#FF_dwell_times = []"
   ]
  },
  {
   "cell_type": "code",
   "execution_count": 453,
   "metadata": {
    "collapsed": false
   },
   "outputs": [
    {
     "name": "stdout",
     "output_type": "stream",
     "text": [
      "15\n"
     ]
    }
   ],
   "source": [
    "SB_dwell_times.append(np.mean(P_2))\n",
    "WB_dwell_times.append(np.mean(P_1))\n",
    "FF_dwell_times.append(np.mean(P_0))\n",
    "print(len(SB_dwell_times))"
   ]
  },
  {
   "cell_type": "code",
   "execution_count": 454,
   "metadata": {
    "collapsed": false
   },
   "outputs": [
    {
     "name": "stdout",
     "output_type": "stream",
     "text": [
      "0.318060846561 0.238428571429 0.420793650794\n"
     ]
    }
   ],
   "source": [
    "print(np.mean(SB_dwell_times),\n",
    "      np.mean(WB_dwell_times),\n",
    "      np.mean(FF_dwell_times))"
   ]
  },
  {
   "cell_type": "code",
   "execution_count": null,
   "metadata": {
    "collapsed": false
   },
   "outputs": [],
   "source": [
    "plt.hist(SB_dwell_times, bin = 10)\n",
    "\n",
    "\n",
    "#TS = msmbuilder.msm.ContinuousTimeMSM(X)\n",
    "#TS = msmbuilder.msm.implied_timescales()\n",
    "#print(TS.populations_, TS.fit)\n"
   ]
  }
 ],
 "metadata": {
  "kernelspec": {
   "display_name": "Python 3",
   "language": "python",
   "name": "python3"
  },
  "language_info": {
   "codemirror_mode": {
    "name": "ipython",
    "version": 3
   },
   "file_extension": ".py",
   "mimetype": "text/x-python",
   "name": "python",
   "nbconvert_exporter": "python",
   "pygments_lexer": "ipython3",
   "version": "3.4.3"
  }
 },
 "nbformat": 4,
 "nbformat_minor": 0
}
