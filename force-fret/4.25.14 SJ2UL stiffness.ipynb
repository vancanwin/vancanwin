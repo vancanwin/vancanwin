{
 "metadata": {
  "name": "4.25.14 SJ2UL stiffness"
 },
 "nbformat": 3,
 "nbformat_minor": 0,
 "worksheets": [
  {
   "cells": [
    {
     "cell_type": "code",
     "collapsed": false,
     "input": [
      "from smbanalyze import shell\n",
      "reload(shell)\n",
      "from smbanalyze.shell import *"
     ],
     "language": "python",
     "metadata": {},
     "outputs": [],
     "prompt_number": 318
    },
    {
     "cell_type": "code",
     "collapsed": false,
     "input": [
      "from smbanalyze.shell import *\n",
      "\n",
      "PROJECT_DIR = '/Users/cfperez/Documents/FRET/'\n",
      "DATA_DIR = os.path.join(PROJECT_DIR, 'Data/') #'/Volumes/c$/Data/FRET/' #os.path.join(PROJECT_DIR, 'Data/')\n",
      "ANALYSIS_DIR = os.path.join(PROJECT_DIR, 'Analysis/')\n",
      "\n",
      "cdanl = lambda : os.chdir(ANALYSIS_DIR+dir_)\n",
      "cddata = lambda : os.chdir(DATA_DIR+dir_)"
     ],
     "language": "python",
     "metadata": {},
     "outputs": [],
     "prompt_number": 4
    },
    {
     "cell_type": "markdown",
     "metadata": {},
     "source": [
      "Load experiment data\n",
      "------"
     ]
    },
    {
     "cell_type": "code",
     "collapsed": false,
     "input": [
      "dir_ = '2014.04.25'\n",
      "construct = 'SJ2UL'\n",
      "slide_id,mol_id = 1,1\n",
      "\n",
      "mol_name = 's%dm%d' % (slide_id,mol_id)\n",
      "\n",
      "cddata()\n",
      "\n",
      "print \"Loading molecules matching:\", dir_, construct, mol_name\n",
      "fig_name = ' '.join([dir_, construct, mol_name])\n",
      "original = experiment.fromMatch(construct, mol_name, 'refold', 'up') or experiment.fromMatch(construct, mol_name)\n",
      "if not original:\n",
      "    print \"WARNING: Failed to load\"\n",
      "else:\n",
      "    print \"Found %d molecules\" % len(original)\n",
      "\n",
      "#os.mkdir(ANALYSIS_DIR+dir_)\n",
      "#cdanl()"
     ],
     "language": "python",
     "metadata": {},
     "outputs": [
      {
       "output_type": "stream",
       "stream": "stdout",
       "text": [
        "Loading molecules matching: 2014.04.25 SJ2UL s1m1\n",
        "Found 283 molecules"
       ]
      },
      {
       "output_type": "stream",
       "stream": "stdout",
       "text": [
        "\n"
       ]
      }
     ],
     "prompt_number": 7
    },
    {
     "cell_type": "code",
     "collapsed": false,
     "input": [
      "exp.plot()"
     ],
     "language": "python",
     "metadata": {},
     "outputs": [
      {
       "output_type": "pyout",
       "prompt_number": 13,
       "text": [
        "<smbanalyze.fplot.Figure at 0x10ab00910>"
       ]
      }
     ],
     "prompt_number": 13
    },
    {
     "cell_type": "code",
     "collapsed": false,
     "input": [
      "k = 0.275\n",
      "recalc = experiment.List()\n",
      "for p in exp:\n",
      "    x = p.trap.copy()\n",
      "    x.recalculate( (k,5.7*k) )\n",
      "    recalc.append(Pulling(x, None, p.metadata))\n",
      "    \n",
      "recalc.plot()"
     ],
     "language": "python",
     "metadata": {},
     "outputs": [
      {
       "output_type": "pyout",
       "prompt_number": 130,
       "text": [
        "<smbanalyze.fplot.Figure at 0x1119bf190>"
       ]
      }
     ],
     "prompt_number": 130
    },
    {
     "cell_type": "code",
     "collapsed": false,
     "input": [
      "to_align = exp\n",
      "\n",
      "to_align.plot('-', FEC=True, show_fret=False)\n",
      "align_to=pick_pt()\n",
      "\n",
      "align_cutoff,f_cutoff = align_to\n",
      "f_range = (f_cutoff,f_cutoff+1)\n",
      "to_align = to_align.has_value(trap_ext_atleast=align_cutoff)\n",
      "to_align.adjustOffset(force_x_range=(720,800), ext_f_range=f_range, ext_x_range=align_cutoff)\n",
      "\n",
      "to_align.plot(show_fret=False, FEC=True, style='-')\n",
      "if to_align != exp:\n",
      "    print \"Following traces were not aligned:\\n\", exp.filter(lambda p: p not in to_align)"
     ],
     "language": "python",
     "metadata": {},
     "outputs": [],
     "prompt_number": 131
    },
    {
     "cell_type": "code",
     "collapsed": false,
     "input": [
      "recalc.plot(':')\n",
      "exp.plot(':')"
     ],
     "language": "python",
     "metadata": {},
     "outputs": [
      {
       "output_type": "pyout",
       "prompt_number": 132,
       "text": [
        "<smbanalyze.fplot.Figure at 0x1119bf190>"
       ]
      }
     ],
     "prompt_number": 132
    },
    {
     "cell_type": "code",
     "collapsed": false,
     "input": [
      "# collapse some uncorrected data\n",
      "agg = exp[::3].collapse()"
     ],
     "language": "python",
     "metadata": {},
     "outputs": [],
     "prompt_number": 54
    },
    {
     "cell_type": "code",
     "collapsed": false,
     "input": [
      "# collapse some corrected data\n",
      "agg2 = recalc[::3].collapse()"
     ],
     "language": "python",
     "metadata": {},
     "outputs": [],
     "prompt_number": 181
    },
    {
     "cell_type": "code",
     "collapsed": false,
     "input": [
      "# pick fitting regions\n",
      "fplot.fplot(trap=agg, '.')\n",
      "fplot.fplot(trap=agg2, '.')\n",
      "regions = pick_intervals(2)"
     ],
     "language": "python",
     "metadata": {},
     "outputs": [],
     "prompt_number": 68
    },
    {
     "cell_type": "code",
     "collapsed": false,
     "input": [
      "rip,fit = fec.analyze_rips(agg.trap, regions, [1], na_type='ssDNA')\n",
      "print fit\n",
      "print rip"
     ],
     "language": "python",
     "metadata": {},
     "outputs": [
      {
       "output_type": "stream",
       "stream": "stdout",
       "text": [
        "\r",
        "Fitting: [                                                                                ] 1%"
       ]
      },
      {
       "output_type": "stream",
       "stream": "stdout",
       "text": [
        "\r",
        "Fitting: [=                                                                               ] 2%"
       ]
      },
      {
       "output_type": "stream",
       "stream": "stdout",
       "text": [
        "\r",
        "Fitting: [==                                                                              ] 3%"
       ]
      },
      {
       "output_type": "stream",
       "stream": "stdout",
       "text": [
        "\r",
        "Fitting: [==                                                                              ] 3%"
       ]
      },
      {
       "output_type": "stream",
       "stream": "stdout",
       "text": [
        "\r",
        "Fitting: [===                                                                             ] 4%"
       ]
      },
      {
       "output_type": "stream",
       "stream": "stdout",
       "text": [
        "\r",
        "Fitting: [====                                                                            ] 5%"
       ]
      },
      {
       "output_type": "stream",
       "stream": "stdout",
       "text": [
        "\r",
        "Fitting: [====                                                                            ] 6%"
       ]
      },
      {
       "output_type": "stream",
       "stream": "stdout",
       "text": [
        "\r",
        "Fitting: [=====                                                                           ] 7%"
       ]
      },
      {
       "output_type": "stream",
       "stream": "stdout",
       "text": [
        "\r",
        "Fitting: [======                                                                          ] 8%"
       ]
      },
      {
       "output_type": "stream",
       "stream": "stdout",
       "text": [
        "\r",
        "Fitting: [======                                                                          ] 9%"
       ]
      },
      {
       "output_type": "stream",
       "stream": "stdout",
       "text": [
        "\r",
        "Fitting: [=======                                                                         ] 10%"
       ]
      },
      {
       "output_type": "stream",
       "stream": "stdout",
       "text": [
        "\r",
        "Fitting: [========                                                                        ] 10%"
       ]
      },
      {
       "output_type": "stream",
       "stream": "stdout",
       "text": [
        "\r",
        "Fitting: [=========                                                                       ] 11%"
       ]
      },
      {
       "output_type": "stream",
       "stream": "stdout",
       "text": [
        "\r",
        "Fitting: [=========                                                                       ] 12%"
       ]
      },
      {
       "output_type": "stream",
       "stream": "stdout",
       "text": [
        "\r",
        "Fitting: [==========                                                                      ] 13%"
       ]
      },
      {
       "output_type": "stream",
       "stream": "stdout",
       "text": [
        "\r",
        "Fitting: [===========                                                                     ] 14%"
       ]
      },
      {
       "output_type": "stream",
       "stream": "stdout",
       "text": [
        "\r",
        "Fitting: [===========                                                                     ] 15%"
       ]
      },
      {
       "output_type": "stream",
       "stream": "stdout",
       "text": [
        "\r",
        "Fitting: [============                                                                    ] 16%"
       ]
      },
      {
       "output_type": "stream",
       "stream": "stdout",
       "text": [
        "\r",
        "Fitting: [=============                                                                   ] 17%"
       ]
      },
      {
       "output_type": "stream",
       "stream": "stdout",
       "text": [
        "\r",
        "Fitting: [=============                                                                   ] 17%"
       ]
      },
      {
       "output_type": "stream",
       "stream": "stdout",
       "text": [
        "\r",
        "Fitting: [==============                                                                  ] 18%"
       ]
      },
      {
       "output_type": "stream",
       "stream": "stdout",
       "text": [
        "\r",
        "Fitting: [===============                                                                 ] 19%"
       ]
      },
      {
       "output_type": "stream",
       "stream": "stdout",
       "text": [
        "\r",
        "Fitting: [================                                                                ] 20%"
       ]
      },
      {
       "output_type": "stream",
       "stream": "stdout",
       "text": [
        "\r",
        "Fitting: [================                                                                ] 21%"
       ]
      },
      {
       "output_type": "stream",
       "stream": "stdout",
       "text": [
        "\r",
        "Fitting: [================================================================================] Done!\n"
       ]
      },
      {
       "output_type": "stream",
       "stream": "stdout",
       "text": [
        "MMS_rip_region fit: Lp=22.95\u00b10.03 Lc=1042.34\u00b10.08 F0=-0.41\u00b10.00 Lc1=25.34\u00b10.01\n",
        "Rips: 47.1\u00b10.0 nt (25.34 nm)\n",
        "Total: 47.1\u00b10.0 nt (25.34 nm)\n"
       ]
      }
     ],
     "prompt_number": 78
    },
    {
     "cell_type": "code",
     "collapsed": false,
     "input": [
      "rip2,fit2 = fec.analyze_rips(agg2.trap, regions, [1], na_type='ssDNA')\n",
      "print fit2\n",
      "print rip2"
     ],
     "language": "python",
     "metadata": {},
     "outputs": [
      {
       "output_type": "stream",
       "stream": "stdout",
       "text": [
        "\r",
        "Fitting: [                                                                                ] 1%"
       ]
      },
      {
       "output_type": "stream",
       "stream": "stdout",
       "text": [
        "\r",
        "Fitting: [=                                                                               ] 2%"
       ]
      },
      {
       "output_type": "stream",
       "stream": "stdout",
       "text": [
        "\r",
        "Fitting: [==                                                                              ] 3%"
       ]
      },
      {
       "output_type": "stream",
       "stream": "stdout",
       "text": [
        "\r",
        "Fitting: [==                                                                              ] 3%"
       ]
      },
      {
       "output_type": "stream",
       "stream": "stdout",
       "text": [
        "\r",
        "Fitting: [===                                                                             ] 4%"
       ]
      },
      {
       "output_type": "stream",
       "stream": "stdout",
       "text": [
        "\r",
        "Fitting: [====                                                                            ] 5%"
       ]
      },
      {
       "output_type": "stream",
       "stream": "stdout",
       "text": [
        "\r",
        "Fitting: [====                                                                            ] 6%"
       ]
      },
      {
       "output_type": "stream",
       "stream": "stdout",
       "text": [
        "\r",
        "Fitting: [=====                                                                           ] 7%"
       ]
      },
      {
       "output_type": "stream",
       "stream": "stdout",
       "text": [
        "\r",
        "Fitting: [======                                                                          ] 8%"
       ]
      },
      {
       "output_type": "stream",
       "stream": "stdout",
       "text": [
        "\r",
        "Fitting: [======                                                                          ] 9%"
       ]
      },
      {
       "output_type": "stream",
       "stream": "stdout",
       "text": [
        "\r",
        "Fitting: [=======                                                                         ] 10%"
       ]
      },
      {
       "output_type": "stream",
       "stream": "stdout",
       "text": [
        "\r",
        "Fitting: [========                                                                        ] 10%"
       ]
      },
      {
       "output_type": "stream",
       "stream": "stdout",
       "text": [
        "\r",
        "Fitting: [=========                                                                       ] 11%"
       ]
      },
      {
       "output_type": "stream",
       "stream": "stdout",
       "text": [
        "\r",
        "Fitting: [=========                                                                       ] 12%"
       ]
      },
      {
       "output_type": "stream",
       "stream": "stdout",
       "text": [
        "\r",
        "Fitting: [==========                                                                      ] 13%"
       ]
      },
      {
       "output_type": "stream",
       "stream": "stdout",
       "text": [
        "\r",
        "Fitting: [===========                                                                     ] 14%"
       ]
      },
      {
       "output_type": "stream",
       "stream": "stdout",
       "text": [
        "\r",
        "Fitting: [===========                                                                     ] 15%"
       ]
      },
      {
       "output_type": "stream",
       "stream": "stdout",
       "text": [
        "\r",
        "Fitting: [============                                                                    ] 16%"
       ]
      },
      {
       "output_type": "stream",
       "stream": "stdout",
       "text": [
        "\r",
        "Fitting: [=============                                                                   ] 17%"
       ]
      },
      {
       "output_type": "stream",
       "stream": "stdout",
       "text": [
        "\r",
        "Fitting: [=============                                                                   ] 17%"
       ]
      },
      {
       "output_type": "stream",
       "stream": "stdout",
       "text": [
        "\r",
        "Fitting: [==============                                                                  ] 18%"
       ]
      },
      {
       "output_type": "stream",
       "stream": "stdout",
       "text": [
        "\r",
        "Fitting: [===============                                                                 ] 19%"
       ]
      },
      {
       "output_type": "stream",
       "stream": "stdout",
       "text": [
        "\r",
        "Fitting: [================                                                                ] 20%"
       ]
      },
      {
       "output_type": "stream",
       "stream": "stdout",
       "text": [
        "\r",
        "Fitting: [================                                                                ] 21%"
       ]
      },
      {
       "output_type": "stream",
       "stream": "stdout",
       "text": [
        "\r",
        "Fitting: [================================================================================] Done!\n"
       ]
      },
      {
       "output_type": "stream",
       "stream": "stdout",
       "text": [
        "MMS_rip_region fit: Lp=24.95\u00b10.04 Lc=1043.88\u00b10.08 F0=-0.35\u00b10.00 Lc1=26.14\u00b10.02\n",
        "Rips: 48.5\u00b10.0 nt (26.14 nm)\n",
        "Total: 48.5\u00b10.0 nt (26.14 nm)\n"
       ]
      }
     ],
     "prompt_number": 247
    },
    {
     "cell_type": "code",
     "collapsed": false,
     "input": [
      "light_blue = '#8ac7e6'\n",
      "pink = '#f27474'\n",
      "pinkL = '#f29d9d'\n",
      "blue = '#17a0e6'\n",
      "red = '#d92b2b'"
     ],
     "language": "python",
     "metadata": {},
     "outputs": [],
     "prompt_number": 259
    },
    {
     "cell_type": "code",
     "collapsed": false,
     "input": [
      "fig('SJ2UL at two stiffnesses')\n",
      "fplot.fplot(trap=agg.trap, style='.', color='#8ac7e6')\n",
      "fplot.fplot(trap=agg2.trap, style='.', color=pinkL)\n",
      "ylim(0,20)\n",
      "xlim(xmax=1035)\n",
      "\n",
      "fit.plot('.', color=blue)\n",
      "fit2.plot('.', color=red)\n",
      "\n",
      "arrow = dict(facecolor='k', shrink=.05)\n",
      "annotate(u'k = 0.31 pN/nm: '+ unicode(fit)[20:], xy=(984,10.7), xytext=(720,12), arrowprops=arrow, color='k', fontsize=14)\n",
      "annotate(u'k = 0.275 pN/nm: '+ unicode(fit2)[20:], xy=(983,9), arrowprops=arrow, xytext=(720, 10), color='k', fontsize=14)\n",
      "\n",
      "for reg in regions:\n",
      "    axvspan(reg.start, reg.end, alpha=.2, color='y')"
     ],
     "language": "python",
     "metadata": {},
     "outputs": [
      {
       "output_type": "pyout",
       "prompt_number": 286,
       "text": [
        "<matplotlib.text.Annotation at 0x111235e50>"
       ]
      }
     ],
     "prompt_number": 286
    },
    {
     "cell_type": "code",
     "collapsed": false,
     "input": [
      "import operator as op\n",
      "\n",
      "def rip_hist(mol, ext_cutoff, **histopt):\n",
      "    rip = np.array(map(lambda p: fec.findrips(p.trap, ext_cutoff), mol))\n",
      "    histopt.setdefault('bins', 30)\n",
      "    hist(rip[:,1], **histopt)\n",
      "    return rip\n",
      "\n",
      "fig('SJ2UL rip forces (4/25/14)')\n",
      "rip_exp = rip_hist(exp, 980, color='#8ac7e6', label='k = 0.31')\n",
      "rip_recalc = rip_hist(recalc, 980, color='#f27474', label='k = %g'%k)\n",
      "legend()\n",
      "\n",
      "label_txt = lambda m,s: u'{m:.1f} \u00b1 {s:.1f} pN'.format(m=m, s=s)\n",
      "annotate(label_txt( mean(rip_recalc[:,1]), std(rip_recalc[:,1]) ), (9.2,25), fontsize=20)\n",
      "annotate(label_txt( mean(rip_exp[:,1]), std(rip_exp[:,1]) ), (12.3,25), fontsize=20)"
     ],
     "language": "python",
     "metadata": {},
     "outputs": [
      {
       "output_type": "pyout",
       "prompt_number": 177,
       "text": [
        "<matplotlib.text.Annotation at 0x111ad8d50>"
       ]
      }
     ],
     "prompt_number": 177
    }
   ],
   "metadata": {}
  }
 ]
}