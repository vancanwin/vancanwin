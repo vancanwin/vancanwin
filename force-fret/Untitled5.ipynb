{
 "metadata": {
  "name": "",
  "signature": "sha256:1e0ba2c3345ee4bf84c85decb666362af770304c450c53b2f2b3faea075b1ce7"
 },
 "nbformat": 3,
 "nbformat_minor": 0,
 "worksheets": [
  {
   "cells": [
    {
     "cell_type": "code",
     "collapsed": false,
     "input": [
      "import pymol\n",
      "pymol.finish_launching()"
     ],
     "language": "python",
     "metadata": {},
     "outputs": []
    }
   ],
   "metadata": {}
  }
 ]
}