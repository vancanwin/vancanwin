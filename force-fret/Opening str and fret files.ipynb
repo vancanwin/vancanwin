{
 "cells": [
  {
   "cell_type": "code",
   "execution_count": 60,
   "metadata": {
    "collapsed": false
   },
   "outputs": [
    {
     "name": "stdout",
     "output_type": "stream",
     "text": [
      "Using matplotlib backend: Qt4Agg\n"
     ]
    }
   ],
   "source": [
    "import pandas as pd\n",
    "import mdtraj, os, cython, msmbuilder, math, scipy\n",
    "import matplotlib as mpl\n",
    "from mdtraj.utils import timing\n",
    "import numpy as np\n",
    "from scipy import stats\n",
    "from scipy.spatial.distance import cdist\n",
    "from scipy.cluster.vq import *\n",
    "from scipy.cluster.vq import kmeans, vq\n",
    "from scipy.spatial.distance import cdist\n",
    "import matplotlib.pyplot as plt\n",
    "from mpl_toolkits.axes_grid1 import make_axes_locatable\n",
    "from mpl_toolkits.mplot3d import Axes3D\n",
    "import glob\n",
    "import datetime \n",
    "%matplotlib\n",
    "direname = os.chdir('C://Users//vknguyen//Desktop//Python//SJ6aTm//2013.03.14//')"
   ]
  },
  {
   "cell_type": "code",
   "execution_count": 61,
   "metadata": {
    "collapsed": true
   },
   "outputs": [],
   "source": [
    "fontsize = 36\n",
    "fontsize2 = 32\n",
    "linewidth1 = 4\n",
    "linewidth2 = 10\n",
    "linewidth3 = 5\n",
    "linewidth4 = 20\n",
    "linewidth5 = 3\n",
    "font1 = 'arial'\n",
    "\n",
    "alpha = 0.9\n",
    "alpha2 = 0.7\n",
    "alpha3 = 0.5\n",
    "circle = 500\n",
    "circle2 = 1000 \n",
    "ticklength = 20\n",
    "tickwidth = 1\n",
    "SBcolor = '#1874cd'\n",
    "WBcolor = '#6dc066'\n",
    "FFcolor = '#885ead'\n",
    "SBcolordark = '#003891'\n",
    "WBcolordark = '#22741B'\n",
    "FFcolordark = '#3E1760'\n",
    "grey = '#cccccc'\n",
    "black = '#000000'\n",
    "noTPPcolor = '#EEC900'\n",
    "Tcolor = '#ff4444'\n",
    "fretlim_max = 1.0\n",
    "fretlim_min = 0\n"
   ]
  },
  {
   "cell_type": "code",
   "execution_count": 73,
   "metadata": {
    "collapsed": false
   },
   "outputs": [
    {
     "name": "stdout",
     "output_type": "stream",
     "text": [
      "Using matplotlib backend: Qt4Agg\n",
      "0\n",
      "18\n"
     ]
    }
   ],
   "source": [
    "binwidth = 0.005\n",
    "bin = np.arange(fretlim_min,fretlim_max,binwidth)\n",
    "\n",
    "from msmbuilder.example_datasets import load_doublewell\n",
    "import msmbuilder.cluster\n",
    "from msmbuilder.cluster import NDGrid\n",
    "from msmbuilder.msm import BayesianMarkovStateModel, MarkovStateModel\n",
    "from msmbuilder.featurizer import SuperposeFeaturizer\n",
    "from msmbuilder.hmm.ghmm import GaussianFusionHMM\n",
    "from msmbuilder.dataset import dataset\n",
    "import msmbuilder.hmm\n",
    "\n",
    "%matplotlib\n",
    "pulls_list = os.listdir(direname)\n",
    "fret_list = []\n",
    "pull_list = []\n",
    "#refoldtime = 3.0\n",
    "for p in pulls_list:\n",
    "    if \"SJ6aTm_200pm_s2m3\": #in p and \"refold\" in p and \"up\" not in p and datetime.datetime.strptime(p[:10], \"%Y.%m.%d\") < datetime.datetime(2014, 12, 20, 0, 0):#and str(refoldtime) in p\n",
    "    #if \"WT2at\" in p and \"refold\" in p and str(refoldtime) in p and \"up\" not in p and datetime.datetime.strptime(p[:10], \"%Y.%m.%d\") < datetime.datetime(2014, 12, 20, 0, 0):\n",
    "        if \".fret\" in p:\n",
    "            fret_list.append(p)\n",
    "        if \".str\" in p:\n",
    "            pull_list.append(p)\n",
    "\n",
    "print(len(fret_list))\n",
    "pull_list.sort\n",
    "fret_list.sort\n",
    "n_features = 1\n",
    "\n",
    "n_states = 5\n",
    "\n",
    "plt.close('all')\n",
    "timescales = []\n",
    "# Get a list of all filenames to process\n",
    "filenames = fret_list#glob.glob(\"./*.fret\")\n",
    "ext = []\n",
    "f = []\n",
    "\n",
    "FRET_list = []  # List that will contain all fret traces\n",
    "FRET_time_list = []\n",
    "FRET_list2 = []\n",
    "FRET_time_list2 = []\n",
    "x_length_list = []\n",
    "x_exptime_list = []\n",
    "b=7\n",
    "for filename in fret_list[2:5]:\n",
    "        dataset = pd.read_table(filename, comment=\"#\")  # Read file with pandas reader    \n",
    "        FRET_values = dataset[\"FRET\"]  # Grab column of FRET values\n",
    "        FRET_values = FRET.values  # Convert from pandas series to numpy array   \n",
    "        FRET_values = FRET_values[:, np.newaxis]  # Convert from 1D array to 2D array of shape (traj_len, 1)\n",
    "        FRET_time = dataset[\"time\"]  # Grab column of FRET values\n",
    "        FRET_time = FRET_time.values  # Convert from pandas series to numpy array   \n",
    "        FRET_time = FRET_time[:, np.newaxis]  # Convert from 1D array to 2D array of shape (traj_len, 1)\n",
    "        FRET_length = len(FRET_values)\n",
    "        x_exptime_list = FRET_time[0]\n",
    "        x_length_list.append(FRET_length)\n",
    "        FRET_list.append(FRET_values)  # Add to dataset\n",
    "        FRET_list2.extend(FRET_values)\n",
    "        FRET_time_list.append(FRET_time)  # Add to dataset\n",
    "        FRET_time_list2.extend(FRET_time)\n",
    "print(len(pull_list))\n",
    "Extension_list = []  # List that will contain all fret traces\n",
    "Force_list = []\n",
    "Extension_list2 = []\n",
    "Force_list2 = []     \n",
    "for filename in pull_list[2:5]:\n",
    "        dataset = pd.read_table(filename, comment = '#')  # Read file with pandas reader    \n",
    "        Extension = dataset[\"Extension\"]  # Grab column of FRET values\n",
    "        Extension = Extension.values  # Convert from pandas series to numpy array   \n",
    "        Extension = Extension[:, np.newaxis]  # Convert from 1D array to 2D array of shape (traj_len, 1)\n",
    "        Force = dataset[\"Force\"]  # Grab column of FRET values\n",
    "        Force = Force.values  # Convert from pandas series to numpy array   \n",
    "        Force = Force[:, np.newaxis]  # Convert from 1D array to 2D array of shape (traj_len, 1)\n",
    "        Extension_length = len(Extension)\n",
    "        x_exptime_list = Force[0]\n",
    "        x_length_list.append(Extension_length)\n",
    "        Extension_list.append(Extension)  # Add to dataset\n",
    "        Extension_list2.extend(Extension)\n",
    "        Force_list.append(Force)  # Add to dataset\n",
    "        Force_list2.extend(Force)"
   ]
  },
  {
   "cell_type": "code",
   "execution_count": 75,
   "metadata": {
    "collapsed": false
   },
   "outputs": [],
   "source": [
    "plt.clf()\n",
    "plt.plot(Extension_list[0], Force_list[0], '.b')\n",
    "plt.plot(Extension_list[1], Force_list[1], '.g')\n",
    "plt.plot(Extension_list[2], Force_list[2], '.r')\n",
    "\n",
    "plt.xlim(750, 1060)\n",
    "plt.ylim(-1,21)\n",
    "mpl.rcParams['svg.fonttype'] = 'none'"
   ]
  },
  {
   "cell_type": "code",
   "execution_count": 76,
   "metadata": {
    "collapsed": false
   },
   "outputs": [
    {
     "ename": "IndexError",
     "evalue": "list index out of range",
     "output_type": "error",
     "traceback": [
      "\u001b[1;31m---------------------------------------------------------------------------\u001b[0m",
      "\u001b[1;31mIndexError\u001b[0m                                Traceback (most recent call last)",
      "\u001b[1;32m<ipython-input-76-faba3758f38d>\u001b[0m in \u001b[0;36m<module>\u001b[1;34m()\u001b[0m\n\u001b[0;32m      1\u001b[0m \u001b[0mplt\u001b[0m\u001b[1;33m.\u001b[0m\u001b[0mclf\u001b[0m\u001b[1;33m(\u001b[0m\u001b[1;33m)\u001b[0m\u001b[1;33m\u001b[0m\u001b[0m\n\u001b[1;32m----> 2\u001b[1;33m \u001b[0mplt\u001b[0m\u001b[1;33m.\u001b[0m\u001b[0mplot\u001b[0m\u001b[1;33m(\u001b[0m\u001b[0mFRET_time_list\u001b[0m\u001b[1;33m[\u001b[0m\u001b[1;36m0\u001b[0m\u001b[1;33m]\u001b[0m\u001b[1;33m,\u001b[0m \u001b[0mFRET_list\u001b[0m\u001b[1;33m[\u001b[0m\u001b[1;36m0\u001b[0m\u001b[1;33m]\u001b[0m\u001b[1;33m,\u001b[0m \u001b[1;34m'.b'\u001b[0m\u001b[1;33m)\u001b[0m\u001b[1;33m\u001b[0m\u001b[0m\n\u001b[0m\u001b[0;32m      3\u001b[0m \u001b[0mplt\u001b[0m\u001b[1;33m.\u001b[0m\u001b[0mplot\u001b[0m\u001b[1;33m(\u001b[0m\u001b[0mFRET_time_list\u001b[0m\u001b[1;33m[\u001b[0m\u001b[1;36m1\u001b[0m\u001b[1;33m]\u001b[0m\u001b[1;33m,\u001b[0m \u001b[0mFRET_list\u001b[0m\u001b[1;33m[\u001b[0m\u001b[1;36m1\u001b[0m\u001b[1;33m]\u001b[0m\u001b[1;33m,\u001b[0m \u001b[1;34m'.g'\u001b[0m\u001b[1;33m)\u001b[0m\u001b[1;33m\u001b[0m\u001b[0m\n\u001b[0;32m      4\u001b[0m \u001b[0mplt\u001b[0m\u001b[1;33m.\u001b[0m\u001b[0mplot\u001b[0m\u001b[1;33m(\u001b[0m\u001b[0mFRET_time_list\u001b[0m\u001b[1;33m[\u001b[0m\u001b[1;36m2\u001b[0m\u001b[1;33m]\u001b[0m\u001b[1;33m,\u001b[0m \u001b[0mFRET_list\u001b[0m\u001b[1;33m[\u001b[0m\u001b[1;36m2\u001b[0m\u001b[1;33m]\u001b[0m\u001b[1;33m,\u001b[0m \u001b[1;34m'.r'\u001b[0m\u001b[1;33m)\u001b[0m\u001b[1;33m\u001b[0m\u001b[0m\n\u001b[0;32m      5\u001b[0m \u001b[1;33m\u001b[0m\u001b[0m\n",
      "\u001b[1;31mIndexError\u001b[0m: list index out of range"
     ]
    }
   ],
   "source": [
    "plt.clf()\n",
    "plt.plot(FRET_time_list[0], FRET_list[0], '.b')\n",
    "plt.plot(FRET_time_list[1], FRET_list[1], '.g')\n",
    "plt.plot(FRET_time_list[2], FRET_list[2], '.r')\n",
    "\n",
    "plt.ylim(-0.1,1.1)\n",
    "mpl.rcParams['svg.fonttype'] = 'none'"
   ]
  }
 ],
 "metadata": {
  "kernelspec": {
   "display_name": "Python 3",
   "language": "python",
   "name": "python3"
  },
  "language_info": {
   "codemirror_mode": {
    "name": "ipython",
    "version": 3
   },
   "file_extension": ".py",
   "mimetype": "text/x-python",
   "name": "python",
   "nbconvert_exporter": "python",
   "pygments_lexer": "ipython3",
   "version": "3.4.3"
  }
 },
 "nbformat": 4,
 "nbformat_minor": 0
}
