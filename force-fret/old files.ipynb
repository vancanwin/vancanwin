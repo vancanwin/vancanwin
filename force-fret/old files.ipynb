{
 "cells": [
  {
   "cell_type": "code",
   "execution_count": 26,
   "metadata": {
    "collapsed": false
   },
   "outputs": [
    {
     "name": "stdout",
     "output_type": "stream",
     "text": [
      "Using matplotlib backend: Qt4Agg\n",
      ".\n"
     ]
    }
   ],
   "source": [
    "import os, scipy\n",
    "import pandas as pd\n",
    "import numpy as np\n",
    "import csv\n",
    "import matplotlib as mpl\n",
    "%matplotlib \n",
    "direname = \"C://Users//vknguyen//Desktop//Python//Old calibration//\"\n",
    "filename = \"Photon Count_3wTm\"\n",
    "direpath = os.listdir(str(direname))\n",
    "print(os.curdir)\n",
    "#file = open(filename+\".xlsx\")\n",
    "csvReader_data = csv.reader(filename+\".xlsx\")\n",
    "\n",
    "\n"
   ]
  }
 ],
 "metadata": {
  "kernelspec": {
   "display_name": "Python 3",
   "language": "python",
   "name": "python3"
  },
  "language_info": {
   "codemirror_mode": {
    "name": "ipython",
    "version": 3
   },
   "file_extension": ".py",
   "mimetype": "text/x-python",
   "name": "python",
   "nbconvert_exporter": "python",
   "pygments_lexer": "ipython3",
   "version": "3.4.3"
  }
 },
 "nbformat": 4,
 "nbformat_minor": 0
}
