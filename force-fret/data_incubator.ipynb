{
 "metadata": {
  "name": "",
  "signature": "sha256:ebb440ab4022b6bfccc737f453be7699ab548aefe36a5508f1eae23bcc6f1aa3"
 },
 "nbformat": 3,
 "nbformat_minor": 0,
 "worksheets": [
  {
   "cells": [
    {
     "cell_type": "code",
     "collapsed": false,
     "input": [
      "import numpy as np\n",
      "import random\n",
      "d_1,d_6, n1, max_n = 1,6, 10000,100\n",
      "dice_set_random = []\n",
      "sum_minus_M = []\n",
      "x if x>0 else (\"zero\" if x==0 else \"invalid value\")\n",
      "while len(sum_minus_M) < max_n:    \n",
      "    if np.sum(dice_set_random) < n1:\n",
      "        dice_set_random.append(random.randint(d_1,d_6))\n",
      "    elif np.sum(dice_set_random) >= n1:\n",
      "        sum_minus_M.append(np.sum(dice_set_random)-n1)\n",
      "        dice_set_random = []\n",
      "        pass    \n",
      "\n",
      "print len(sum_minus_M), np.mean(sum_minus_M), np.std(sum_minus_M)"
     ],
     "language": "python",
     "metadata": {},
     "outputs": [
      {
       "output_type": "stream",
       "stream": "stdout",
       "text": [
        "100 1.67 1.37153199015\n"
       ]
      }
     ],
     "prompt_number": 468
    },
    {
     "cell_type": "code",
     "collapsed": false,
     "input": [
      "import numpy as np\n",
      "import random\n",
      "d_1,d_6, max_n = 1,6,100\n",
      "dice_set_random = []\n",
      "sum_minus_M = []\n",
      "dice_set_random_all = []\n",
      "\n",
      "def mean_sum_minus_M(max_n, n1):  \n",
      "    dice_set_random = []\n",
      "    sum_minus_M = []\n",
      "    while len(sum_minus_M) < max_n:    \n",
      "        if np.sum(dice_set_random) < n1:\n",
      "            dice_set_random.append(random.randint(d_1,d_6))\n",
      "        elif np.sum(dice_set_random) >= n1:\n",
      "            sum_minus_M.append(np.sum(dice_set_random)-n1)\n",
      "            dice_set_random_all = dice_set_random\n",
      "            dice_set_random = []\n",
      "            pass \n",
      "    return len(sum_minus_M), np.round(np.mean(sum_minus_M),decimals = 2), np.round(np.std(sum_minus_M), decimals = 2), np.round(np.mean(dice_set_random_all),decimals = 2),np.round(np.std(dice_set_random_all),decimals = 2) \n"
     ],
     "language": "python",
     "metadata": {},
     "outputs": [],
     "prompt_number": 3
    },
    {
     "cell_type": "code",
     "collapsed": false,
     "input": [
      "mean_sum_minus_M(100,10000)\n"
     ],
     "language": "python",
     "metadata": {},
     "outputs": [
      {
       "metadata": {},
       "output_type": "pyout",
       "prompt_number": 5,
       "text": [
        "(100, 1.6599999999999999, 1.3799999999999999, 3.4900000000000002, 1.73)"
       ]
      }
     ],
     "prompt_number": 5
    },
    {
     "cell_type": "code",
     "collapsed": false,
     "input": [
      "import os, csv, itertools\n",
      "import numpy as np\n",
      "\n",
      "home_dir = \"C://Users//Van//Desktop//Python//data_incubator//\"\n",
      "os.chdir(str(home_dir))\n",
      "file_data = open('trip_data_3_short.csv')  \n",
      "file_fare = open('trip_fare_3_short.csv')  \n",
      "\n",
      "csvReader_data = csv.reader(file_data)\n",
      "csvReader_fare = csv.reader(file_fare)\n",
      "#headers = csvReader2[0]\n",
      "#print headers\n",
      "payments_under_5 = []\n",
      "payments_over_50 = []\n",
      "\n",
      "count=0\n",
      "\n",
      "header_fare = np.array(csvReader_fare.next())\n",
      "matching_fare = [[s,i] for i,s in enumerate(header_fare) if \"fare\" in s]\n",
      "\n",
      "header_data = np.array(csvReader_data.next())\n",
      "matching_data_time = [[s_time, i_time] for i_time,s_time in enumerate(header_data) if \"trip_time_in_secs\" in s_time]\n",
      "matching_data_distance = [[s_distance, i_distance] for i_distance,s_distance in enumerate(header_data) if \"trip_distance\" in s_distance]\n",
      "matching_data_date = [[s_date, i_date] for i_date,s_date in enumerate(header_fare) if \"date\" in s_date]\n",
      "matching_fare_tip = [[s_tip, i_tip] for i_tip,s_tip in enumerate(header_fare) if \"tip_amount\" in s_tip]\n",
      "matching_data_dropoff_long = [[s_dropoff_long, i_dropoff_long] for i_dropoff_long,s_dropoff_long in enumerate(header_data) if \"trip_distance\" in s_dropoff_long]\n",
      "matching_data_dropoff_lat = [[s_dropoff_lat , i_dropoff_lat ] for i_dropoff_lat ,s_dropoff_lat  in enumerate(header_data) if \"trip_distance\" in s_dropoff_lat ]\n",
      "\n",
      "print header_data\n",
      "print header_fare\n",
      "print matching_fare\n",
      "print matching_data_time\n",
      "print matching_data_distance\n",
      "print matching_data_dropoff_long\n",
      "print matching_data_dropoff_lat\n",
      "print matching_fare_tip\n"
     ],
     "language": "python",
     "metadata": {},
     "outputs": [
      {
       "output_type": "stream",
       "stream": "stdout",
       "text": [
        "['medallion' ' hack_license' ' vendor_id' ' rate_code'\n",
        " ' store_and_fwd_flag' ' pickup_datetime' ' dropoff_datetime'\n",
        " ' passenger_count' ' trip_time_in_secs' ' trip_distance'\n",
        " ' pickup_longitude' ' pickup_latitude' ' dropoff_longitude'\n",
        " ' dropoff_latitude']\n",
        "['medallion' ' hack_license' ' vendor_id' ' pickup_datetime'\n",
        " ' payment_type' ' fare_amount' ' surcharge' ' mta_tax' ' tip_amount'\n",
        " ' tolls_amount' ' total_amount']\n",
        "[[' fare_amount', 5]]\n",
        "[[' trip_time_in_secs', 8]]\n",
        "[[' trip_distance', 9]]\n",
        "[[' trip_distance', 9]]\n",
        "[[' trip_distance', 9]]\n",
        "[[' tip_amount', 8]]\n"
       ]
      }
     ],
     "prompt_number": 67
    },
    {
     "cell_type": "code",
     "collapsed": false,
     "input": [
      "for row in csvReader_fare:\n",
      "    count +=1\n",
      "    if float(row[i]) < 5.0:\n",
      "        payments_under_5.append(row[i])\n",
      "    elif float(row[i]) > 50.0:\n",
      "        payments_over_50.append(row[i])\n",
      "\n",
      "print len(payments_under_5),  count, np.divide(float(len(payments_under_5)),count)\n",
      "print len(payments_over_50),  count, np.divide(float(len(payments_over_50)),count)"
     ],
     "language": "python",
     "metadata": {},
     "outputs": [
      {
       "output_type": "stream",
       "stream": "stdout",
       "text": [
        "0 49 0.0\n",
        "7 49 0.142857142857\n"
       ]
      }
     ],
     "prompt_number": 64
    },
    {
     "cell_type": "code",
     "collapsed": false,
     "input": [
      "#make an array of fare, time, distance\n",
      "fare_time_list = []\n",
      "fare_distance_list = []\n",
      "mph_list = []\n",
      "for row_fare in csvReader_fare:\n",
      "    row_data = csvReader_data.next()\n",
      "    try:\n",
      "        if float(row_data[i_time]) > 0:\n",
      "            cost_time = np.divide(float(row_fare[i]),float(row_data[i_time])/60)\n",
      "            mph = np.divide(float(row_data[i_distance]),float(row_data[i_time]))\n",
      "        if float(row_date[i_distance]) > 0:\n",
      "            taxi_fare_per_mile = np.divide(float(row_fare[i]),float(row_data[i_distance]))\n",
      "\n",
      "    except:\n",
      "        pass\n",
      "    fare_time_list.append(cost_time)\n",
      "    fare_distance_list.append(taxi_fare_per_mile)\n",
      "    mph_list.append(mph)                    \n"
     ],
     "language": "python",
     "metadata": {},
     "outputs": [],
     "prompt_number": 68
    },
    {
     "cell_type": "code",
     "collapsed": false,
     "input": [
      "mph_list, np.mean(mph_list)"
     ],
     "language": "python",
     "metadata": {},
     "outputs": [
      {
       "metadata": {},
       "output_type": "pyout",
       "prompt_number": 69,
       "text": [
        "([1.0,\n",
        "  1.0,\n",
        "  1.0,\n",
        "  1.0,\n",
        "  1.0,\n",
        "  1.0,\n",
        "  1.0,\n",
        "  1.0,\n",
        "  1.0,\n",
        "  1.0,\n",
        "  1.0,\n",
        "  1.0,\n",
        "  1.0,\n",
        "  1.0,\n",
        "  1.0,\n",
        "  1.0,\n",
        "  1.0,\n",
        "  1.0,\n",
        "  1.0,\n",
        "  1.0,\n",
        "  1.0,\n",
        "  1.0,\n",
        "  1.0,\n",
        "  1.0,\n",
        "  1.0,\n",
        "  1.0,\n",
        "  1.0,\n",
        "  1.0,\n",
        "  1.0,\n",
        "  1.0,\n",
        "  1.0,\n",
        "  1.0,\n",
        "  1.0,\n",
        "  1.0,\n",
        "  1.0,\n",
        "  1.0,\n",
        "  1.0,\n",
        "  1.0,\n",
        "  1.0,\n",
        "  1.0,\n",
        "  1.0,\n",
        "  1.0,\n",
        "  1.0,\n",
        "  1.0,\n",
        "  1.0,\n",
        "  1.0,\n",
        "  1.0,\n",
        "  1.0,\n",
        "  1.0],\n",
        " 1.0)"
       ]
      }
     ],
     "prompt_number": 69
    },
    {
     "cell_type": "code",
     "collapsed": false,
     "input": [
      "new_list = []\n",
      "for fare in fare_time_list:\n",
      "    if fare < 10000000000:#np.mean(fare_time_list)#, np.mean(fare_distance_list)#, np.median(fare_distance_list)\n",
      "        new_list.append(fare)\n",
      "np.mean(new_list)"
     ],
     "language": "python",
     "metadata": {},
     "outputs": [
      {
       "metadata": {},
       "output_type": "pyout",
       "prompt_number": 23,
       "text": [
        "21.613614377895995"
       ]
      }
     ],
     "prompt_number": 23
    },
    {
     "cell_type": "code",
     "collapsed": false,
     "input": [
      "def haversine(lon1, lat1, lon2, lat2):\n",
      "    \"\"\"\n",
      "    Calculate the great circle distance between two points \n",
      "    on the earth (specified in decimal degrees).\n",
      "    Source: http://gis.stackexchange.com/a/56589/15183\n",
      "    \"\"\"\n",
      "    # convert decimal degrees to radians \n",
      "    lon1, lat1, lon2, lat2 = map(math.radians, [lon1, lat1, lon2, lat2])\n",
      "    # haversine formula \n",
      "    dlon = lon2 - lon1 \n",
      "    dlat = lat2 - lat1 \n",
      "    a = math.sin(dlat/2)**2 + math.cos(lat1) * math.cos(lat2) * math.sin(dlon/2)**2\n",
      "    c = 2 * math.asin(math.sqrt(a)) \n",
      "    mi = 6367 * c/1.6\n",
      "    return mi"
     ],
     "language": "python",
     "metadata": {},
     "outputs": [],
     "prompt_number": 28
    },
    {
     "cell_type": "code",
     "collapsed": false,
     "input": [
      "tip_list = []\n",
      "if row[i_dropoff_long] == 40.6397 and row[i_dropoff_long] ==  -73.7789 in csvReader_data:\n",
      "    row_data_tip = csvReader_fare.next()\n",
      "    tip_list.append(row_data_tip[i_tip])\n"
     ],
     "language": "python",
     "metadata": {},
     "outputs": []
    }
   ],
   "metadata": {}
  }
 ]
}