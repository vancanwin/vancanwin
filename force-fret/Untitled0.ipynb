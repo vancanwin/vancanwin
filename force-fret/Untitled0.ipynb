{
 "metadata": {
  "name": "",
  "signature": "sha256:8d7a33f202203de6c84a0d5cc2f9b082ece1871251384de8f97cd1708bcf8599"
 },
 "nbformat": 3,
 "nbformat_minor": 0,
 "worksheets": [
  {
   "cells": [
    {
     "cell_type": "code",
     "collapsed": false,
     "input": [
      "import numpy as np\n",
      "import random\n",
      "d_1,d_6, n1, max_n = 1,6, 10000,100\n",
      "dice_set_random = []\n",
      "sum_minus_M = []\n",
      "x if x>0 else (\"zero\" if x==0 else \"invalid value\")\n",
      "while len(sum_minus_M) < max_n:    \n",
      "    if np.sum(dice_set_random) < n1:\n",
      "        dice_set_random.append(random.randint(d_1,d_6))\n",
      "    elif np.sum(dice_set_random) >= n1:\n",
      "        sum_minus_M.append(np.sum(dice_set_random)-n1)\n",
      "        dice_set_random = []\n",
      "        pass    \n",
      "\n",
      "print len(sum_minus_M), np.mean(sum_minus_M), np.std(sum_minus_M)"
     ],
     "language": "python",
     "metadata": {},
     "outputs": [
      {
       "output_type": "stream",
       "stream": "stdout",
       "text": [
        "100 1.67 1.37153199015\n"
       ]
      }
     ],
     "prompt_number": 468
    },
    {
     "cell_type": "code",
     "collapsed": false,
     "input": [
      "import numpy as np\n",
      "import random\n",
      "d_1,d_6, max_n = 1,6,100\n",
      "dice_set_random = []\n",
      "sum_minus_M = []\n",
      "dice_set_random_all = []\n",
      "\n",
      "def mean_sum_minus_M(max_n, n1):  \n",
      "    dice_set_random = []\n",
      "    sum_minus_M = []\n",
      "    while len(sum_minus_M) < max_n:    \n",
      "        if np.sum(dice_set_random) < n1:\n",
      "            dice_set_random.append(random.randint(d_1,d_6))\n",
      "        elif np.sum(dice_set_random) >= n1:\n",
      "            sum_minus_M.append(np.sum(dice_set_random)-n1)\n",
      "            dice_set_random_all = dice_set_random\n",
      "            dice_set_random = []\n",
      "            pass \n",
      "    return len(sum_minus_M), np.round(np.mean(sum_minus_M),decimals = 2), np.round(np.std(sum_minus_M), decimals = 2), np.round(np.mean(dice_set_random_all),decimals = 2),np.round(np.std(dice_set_random_all),decimals = 2) \n"
     ],
     "language": "python",
     "metadata": {},
     "outputs": [],
     "prompt_number": 523
    },
    {
     "cell_type": "code",
     "collapsed": false,
     "input": [
      "mean_sum_minus_M(100,20)\n"
     ],
     "language": "python",
     "metadata": {},
     "outputs": [
      {
       "metadata": {},
       "output_type": "pyout",
       "prompt_number": 524,
       "text": [
        "(100, 1.79, 1.6399999999999999, 3.3300000000000001, 1.25)"
       ]
      }
     ],
     "prompt_number": 524
    },
    {
     "cell_type": "code",
     "collapsed": false,
     "input": [
      "import os, csv, itertools\n",
      "import numpy as np\n",
      "\n",
      "home_dir = \"C://Users//Van//Desktop//Python//data_incubator//\"\n",
      "os.chdir(str(home_dir))\n",
      "#file_data = open('trip_data_3.csv', 'r')  \n",
      "#file_fare = open('trip_fare_3.csv', 'r')  \n",
      "\n",
      "#csvReader1 = csv.reader(file_data)\n",
      "#csvReader2 = csv.reader(file_fare)\n",
      "\n",
      "for row in csv.reader(file_fare):\n",
      "    header = row[0]\n",
      "    print header\n"
     ],
     "language": "python",
     "metadata": {},
     "outputs": []
    }
   ],
   "metadata": {}
  }
 ]
}