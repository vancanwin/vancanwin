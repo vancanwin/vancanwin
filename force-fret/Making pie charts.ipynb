{
 "cells": [
  {
   "cell_type": "code",
   "execution_count": 71,
   "metadata": {
    "collapsed": false
   },
   "outputs": [
    {
     "name": "stdout",
     "output_type": "stream",
     "text": [
      "Using matplotlib backend: Qt4Agg\n"
     ]
    }
   ],
   "source": [
    "%matplotlib\n",
    "import os, scipy, pandas\n",
    "import numpy as np\n",
    "import matplotlib as mpl\n",
    "import matplotlib.pyplot as plt"
   ]
  },
  {
   "cell_type": "code",
   "execution_count": 75,
   "metadata": {
    "collapsed": false
   },
   "outputs": [],
   "source": [
    "plt.close('all')\n",
    "labels = 'Biology', 'Language', 'Optics', 'Computer'\n",
    "sizes = [35, 15, 25, 25]\n",
    "colors = [\"#00ccff\", '#ff80b2', '#ffcc00', '#37c837']\n",
    "plt.pie(sizes, labels=labels, colors=colors,labeldistance=0.6, startangle=-35)\n",
    "plt.axis('equal')\n",
    "plt.show()\n",
    "mpl.rcParams['svg.fonttype'] = 'none'"
   ]
  },
  {
   "cell_type": "code",
   "execution_count": 73,
   "metadata": {
    "collapsed": true
   },
   "outputs": [],
   "source": [
    "labels = 'Animal ', 'Spanish','Vietnamese', 'Optics', 'Computer'\n",
    "sizes = [35, 15, sizes[1]*75, sizes[1]*25, 25]\n",
    "colors = [\"#00ccff\", '#ff80b2', '#ffcc00', '#37c837']\n",
    "plt.pie(sizes, labels=labels, colors=colors,labeldistance=0.6, startangle=-35)\n",
    "plt.axis('equal')\n",
    "plt.show()\n",
    "mpl.rcParams['svg.fonttype'] = 'none'"
   ]
  },
  {
   "cell_type": "code",
   "execution_count": null,
   "metadata": {
    "collapsed": true
   },
   "outputs": [],
   "source": [
    "#jablonski diagram\n"
   ]
  }
 ],
 "metadata": {
  "kernelspec": {
   "display_name": "Python 3",
   "language": "python",
   "name": "python3"
  },
  "language_info": {
   "codemirror_mode": {
    "name": "ipython",
    "version": 3
   },
   "file_extension": ".py",
   "mimetype": "text/x-python",
   "name": "python",
   "nbconvert_exporter": "python",
   "pygments_lexer": "ipython3",
   "version": "3.4.3"
  }
 },
 "nbformat": 4,
 "nbformat_minor": 0
}
