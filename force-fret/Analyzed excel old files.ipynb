{
 "cells": [
  {
   "cell_type": "code",
   "execution_count": 2,
   "metadata": {
    "collapsed": false
   },
   "outputs": [
    {
     "name": "stdout",
     "output_type": "stream",
     "text": [
      "Using matplotlib backend: Qt4Agg\n"
     ]
    }
   ],
   "source": [
    "import pandas as pd\n",
    "import os, scipy\n",
    "import numpy as np\n",
    "import matplotlib.pyplot as plt\n",
    "\n",
    "direname = \"C://Users//vknguyen//Desktop//Python//\"\n",
    "date = \"2011.08.02//\"\n",
    "os.chdir(str(direname))#+str(date))\n",
    "%matplotlib"
   ]
  },
  {
   "cell_type": "code",
   "execution_count": 4,
   "metadata": {
    "collapsed": false
   },
   "outputs": [
    {
     "name": "stdout",
     "output_type": "stream",
     "text": [
      "Photon Count_3wTm.xlsx\n"
     ]
    }
   ],
   "source": [
    "filename = \"Photon Count_3wTm\"\n",
    "#sheet = \"120710_s2m3\"\n",
    "sheet= \"Sheet1\"\n",
    "#filename1 = 'image.sif'\n",
    "print(str(filename)+\".xlsx\")\n",
    "xls = pd.ExcelFile(str(filename)+\".xlsx\")\n",
    "data = xls.parse(str(sheet), index_col=None, na_values=['NA'])\n",
    "data = pd.read_excel(str(filename)+'.xlsx', str(sheet), index_col=None, na_values=['NA'])\n"
   ]
  },
  {
   "cell_type": "code",
   "execution_count": 154,
   "metadata": {
    "collapsed": false,
    "scrolled": true
   },
   "outputs": [
    {
     "name": "stdout",
     "output_type": "stream",
     "text": [
      "Unnamed: 13    6980.544\n",
      "Unnamed: 14    6836.531\n",
      "Unnamed: 15    6426.231\n",
      "Unnamed: 16    6567.526\n",
      "Unnamed: 17    6692.518\n",
      "Unnamed: 18    6518.616\n",
      "Unnamed: 19    6532.202\n",
      "Unnamed: 20    6331.128\n",
      "Unnamed: 21    5534.982\n",
      "Unnamed: 22    1872.166\n",
      "Unnamed: 23    1883.035\n",
      "Unnamed: 24    1817.822\n",
      "Unnamed: 25    1720.002\n",
      "Unnamed: 26    1578.706\n",
      "Unnamed: 27      1467.3\n",
      "Unnamed: 28    1537.948\n",
      "Unnamed: 29    1850.428\n",
      "Unnamed: 30    1450.997\n",
      "Unnamed: 31    1616.747\n",
      "Name: 46, dtype: object\n"
     ]
    }
   ],
   "source": [
    "plt.close('all')\n",
    "plt.figure('Donor only')\n",
    "n1 = 80\n",
    "data_counts = [data.T[13:100][n1-8],data.T[13:100][n1], data.T[13:100][n1+4]]\n",
    "data_time = np.arange(0,len(data_counts[0])*0.5,0.5)\n",
    "n = 46\n",
    "data_counts_2 = [data.T[13:32][n],data.T[13:32][n+2],data.T[13:32][n+4],data.T[13:32][n+6]]\n",
    "print(data_counts_2[0])\n",
    "data_time_2 = np.arange(0,len(data_counts_2[0])*0.5,0.5)\n",
    "#print(len(data_time), len(data_counts), data_counts_2)\n",
    "\n",
    "#plt.plot(data.T[0][1:], data.T[1][1:])\n",
    "#plt.plot(data.T[0][1:], data.T[4][1:])\n",
    "plt.plot(data_time, data_counts[0],\"-r\",data_time, data_counts[1],\"-r\")\n",
    "plt.plot(data_time_2, data_counts_2[0],\"b\",data_time_2, data_counts_2[2],\"b\",data_time_2, data_counts_2[3],\"b\")\n",
    "\n",
    "\n",
    "label1  = str(data.T[1][0])\n",
    "label2  = str(data.T[2][0])\n",
    "plt.ylim(0)\n",
    "import matplotlib as mpl\n",
    "mpl.rcParams['svg.fonttype'] = 'none'\n"
   ]
  }
 ],
 "metadata": {
  "kernelspec": {
   "display_name": "Python 3",
   "language": "python",
   "name": "python3"
  },
  "language_info": {
   "codemirror_mode": {
    "name": "ipython",
    "version": 3
   },
   "file_extension": ".py",
   "mimetype": "text/x-python",
   "name": "python",
   "nbconvert_exporter": "python",
   "pygments_lexer": "ipython3",
   "version": "3.4.3"
  }
 },
 "nbformat": 4,
 "nbformat_minor": 0
}
