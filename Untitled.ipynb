{
 "cells": [
  {
   "cell_type": "code",
   "execution_count": 1,
   "id": "ec12cd43-1549-4386-bc69-4acf549d8c14",
   "metadata": {},
   "outputs": [
    {
     "name": "stderr",
     "output_type": "stream",
     "text": [
      "<>:32: SyntaxWarning: list indices must be integers or slices, not str; perhaps you missed a comma?\n",
      "<>:32: SyntaxWarning: list indices must be integers or slices, not str; perhaps you missed a comma?\n",
      "C:\\Users\\vandu\\AppData\\Local\\Temp\\ipykernel_15588\\1563147516.py:32: SyntaxWarning: list indices must be integers or slices, not str; perhaps you missed a comma?\n",
      "  invoiceId = json.loads(['response_data']['id'])\n",
      "C:\\Users\\vandu\\AppData\\Local\\Temp\\ipykernel_15588\\1563147516.py:32: SyntaxWarning: list indices must be integers or slices, not str; perhaps you missed a comma?\n",
      "  invoiceId = json.loads(['response_data']['id'])\n",
      "C:\\Users\\vandu\\AppData\\Local\\Temp\\ipykernel_15588\\1563147516.py:32: SyntaxWarning: list indices must be integers or slices, not str; perhaps you missed a comma?\n",
      "  invoiceId = json.loads(['response_data']['id'])\n"
     ]
    },
    {
     "ename": "TypeError",
     "evalue": "list indices must be integers or slices, not str",
     "output_type": "error",
     "traceback": [
      "\u001b[1;31m---------------------------------------------------------------------------\u001b[0m",
      "\u001b[1;31mTypeError\u001b[0m                                 Traceback (most recent call last)",
      "Cell \u001b[1;32mIn [1], line 32\u001b[0m\n\u001b[0;32m     12\u001b[0m createinvoice_data \u001b[38;5;241m=\u001b[39m {\n\u001b[0;32m     13\u001b[0m \u001b[38;5;124m\"\u001b[39m\u001b[38;5;124msessionId\u001b[39m\u001b[38;5;124m\"\u001b[39m: \u001b[38;5;124m\"\u001b[39m\u001b[38;5;132;01m{session_id}\u001b[39;00m\u001b[38;5;124m\"\u001b[39m,\n\u001b[0;32m     14\u001b[0m \u001b[38;5;124m\"\u001b[39m\u001b[38;5;124mdevKey\u001b[39m\u001b[38;5;124m\"\u001b[39m: \u001b[38;5;124m\"\u001b[39m\u001b[38;5;132;01m{developer_key}\u001b[39;00m\u001b[38;5;124m\"\u001b[39m,\n\u001b[1;32m   (...)\u001b[0m\n\u001b[0;32m     27\u001b[0m \u001b[38;5;124m}\u001b[39m\u001b[38;5;124m'''\u001b[39m\n\u001b[0;32m     28\u001b[0m }\n\u001b[0;32m     30\u001b[0m createinvoice_response \u001b[38;5;241m=\u001b[39m requests\u001b[38;5;241m.\u001b[39mpost(createinvoice_url, headers\u001b[38;5;241m=\u001b[39mheaders, json\u001b[38;5;241m=\u001b[39mcreateinvoice_data)\n\u001b[1;32m---> 32\u001b[0m invoiceId \u001b[38;5;241m=\u001b[39m json\u001b[38;5;241m.\u001b[39mloads(\u001b[43m[\u001b[49m\u001b[38;5;124;43m'\u001b[39;49m\u001b[38;5;124;43mresponse_data\u001b[39;49m\u001b[38;5;124;43m'\u001b[39;49m\u001b[43m]\u001b[49m\u001b[43m[\u001b[49m\u001b[38;5;124;43m'\u001b[39;49m\u001b[38;5;124;43mid\u001b[39;49m\u001b[38;5;124;43m'\u001b[39;49m\u001b[43m]\u001b[49m)\n\u001b[0;32m     34\u001b[0m \u001b[38;5;66;03m##send invoice\u001b[39;00m\n\u001b[0;32m     35\u001b[0m sendinvoice_url \u001b[38;5;241m=\u001b[39m \u001b[38;5;124m\"\u001b[39m\u001b[38;5;124mhttps://api-sandbox.bill.com/api/v2/SendInvoice.json\u001b[39m\u001b[38;5;124m\"\u001b[39m\n",
      "\u001b[1;31mTypeError\u001b[0m: list indices must be integers or slices, not str"
     ]
    }
   ],
   "source": [
    "import requests, json\n",
    "\n",
    "headers = {\n",
    "    \"Accept\": \"application/json\",\n",
    "    \"Content-Type\": \"application/x-www-form-urlencoded\"\n",
    "}\n",
    "\n",
    "#create invoice\n",
    "\n",
    "createinvoice_url = \"https://api-sandbox.bill.com/api/v2/Crud/Create/Invoice.json\"\n",
    "\n",
    "createinvoice_data = {\n",
    "\"sessionId\": \"{session_id}\",\n",
    "\"devKey\": \"{developer_key}\",\n",
    "\"data\" : '''{\n",
    "    \"obj\": {\n",
    "        \"entity\" : \"Bill\",\n",
    "        \"customerId\" : \"{customer_id}\",\n",
    "        \"invoiceNumber\" : \"{invoice_number}\",\n",
    "        \"invoiceDate\" : \"{YYYY-MM-DD}\",\n",
    "        \"dueDate\" : \"{YYYY-MM-DD}\",\n",
    "        \"invoiceLineItems\" : [{\n",
    "            \"entity\" : \"InvoiceLineItem\",\n",
    "            \"amount\" : {invoice_amount}\n",
    "        }]\n",
    "    }\n",
    "}'''\n",
    "}\n",
    "\n",
    "createinvoice_response = requests.post(createinvoice_url, headers=headers, json=createinvoice_data)\n",
    "\n",
    "invoiceId = json.loads(['response_data']['id'])\n",
    "\n",
    "##send invoice\n",
    "sendinvoice_url = \"https://api-sandbox.bill.com/api/v2/SendInvoice.json\"\n",
    "\n",
    "sendinvoice_data = {\n",
    "\"sessionId\": \"{session_id}\",\n",
    "\"devKey\": \"{developer_key}\",\n",
    "\"data\" : '''{\n",
    "    \"invoiceId\" : invoiceId,\n",
    "    \"headers\" : {\n",
    "        \"fromUserId\" : {user_id},\n",
    "        \"toEmailAddresses\" : [\"{user01@domain.com}\", \"{user02@domain.com}\"],\n",
    "        \"ccMe\" : true,\n",
    "        \"subject\" : \"{subject}\"\n",
    "    },\n",
    "    \"content\" : {\n",
    "        \"body\" : \"{body}\"\n",
    "    }\n",
    "}'''\n",
    "}\n",
    "\n",
    "sendinvoice_response = requests.post(sendinvoice_url, headers=headers, json=sendinvoice_data)\n",
    "\n",
    "getarsummary_url = \"https://api-sandbox.bill.com/api/v2/GetARSummary.json\"\n",
    "\n",
    "getarsummary_data = {\n",
    "\"sessionId\": \"{session_id}\",\n",
    "\"devKey\": \"{developer_key}\",\n",
    "\"data\" : '''{}'''\n",
    "}\n",
    "\n",
    "getarsummary_response = requests.post(getarsummary_url, headers=headers, json=getarsummary_data)\n",
    "\n",
    "print(getarsummary_response.text)\n",
    "\n",
    "url = \"https://api-sandbox.bill.com/api/v2/List/ChartOfAccount.json\"\n",
    "\n",
    "payload = \"data=%7B%22start%22%3A0%2C%22max%22%3A999%7D\"\n",
    "headers = {\n",
    "    \"accept\": \"application/json\",\n",
    "    \"content-type\": \"application/x-www-form-urlencoded\"\n",
    "}\n",
    "\n",
    "response = requests.post(url, data=payload, headers=headers)\n",
    "\n",
    "print(response.text)"
   ]
  }
 ],
 "metadata": {
  "kernelspec": {
   "display_name": "Python 3 (ipykernel)",
   "language": "python",
   "name": "python3"
  },
  "language_info": {
   "codemirror_mode": {
    "name": "ipython",
    "version": 3
   },
   "file_extension": ".py",
   "mimetype": "text/x-python",
   "name": "python",
   "nbconvert_exporter": "python",
   "pygments_lexer": "ipython3",
   "version": "3.8.13"
  }
 },
 "nbformat": 4,
 "nbformat_minor": 5
}
